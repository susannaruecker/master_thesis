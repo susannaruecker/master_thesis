{
 "cells": [
  {
   "cell_type": "code",
   "execution_count": 363,
   "metadata": {},
   "outputs": [
    {
     "name": "stderr",
     "output_type": "stream",
     "text": [
      "[nltk_data] Downloading package stopwords to /Users/Sanna/nltk_data...\n",
      "[nltk_data]   Package stopwords is already up-to-date!\n"
     ]
    }
   ],
   "source": [
    "import transformers\n",
    "import torch\n",
    "import pandas as pd\n",
    "import numpy as np\n",
    "import json\n",
    "from pathlib import Path\n",
    "\n",
    "import spacy\n",
    "import nltk\n",
    "nltk.download('stopwords')\n",
    "\n",
    "from sklearn.model_selection import train_test_split\n",
    "from sklearn.feature_extraction.text import CountVectorizer\n",
    "\n",
    "import scipy.stats as st"
   ]
  },
  {
   "cell_type": "code",
   "execution_count": 4,
   "metadata": {},
   "outputs": [
    {
     "name": "stdout",
     "output_type": "stream",
     "text": [
      "52\n"
     ]
    }
   ],
   "source": [
    "# containing descriptions of columns\n",
    "with open('meta_dict.json', 'r') as f: # descriptions of columns\n",
    "    meta_dict = json.load(f)\n",
    "print(len(meta_dict))"
   ]
  },
  {
   "cell_type": "code",
   "execution_count": 483,
   "metadata": {},
   "outputs": [],
   "source": [
    "ROOT = Path('/Volumes/INWT/Daten_NLP/') # encrypted folder!\n",
    "DATA = ROOT / '200707_aachener_zeitung_modified.csv' # text is already minimal preprocessed"
   ]
  },
  {
   "cell_type": "code",
   "execution_count": 484,
   "metadata": {},
   "outputs": [
    {
     "data": {
      "text/html": [
       "<div>\n",
       "<style scoped>\n",
       "    .dataframe tbody tr th:only-of-type {\n",
       "        vertical-align: middle;\n",
       "    }\n",
       "\n",
       "    .dataframe tbody tr th {\n",
       "        vertical-align: top;\n",
       "    }\n",
       "\n",
       "    .dataframe thead th {\n",
       "        text-align: right;\n",
       "    }\n",
       "</style>\n",
       "<table border=\"1\" class=\"dataframe\">\n",
       "  <thead>\n",
       "    <tr style=\"text-align: right;\">\n",
       "      <th></th>\n",
       "      <th>pageviews</th>\n",
       "      <th>entrances</th>\n",
       "      <th>exits</th>\n",
       "      <th>bounces</th>\n",
       "      <th>timeOnPage</th>\n",
       "      <th>conversions</th>\n",
       "      <th>avgTimeOnPage</th>\n",
       "      <th>stickiness</th>\n",
       "      <th>entranceRate</th>\n",
       "      <th>bounceRate</th>\n",
       "      <th>...</th>\n",
       "      <th>text</th>\n",
       "      <th>titelH1</th>\n",
       "      <th>titelH3</th>\n",
       "      <th>wordcount</th>\n",
       "      <th>category</th>\n",
       "      <th>city</th>\n",
       "      <th>text_preprocessed</th>\n",
       "      <th>nr_tokens</th>\n",
       "      <th>mean_token_length</th>\n",
       "      <th>avgTimeOnPage/wordcount</th>\n",
       "    </tr>\n",
       "    <tr>\n",
       "      <th>articleId</th>\n",
       "      <th></th>\n",
       "      <th></th>\n",
       "      <th></th>\n",
       "      <th></th>\n",
       "      <th></th>\n",
       "      <th></th>\n",
       "      <th></th>\n",
       "      <th></th>\n",
       "      <th></th>\n",
       "      <th></th>\n",
       "      <th></th>\n",
       "      <th></th>\n",
       "      <th></th>\n",
       "      <th></th>\n",
       "      <th></th>\n",
       "      <th></th>\n",
       "      <th></th>\n",
       "      <th></th>\n",
       "      <th></th>\n",
       "      <th></th>\n",
       "      <th></th>\n",
       "    </tr>\n",
       "  </thead>\n",
       "  <tbody>\n",
       "    <tr>\n",
       "      <th>48620281</th>\n",
       "      <td>21</td>\n",
       "      <td>7</td>\n",
       "      <td>12</td>\n",
       "      <td>7</td>\n",
       "      <td>1012</td>\n",
       "      <td>NaN</td>\n",
       "      <td>112.444444</td>\n",
       "      <td>42.857143</td>\n",
       "      <td>33.333333</td>\n",
       "      <td>33.333333</td>\n",
       "      <td>...</td>\n",
       "      <td>München/Stuttgart (dpa/tmn) - Frische Luft und...</td>\n",
       "      <td>Ohne Treter läuft nichts: Die richtigen Schuhe...</td>\n",
       "      <td>NaN</td>\n",
       "      <td>769</td>\n",
       "      <td>vm</td>\n",
       "      <td>München/Stuttgart</td>\n",
       "      <td>Frische Luft und Bewegung: Diese Kombination r...</td>\n",
       "      <td>796</td>\n",
       "      <td>5.359296</td>\n",
       "      <td>0.146222</td>\n",
       "    </tr>\n",
       "    <tr>\n",
       "      <th>48620381</th>\n",
       "      <td>19</td>\n",
       "      <td>6</td>\n",
       "      <td>11</td>\n",
       "      <td>5</td>\n",
       "      <td>1484</td>\n",
       "      <td>NaN</td>\n",
       "      <td>185.500000</td>\n",
       "      <td>42.105263</td>\n",
       "      <td>31.578947</td>\n",
       "      <td>26.315789</td>\n",
       "      <td>...</td>\n",
       "      <td>Berlin/Frankfurt/Main (dpa/tmn) - Der Wecker k...</td>\n",
       "      <td>Ohne Antrieb: Wann ist der Winter-Blues eine D...</td>\n",
       "      <td>NaN</td>\n",
       "      <td>441</td>\n",
       "      <td>vm</td>\n",
       "      <td>Berlin/Frankfurt/Main</td>\n",
       "      <td>Der Wecker klingelt, aufstehen! Doch gerade im...</td>\n",
       "      <td>452</td>\n",
       "      <td>5.938053</td>\n",
       "      <td>0.420635</td>\n",
       "    </tr>\n",
       "    <tr>\n",
       "      <th>48622639</th>\n",
       "      <td>2</td>\n",
       "      <td>2</td>\n",
       "      <td>2</td>\n",
       "      <td>2</td>\n",
       "      <td>0</td>\n",
       "      <td>NaN</td>\n",
       "      <td>0.000000</td>\n",
       "      <td>0.000000</td>\n",
       "      <td>100.000000</td>\n",
       "      <td>100.000000</td>\n",
       "      <td>...</td>\n",
       "      <td>Berlin (dpa/tmn) - Eltern auf der Suche nach e...</td>\n",
       "      <td>Funk statt WLAN: Klassische Babyphones weiter ...</td>\n",
       "      <td>NaN</td>\n",
       "      <td>390</td>\n",
       "      <td>vm</td>\n",
       "      <td>Berlin</td>\n",
       "      <td>Eltern auf der Suche nach einem guten Babyphon...</td>\n",
       "      <td>396</td>\n",
       "      <td>5.848485</td>\n",
       "      <td>0.000000</td>\n",
       "    </tr>\n",
       "    <tr>\n",
       "      <th>48623085</th>\n",
       "      <td>32</td>\n",
       "      <td>9</td>\n",
       "      <td>20</td>\n",
       "      <td>9</td>\n",
       "      <td>974</td>\n",
       "      <td>NaN</td>\n",
       "      <td>81.166667</td>\n",
       "      <td>37.500000</td>\n",
       "      <td>28.125000</td>\n",
       "      <td>28.125000</td>\n",
       "      <td>...</td>\n",
       "      <td>Berlin (dpa/tmn) - Spülmaschinentabs sollen kl...</td>\n",
       "      <td>Warentest: Die besten Spülmaschinen-Multitabs ...</td>\n",
       "      <td>NaN</td>\n",
       "      <td>345</td>\n",
       "      <td>vm</td>\n",
       "      <td>Berlin</td>\n",
       "      <td>Spülmaschinentabs sollen kleine Alleskönner se...</td>\n",
       "      <td>367</td>\n",
       "      <td>5.594005</td>\n",
       "      <td>0.235266</td>\n",
       "    </tr>\n",
       "    <tr>\n",
       "      <th>48623259</th>\n",
       "      <td>24</td>\n",
       "      <td>2</td>\n",
       "      <td>7</td>\n",
       "      <td>2</td>\n",
       "      <td>3797</td>\n",
       "      <td>NaN</td>\n",
       "      <td>223.352941</td>\n",
       "      <td>70.833333</td>\n",
       "      <td>8.333333</td>\n",
       "      <td>8.333333</td>\n",
       "      <td>...</td>\n",
       "      <td>Berlin (dpa/tmn) - Make-up hat heutzutage eine...</td>\n",
       "      <td>Ist das noch natürlich? - Stiftung Warentest p...</td>\n",
       "      <td>NaN</td>\n",
       "      <td>182</td>\n",
       "      <td>vm</td>\n",
       "      <td>Berlin</td>\n",
       "      <td>Make-up hat heutzutage einen Zweck: Es soll da...</td>\n",
       "      <td>183</td>\n",
       "      <td>5.622951</td>\n",
       "      <td>1.227214</td>\n",
       "    </tr>\n",
       "  </tbody>\n",
       "</table>\n",
       "<p>5 rows × 33 columns</p>\n",
       "</div>"
      ],
      "text/plain": [
       "           pageviews  entrances  exits  bounces  timeOnPage  conversions  \\\n",
       "articleId                                                                  \n",
       "48620281          21          7     12        7        1012          NaN   \n",
       "48620381          19          6     11        5        1484          NaN   \n",
       "48622639           2          2      2        2           0          NaN   \n",
       "48623085          32          9     20        9         974          NaN   \n",
       "48623259          24          2      7        2        3797          NaN   \n",
       "\n",
       "           avgTimeOnPage  stickiness  entranceRate  bounceRate  ...  \\\n",
       "articleId                                                       ...   \n",
       "48620281      112.444444   42.857143     33.333333   33.333333  ...   \n",
       "48620381      185.500000   42.105263     31.578947   26.315789  ...   \n",
       "48622639        0.000000    0.000000    100.000000  100.000000  ...   \n",
       "48623085       81.166667   37.500000     28.125000   28.125000  ...   \n",
       "48623259      223.352941   70.833333      8.333333    8.333333  ...   \n",
       "\n",
       "                                                        text  \\\n",
       "articleId                                                      \n",
       "48620281   München/Stuttgart (dpa/tmn) - Frische Luft und...   \n",
       "48620381   Berlin/Frankfurt/Main (dpa/tmn) - Der Wecker k...   \n",
       "48622639   Berlin (dpa/tmn) - Eltern auf der Suche nach e...   \n",
       "48623085   Berlin (dpa/tmn) - Spülmaschinentabs sollen kl...   \n",
       "48623259   Berlin (dpa/tmn) - Make-up hat heutzutage eine...   \n",
       "\n",
       "                                                     titelH1 titelH3  \\\n",
       "articleId                                                              \n",
       "48620281   Ohne Treter läuft nichts: Die richtigen Schuhe...     NaN   \n",
       "48620381   Ohne Antrieb: Wann ist der Winter-Blues eine D...     NaN   \n",
       "48622639   Funk statt WLAN: Klassische Babyphones weiter ...     NaN   \n",
       "48623085   Warentest: Die besten Spülmaschinen-Multitabs ...     NaN   \n",
       "48623259   Ist das noch natürlich? - Stiftung Warentest p...     NaN   \n",
       "\n",
       "          wordcount category                   city  \\\n",
       "articleId                                             \n",
       "48620281        769       vm      München/Stuttgart   \n",
       "48620381        441       vm  Berlin/Frankfurt/Main   \n",
       "48622639        390       vm                 Berlin   \n",
       "48623085        345       vm                 Berlin   \n",
       "48623259        182       vm                 Berlin   \n",
       "\n",
       "                                           text_preprocessed nr_tokens  \\\n",
       "articleId                                                                \n",
       "48620281   Frische Luft und Bewegung: Diese Kombination r...       796   \n",
       "48620381   Der Wecker klingelt, aufstehen! Doch gerade im...       452   \n",
       "48622639   Eltern auf der Suche nach einem guten Babyphon...       396   \n",
       "48623085   Spülmaschinentabs sollen kleine Alleskönner se...       367   \n",
       "48623259   Make-up hat heutzutage einen Zweck: Es soll da...       183   \n",
       "\n",
       "          mean_token_length avgTimeOnPage/wordcount  \n",
       "articleId                                            \n",
       "48620281           5.359296                0.146222  \n",
       "48620381           5.938053                0.420635  \n",
       "48622639           5.848485                0.000000  \n",
       "48623085           5.594005                0.235266  \n",
       "48623259           5.622951                1.227214  \n",
       "\n",
       "[5 rows x 33 columns]"
      ]
     },
     "execution_count": 484,
     "metadata": {},
     "output_type": "execute_result"
    }
   ],
   "source": [
    "df = pd.read_csv(DATA, index_col = 0)\n",
    "df.head()"
   ]
  },
  {
   "cell_type": "code",
   "execution_count": 485,
   "metadata": {},
   "outputs": [
    {
     "data": {
      "text/plain": [
       "(891, 33)"
      ]
     },
     "execution_count": 485,
     "metadata": {},
     "output_type": "execute_result"
    }
   ],
   "source": [
    "df.shape"
   ]
  },
  {
   "cell_type": "code",
   "execution_count": 486,
   "metadata": {},
   "outputs": [
    {
     "data": {
      "text/plain": [
       "pageviews                                                               3047\n",
       "entrances                                                               1119\n",
       "exits                                                                   1693\n",
       "bounces                                                                  924\n",
       "timeOnPage                                                            217337\n",
       "conversions                                                              NaN\n",
       "avgTimeOnPage                                                        160.515\n",
       "stickiness                                                           44.4372\n",
       "entranceRate                                                         36.7246\n",
       "bounceRate                                                           30.3249\n",
       "kategorie                                                           ratgeber\n",
       "rubrik                                                                 recht\n",
       "subRubrik                                                                NaN\n",
       "titel                                        was-arbeitnehmer-wissen-muessen\n",
       "pagePath                   https://www.aachener-zeitung.de/ratgeber/recht...\n",
       "dpaGuid                                                      200226-99-79472\n",
       "categoryCode                                                       dpacat:vm\n",
       "genre                                                        Zusammenfassung\n",
       "geoArea                                                          Deutschland\n",
       "keywords                   Beruf__,__Ratgeber__,__Recht__,__Gesundheit__,...\n",
       "links                                                                    NaN\n",
       "subject                                                               Arbeit\n",
       "teaser                     Die Ausbreitung des neuen Coronavirus' hat zum...\n",
       "text                       Köln (dpa/tmn) - Die neuen Fälle von Ansteckun...\n",
       "titelH1                    Einschränkungen wegen Covid-19: Was Arbeitnehm...\n",
       "titelH3                                                                  NaN\n",
       "wordcount                                                                376\n",
       "category                                                                  vm\n",
       "city                                                                    Köln\n",
       "text_preprocessed          Die neuen Fälle von Ansteckungen mit dem Coron...\n",
       "nr_tokens                                                                379\n",
       "mean_token_length                                                    5.59894\n",
       "avgTimeOnPage/wordcount                                             0.426901\n",
       "Name: 49200513, dtype: object"
      ]
     },
     "execution_count": 486,
     "metadata": {},
     "output_type": "execute_result"
    }
   ],
   "source": [
    "df.loc[49200513]"
   ]
  },
  {
   "cell_type": "code",
   "execution_count": 487,
   "metadata": {},
   "outputs": [
    {
     "data": {
      "text/plain": [
       "'Die neuen Fälle von Ansteckungen mit dem Coronavirus Sars-CoV-2 haben zum Teil Konsequenzen für öffentliche Einrichtungen. In Nordrhein-Westfalen sind als Vorsichtsmaßnahme gegen die Krankheit Covid-19 einzelne Kindergärten und Schulen geschlossen, auf Teneriffa sitzen Urlauber in einem Hotel fest. Was gilt für Arbeitgeber in solchen Situationen - und was sollten Beschäftigte noch dazu wissen? Fall 1: Die Kita oder Schule bleibt geschlossen Wenn Kindergärten und Schulen aus Vorsicht zum Infektionsschutz geschlossen sind, können Arbeitnehmer im Notfall zu Hause bleiben, um ihre Kinder zu betreuen, erklärt Nathalie Oberthür, Fachanwältin für Arbeitsrecht aus Köln. Ob sie dann auch weiter ihr Gehalt bekommen, hängt aber davon ab, ob wirklich keine andere Betreuung möglich war. Paragraf 616 im Bürgerlichen Gesetzbuch (BGB) besagt, dass, wer ohne eigenes Verschulden und aus einem persönlichen Grund verhindert ist und nicht zur Arbeit kommen kann, trotzdem weiter Gehalt bekommt. Die erste Maßnahme sollte in einem solchen Fall aber immer sein, mit dem Arbeitgeber gemeinsam eine Lösung zu finden - etwa Überstunden abzubauen, im Homeoffice zu arbeiten oder Urlaub zu nehmen. Gleiches gilt für diejenigen, die ein krankes Kind zu Hause haben: Kurzfristig können Arbeitnehmer der Arbeit fernbleiben und trotzdem weiter ihr Gehalt bekommen, wenn sie den Nachwuchs betreuen müssen und die Betreuung nicht anderweitig gesichert werden kann. Fall 2: Ich bin auf Reisen unter Quarantäne gestellt Wer auf Reisen ist und zum Beispiel im Hotel über seinen geplanten Abwesenheitszeitraum hinaus unter Quarantäne gestellt wird, kann nicht zur Arbeit kommen. «In einem solchen Fall hat man Anspruch auf Entschädigung», sagt Oberthür. Der Arbeitgeber muss also weiter das Gehalt zahlen, «er holt es sich an anderer Stelle wieder zurück.» Fall 3: Was tun, falls Bahn- und Nahverkehr eingestellt werden? Für einen solchen Fall trägt der Arbeitnehmer das sogenannte Wegerisiko, erklärt Oberthür. Das bedeutet: Er ist in der Regel selbst dafür verantwortlich, pünktlich bei der Arbeit zu sein. Wenn es gar keine Möglichkeit gibt, zur Arbeit zu kommen, «muss man auch in diesem Fall nicht mit Sanktionen rechnen», sagt die Fachanwältin. Der Vergütungsanspruch entfalle aber: Arbeitnehmer bekommen für die Zeit, in der sie nicht bei der Arbeit sind, im Zweifel kein Geld. Fall 4: Der Betrieb schließt als Vorsichtsmaßnahme Auch bei einer solchen Maßnahme bekommen Arbeitnehmer weiter Gehalt, erklärt Oberthür: «Das gehört zum Betriebsrisiko des Arbeitgebers.»'"
      ]
     },
     "execution_count": 487,
     "metadata": {},
     "output_type": "execute_result"
    }
   ],
   "source": [
    "df.loc[49200513, 'text_preprocessed'] # one example"
   ]
  },
  {
   "cell_type": "code",
   "execution_count": 491,
   "metadata": {},
   "outputs": [],
   "source": [
    "df = df.fillna('') # replacing Nan with emtpy string"
   ]
  },
  {
   "cell_type": "code",
   "execution_count": 492,
   "metadata": {},
   "outputs": [
    {
     "name": "stdout",
     "output_type": "stream",
     "text": [
      "<class 'pandas.core.frame.DataFrame'>\n",
      "Int64Index: 891 entries, 48620281 to 51565349\n",
      "Data columns (total 33 columns):\n",
      " #   Column                   Non-Null Count  Dtype  \n",
      "---  ------                   --------------  -----  \n",
      " 0   pageviews                891 non-null    int64  \n",
      " 1   entrances                891 non-null    int64  \n",
      " 2   exits                    891 non-null    int64  \n",
      " 3   bounces                  891 non-null    int64  \n",
      " 4   timeOnPage               891 non-null    int64  \n",
      " 5   conversions              891 non-null    object \n",
      " 6   avgTimeOnPage            891 non-null    float64\n",
      " 7   stickiness               891 non-null    float64\n",
      " 8   entranceRate             891 non-null    float64\n",
      " 9   bounceRate               891 non-null    float64\n",
      " 10  kategorie                891 non-null    object \n",
      " 11  rubrik                   891 non-null    object \n",
      " 12  subRubrik                891 non-null    object \n",
      " 13  titel                    891 non-null    object \n",
      " 14  pagePath                 891 non-null    object \n",
      " 15  dpaGuid                  891 non-null    object \n",
      " 16  categoryCode             891 non-null    object \n",
      " 17  genre                    891 non-null    object \n",
      " 18  geoArea                  891 non-null    object \n",
      " 19  keywords                 891 non-null    object \n",
      " 20  links                    891 non-null    object \n",
      " 21  subject                  891 non-null    object \n",
      " 22  teaser                   891 non-null    object \n",
      " 23  text                     891 non-null    object \n",
      " 24  titelH1                  891 non-null    object \n",
      " 25  titelH3                  891 non-null    object \n",
      " 26  wordcount                891 non-null    int64  \n",
      " 27  category                 891 non-null    object \n",
      " 28  city                     891 non-null    object \n",
      " 29  text_preprocessed        891 non-null    object \n",
      " 30  nr_tokens                891 non-null    int64  \n",
      " 31  mean_token_length        891 non-null    float64\n",
      " 32  avgTimeOnPage/wordcount  891 non-null    float64\n",
      "dtypes: float64(6), int64(7), object(20)\n",
      "memory usage: 276.7+ KB\n"
     ]
    }
   ],
   "source": [
    "df.info()"
   ]
  },
  {
   "cell_type": "code",
   "execution_count": 514,
   "metadata": {},
   "outputs": [
    {
     "data": {
      "text/html": [
       "<div>\n",
       "<style scoped>\n",
       "    .dataframe tbody tr th:only-of-type {\n",
       "        vertical-align: middle;\n",
       "    }\n",
       "\n",
       "    .dataframe tbody tr th {\n",
       "        vertical-align: top;\n",
       "    }\n",
       "\n",
       "    .dataframe thead th {\n",
       "        text-align: right;\n",
       "    }\n",
       "</style>\n",
       "<table border=\"1\" class=\"dataframe\">\n",
       "  <thead>\n",
       "    <tr style=\"text-align: right;\">\n",
       "      <th></th>\n",
       "      <th>pageviews</th>\n",
       "      <th>entrances</th>\n",
       "      <th>exits</th>\n",
       "      <th>bounces</th>\n",
       "      <th>timeOnPage</th>\n",
       "      <th>conversions</th>\n",
       "      <th>avgTimeOnPage</th>\n",
       "      <th>stickiness</th>\n",
       "      <th>entranceRate</th>\n",
       "      <th>bounceRate</th>\n",
       "      <th>...</th>\n",
       "      <th>text</th>\n",
       "      <th>titelH1</th>\n",
       "      <th>titelH3</th>\n",
       "      <th>wordcount</th>\n",
       "      <th>category</th>\n",
       "      <th>city</th>\n",
       "      <th>text_preprocessed</th>\n",
       "      <th>nr_tokens</th>\n",
       "      <th>mean_token_length</th>\n",
       "      <th>avgTimeOnPage/wordcount</th>\n",
       "    </tr>\n",
       "    <tr>\n",
       "      <th>articleId</th>\n",
       "      <th></th>\n",
       "      <th></th>\n",
       "      <th></th>\n",
       "      <th></th>\n",
       "      <th></th>\n",
       "      <th></th>\n",
       "      <th></th>\n",
       "      <th></th>\n",
       "      <th></th>\n",
       "      <th></th>\n",
       "      <th></th>\n",
       "      <th></th>\n",
       "      <th></th>\n",
       "      <th></th>\n",
       "      <th></th>\n",
       "      <th></th>\n",
       "      <th></th>\n",
       "      <th></th>\n",
       "      <th></th>\n",
       "      <th></th>\n",
       "      <th></th>\n",
       "    </tr>\n",
       "  </thead>\n",
       "  <tbody>\n",
       "    <tr>\n",
       "      <th>49200513</th>\n",
       "      <td>3047</td>\n",
       "      <td>1119</td>\n",
       "      <td>1693</td>\n",
       "      <td>924</td>\n",
       "      <td>217337</td>\n",
       "      <td></td>\n",
       "      <td>160.514771</td>\n",
       "      <td>44.437151</td>\n",
       "      <td>36.724647</td>\n",
       "      <td>30.324910</td>\n",
       "      <td>...</td>\n",
       "      <td>Köln (dpa/tmn) - Die neuen Fälle von Ansteckun...</td>\n",
       "      <td>Einschränkungen wegen Covid-19: Was Arbeitnehm...</td>\n",
       "      <td></td>\n",
       "      <td>376</td>\n",
       "      <td>vm</td>\n",
       "      <td>Köln</td>\n",
       "      <td>Die neuen Fälle von Ansteckungen mit dem Coron...</td>\n",
       "      <td>379</td>\n",
       "      <td>5.598945</td>\n",
       "      <td>0.426901</td>\n",
       "    </tr>\n",
       "    <tr>\n",
       "      <th>49473155</th>\n",
       "      <td>1887</td>\n",
       "      <td>712</td>\n",
       "      <td>1006</td>\n",
       "      <td>587</td>\n",
       "      <td>169090</td>\n",
       "      <td></td>\n",
       "      <td>191.929625</td>\n",
       "      <td>46.687864</td>\n",
       "      <td>37.731849</td>\n",
       "      <td>31.107578</td>\n",
       "      <td>...</td>\n",
       "      <td>Düsseldorf (dpa/tmn) - Um die Verbreitung des ...</td>\n",
       "      <td>Veranstaltung wegen Corona abgesagt: Rechte de...</td>\n",
       "      <td></td>\n",
       "      <td>708</td>\n",
       "      <td>vm</td>\n",
       "      <td>Düsseldorf</td>\n",
       "      <td>Um die Verbreitung des neuen Coronavirus Sars-...</td>\n",
       "      <td>718</td>\n",
       "      <td>5.988858</td>\n",
       "      <td>0.271087</td>\n",
       "    </tr>\n",
       "    <tr>\n",
       "      <th>49333693</th>\n",
       "      <td>2487</td>\n",
       "      <td>1877</td>\n",
       "      <td>2032</td>\n",
       "      <td>1699</td>\n",
       "      <td>136927</td>\n",
       "      <td></td>\n",
       "      <td>300.938462</td>\n",
       "      <td>18.295135</td>\n",
       "      <td>75.472457</td>\n",
       "      <td>68.315239</td>\n",
       "      <td>...</td>\n",
       "      <td>Frankfurt/Main/Düsseldorf (dpa/tmn) - Nachdem ...</td>\n",
       "      <td>Covid-19: Welche Regeln gelten im Betrieb?</td>\n",
       "      <td></td>\n",
       "      <td>768</td>\n",
       "      <td>vm</td>\n",
       "      <td>Frankfurt/Main/Düsseldorf</td>\n",
       "      <td>Nachdem mehr und mehr Fälle von Covid-19-Infek...</td>\n",
       "      <td>770</td>\n",
       "      <td>6.137662</td>\n",
       "      <td>0.391847</td>\n",
       "    </tr>\n",
       "    <tr>\n",
       "      <th>49321583</th>\n",
       "      <td>1709</td>\n",
       "      <td>1226</td>\n",
       "      <td>1333</td>\n",
       "      <td>1085</td>\n",
       "      <td>92555</td>\n",
       "      <td></td>\n",
       "      <td>246.156915</td>\n",
       "      <td>22.001170</td>\n",
       "      <td>71.737858</td>\n",
       "      <td>63.487420</td>\n",
       "      <td>...</td>\n",
       "      <td>Berlin (dpa/tmn) - Der neuartige Coronavirus S...</td>\n",
       "      <td>Ansteckung und Vorbeugung: Der Alltag mit Covi...</td>\n",
       "      <td></td>\n",
       "      <td>882</td>\n",
       "      <td>vm</td>\n",
       "      <td>Berlin</td>\n",
       "      <td>Der neuartige Coronavirus Sars-Cov-2 verbreite...</td>\n",
       "      <td>889</td>\n",
       "      <td>5.823397</td>\n",
       "      <td>0.279089</td>\n",
       "    </tr>\n",
       "    <tr>\n",
       "      <th>49232551</th>\n",
       "      <td>1548</td>\n",
       "      <td>580</td>\n",
       "      <td>811</td>\n",
       "      <td>468</td>\n",
       "      <td>77052</td>\n",
       "      <td></td>\n",
       "      <td>104.548168</td>\n",
       "      <td>47.609819</td>\n",
       "      <td>37.467700</td>\n",
       "      <td>30.232558</td>\n",
       "      <td>...</td>\n",
       "      <td>Berlin (dpa/tmn) - Eine Impfung gegen das neue...</td>\n",
       "      <td>Coronavirus: Experten raten zu Impfungen - auc...</td>\n",
       "      <td></td>\n",
       "      <td>253</td>\n",
       "      <td>vm</td>\n",
       "      <td>Berlin</td>\n",
       "      <td>Eine Impfung gegen das neue Coronavirus Sars-C...</td>\n",
       "      <td>252</td>\n",
       "      <td>6.178571</td>\n",
       "      <td>0.413234</td>\n",
       "    </tr>\n",
       "    <tr>\n",
       "      <th>...</th>\n",
       "      <td>...</td>\n",
       "      <td>...</td>\n",
       "      <td>...</td>\n",
       "      <td>...</td>\n",
       "      <td>...</td>\n",
       "      <td>...</td>\n",
       "      <td>...</td>\n",
       "      <td>...</td>\n",
       "      <td>...</td>\n",
       "      <td>...</td>\n",
       "      <td>...</td>\n",
       "      <td>...</td>\n",
       "      <td>...</td>\n",
       "      <td>...</td>\n",
       "      <td>...</td>\n",
       "      <td>...</td>\n",
       "      <td>...</td>\n",
       "      <td>...</td>\n",
       "      <td>...</td>\n",
       "      <td>...</td>\n",
       "      <td>...</td>\n",
       "    </tr>\n",
       "    <tr>\n",
       "      <th>48870125</th>\n",
       "      <td>2</td>\n",
       "      <td>2</td>\n",
       "      <td>2</td>\n",
       "      <td>2</td>\n",
       "      <td>0</td>\n",
       "      <td></td>\n",
       "      <td>0.000000</td>\n",
       "      <td>0.000000</td>\n",
       "      <td>100.000000</td>\n",
       "      <td>100.000000</td>\n",
       "      <td>...</td>\n",
       "      <td>Frankfurt/Main (dpa/tmn) - Wonach sehnen Sie s...</td>\n",
       "      <td>Sinnbild für Exotik: Der Affe im Dschungel als...</td>\n",
       "      <td></td>\n",
       "      <td>415</td>\n",
       "      <td>vm</td>\n",
       "      <td>Frankfurt/Main</td>\n",
       "      <td>Wonach sehnen Sie sich? Den Wald im regnerisch...</td>\n",
       "      <td>427</td>\n",
       "      <td>5.341920</td>\n",
       "      <td>0.000000</td>\n",
       "    </tr>\n",
       "    <tr>\n",
       "      <th>49133249</th>\n",
       "      <td>2</td>\n",
       "      <td>2</td>\n",
       "      <td>2</td>\n",
       "      <td>2</td>\n",
       "      <td>0</td>\n",
       "      <td></td>\n",
       "      <td>0.000000</td>\n",
       "      <td>0.000000</td>\n",
       "      <td>100.000000</td>\n",
       "      <td>100.000000</td>\n",
       "      <td>...</td>\n",
       "      <td>Berlin (dpa/tmn) - Wenn die Schönheitsreparatu...</td>\n",
       "      <td>Schönheitsreparaturen auch in möblierten Wohnu...</td>\n",
       "      <td></td>\n",
       "      <td>148</td>\n",
       "      <td>vm</td>\n",
       "      <td>Berlin</td>\n",
       "      <td>Wenn die Schönheitsreparaturen in einer Wohnun...</td>\n",
       "      <td>143</td>\n",
       "      <td>6.265734</td>\n",
       "      <td>0.000000</td>\n",
       "    </tr>\n",
       "    <tr>\n",
       "      <th>49571165</th>\n",
       "      <td>21</td>\n",
       "      <td>21</td>\n",
       "      <td>21</td>\n",
       "      <td>21</td>\n",
       "      <td>0</td>\n",
       "      <td></td>\n",
       "      <td>0.000000</td>\n",
       "      <td>0.000000</td>\n",
       "      <td>100.000000</td>\n",
       "      <td>100.000000</td>\n",
       "      <td>...</td>\n",
       "      <td>Cottbus/Berlin (dpa/tmn) - Ein Job am Schreibt...</td>\n",
       "      <td>Bei Wind und Wetter im Einsatz: Die Ausbildung...</td>\n",
       "      <td></td>\n",
       "      <td>638</td>\n",
       "      <td>vm</td>\n",
       "      <td>Cottbus/Berlin</td>\n",
       "      <td>Ein Job am Schreibtisch, das wäre nichts für A...</td>\n",
       "      <td>650</td>\n",
       "      <td>5.755385</td>\n",
       "      <td>0.000000</td>\n",
       "    </tr>\n",
       "    <tr>\n",
       "      <th>48811767</th>\n",
       "      <td>4</td>\n",
       "      <td>2</td>\n",
       "      <td>4</td>\n",
       "      <td>2</td>\n",
       "      <td>0</td>\n",
       "      <td></td>\n",
       "      <td>0.000000</td>\n",
       "      <td>0.000000</td>\n",
       "      <td>50.000000</td>\n",
       "      <td>50.000000</td>\n",
       "      <td>...</td>\n",
       "      <td>Delhi (dpa/tmn) - Die Motor Show in Delhi (7. ...</td>\n",
       "      <td>Motor Show in Delhi: Zwischen Messewelt und re...</td>\n",
       "      <td></td>\n",
       "      <td>647</td>\n",
       "      <td>vm</td>\n",
       "      <td>Delhi</td>\n",
       "      <td>Die Motor Show in Delhi (7. bis 12. Februar) i...</td>\n",
       "      <td>644</td>\n",
       "      <td>5.388199</td>\n",
       "      <td>0.000000</td>\n",
       "    </tr>\n",
       "    <tr>\n",
       "      <th>49463865</th>\n",
       "      <td>6</td>\n",
       "      <td>6</td>\n",
       "      <td>6</td>\n",
       "      <td>6</td>\n",
       "      <td>0</td>\n",
       "      <td></td>\n",
       "      <td>0.000000</td>\n",
       "      <td>0.000000</td>\n",
       "      <td>100.000000</td>\n",
       "      <td>100.000000</td>\n",
       "      <td>...</td>\n",
       "      <td>Berlin (dpa/tmn) - E-Scooter werden bevorzugt ...</td>\n",
       "      <td>E-Scooter auf Leihbasis: Für wen lohnt sich di...</td>\n",
       "      <td></td>\n",
       "      <td>610</td>\n",
       "      <td>vm</td>\n",
       "      <td>Berlin</td>\n",
       "      <td>E-Scooter werden bevorzugt für kürzere Strecke...</td>\n",
       "      <td>616</td>\n",
       "      <td>5.475649</td>\n",
       "      <td>0.000000</td>\n",
       "    </tr>\n",
       "  </tbody>\n",
       "</table>\n",
       "<p>891 rows × 33 columns</p>\n",
       "</div>"
      ],
      "text/plain": [
       "           pageviews  entrances  exits  bounces  timeOnPage conversions  \\\n",
       "articleId                                                                 \n",
       "49200513        3047       1119   1693      924      217337               \n",
       "49473155        1887        712   1006      587      169090               \n",
       "49333693        2487       1877   2032     1699      136927               \n",
       "49321583        1709       1226   1333     1085       92555               \n",
       "49232551        1548        580    811      468       77052               \n",
       "...              ...        ...    ...      ...         ...         ...   \n",
       "48870125           2          2      2        2           0               \n",
       "49133249           2          2      2        2           0               \n",
       "49571165          21         21     21       21           0               \n",
       "48811767           4          2      4        2           0               \n",
       "49463865           6          6      6        6           0               \n",
       "\n",
       "           avgTimeOnPage  stickiness  entranceRate  bounceRate  ...  \\\n",
       "articleId                                                       ...   \n",
       "49200513      160.514771   44.437151     36.724647   30.324910  ...   \n",
       "49473155      191.929625   46.687864     37.731849   31.107578  ...   \n",
       "49333693      300.938462   18.295135     75.472457   68.315239  ...   \n",
       "49321583      246.156915   22.001170     71.737858   63.487420  ...   \n",
       "49232551      104.548168   47.609819     37.467700   30.232558  ...   \n",
       "...                  ...         ...           ...         ...  ...   \n",
       "48870125        0.000000    0.000000    100.000000  100.000000  ...   \n",
       "49133249        0.000000    0.000000    100.000000  100.000000  ...   \n",
       "49571165        0.000000    0.000000    100.000000  100.000000  ...   \n",
       "48811767        0.000000    0.000000     50.000000   50.000000  ...   \n",
       "49463865        0.000000    0.000000    100.000000  100.000000  ...   \n",
       "\n",
       "                                                        text  \\\n",
       "articleId                                                      \n",
       "49200513   Köln (dpa/tmn) - Die neuen Fälle von Ansteckun...   \n",
       "49473155   Düsseldorf (dpa/tmn) - Um die Verbreitung des ...   \n",
       "49333693   Frankfurt/Main/Düsseldorf (dpa/tmn) - Nachdem ...   \n",
       "49321583   Berlin (dpa/tmn) - Der neuartige Coronavirus S...   \n",
       "49232551   Berlin (dpa/tmn) - Eine Impfung gegen das neue...   \n",
       "...                                                      ...   \n",
       "48870125   Frankfurt/Main (dpa/tmn) - Wonach sehnen Sie s...   \n",
       "49133249   Berlin (dpa/tmn) - Wenn die Schönheitsreparatu...   \n",
       "49571165   Cottbus/Berlin (dpa/tmn) - Ein Job am Schreibt...   \n",
       "48811767   Delhi (dpa/tmn) - Die Motor Show in Delhi (7. ...   \n",
       "49463865   Berlin (dpa/tmn) - E-Scooter werden bevorzugt ...   \n",
       "\n",
       "                                                     titelH1 titelH3  \\\n",
       "articleId                                                              \n",
       "49200513   Einschränkungen wegen Covid-19: Was Arbeitnehm...           \n",
       "49473155   Veranstaltung wegen Corona abgesagt: Rechte de...           \n",
       "49333693          Covid-19: Welche Regeln gelten im Betrieb?           \n",
       "49321583   Ansteckung und Vorbeugung: Der Alltag mit Covi...           \n",
       "49232551   Coronavirus: Experten raten zu Impfungen - auc...           \n",
       "...                                                      ...     ...   \n",
       "48870125   Sinnbild für Exotik: Der Affe im Dschungel als...           \n",
       "49133249   Schönheitsreparaturen auch in möblierten Wohnu...           \n",
       "49571165   Bei Wind und Wetter im Einsatz: Die Ausbildung...           \n",
       "48811767   Motor Show in Delhi: Zwischen Messewelt und re...           \n",
       "49463865   E-Scooter auf Leihbasis: Für wen lohnt sich di...           \n",
       "\n",
       "          wordcount category                       city  \\\n",
       "articleId                                                 \n",
       "49200513        376       vm                       Köln   \n",
       "49473155        708       vm                 Düsseldorf   \n",
       "49333693        768       vm  Frankfurt/Main/Düsseldorf   \n",
       "49321583        882       vm                     Berlin   \n",
       "49232551        253       vm                     Berlin   \n",
       "...             ...      ...                        ...   \n",
       "48870125        415       vm             Frankfurt/Main   \n",
       "49133249        148       vm                     Berlin   \n",
       "49571165        638       vm             Cottbus/Berlin   \n",
       "48811767        647       vm                      Delhi   \n",
       "49463865        610       vm                     Berlin   \n",
       "\n",
       "                                           text_preprocessed nr_tokens  \\\n",
       "articleId                                                                \n",
       "49200513   Die neuen Fälle von Ansteckungen mit dem Coron...       379   \n",
       "49473155   Um die Verbreitung des neuen Coronavirus Sars-...       718   \n",
       "49333693   Nachdem mehr und mehr Fälle von Covid-19-Infek...       770   \n",
       "49321583   Der neuartige Coronavirus Sars-Cov-2 verbreite...       889   \n",
       "49232551   Eine Impfung gegen das neue Coronavirus Sars-C...       252   \n",
       "...                                                      ...       ...   \n",
       "48870125   Wonach sehnen Sie sich? Den Wald im regnerisch...       427   \n",
       "49133249   Wenn die Schönheitsreparaturen in einer Wohnun...       143   \n",
       "49571165   Ein Job am Schreibtisch, das wäre nichts für A...       650   \n",
       "48811767   Die Motor Show in Delhi (7. bis 12. Februar) i...       644   \n",
       "49463865   E-Scooter werden bevorzugt für kürzere Strecke...       616   \n",
       "\n",
       "          mean_token_length avgTimeOnPage/wordcount  \n",
       "articleId                                            \n",
       "49200513           5.598945                0.426901  \n",
       "49473155           5.988858                0.271087  \n",
       "49333693           6.137662                0.391847  \n",
       "49321583           5.823397                0.279089  \n",
       "49232551           6.178571                0.413234  \n",
       "...                     ...                     ...  \n",
       "48870125           5.341920                0.000000  \n",
       "49133249           6.265734                0.000000  \n",
       "49571165           5.755385                0.000000  \n",
       "48811767           5.388199                0.000000  \n",
       "49463865           5.475649                0.000000  \n",
       "\n",
       "[891 rows x 33 columns]"
      ]
     },
     "execution_count": 514,
     "metadata": {},
     "output_type": "execute_result"
    }
   ],
   "source": [
    "#df.sort_values(by='pageviews', ascending=False)\n",
    "df.sort_values(by='timeOnPage', ascending=False)\n",
    "#df.sort_values(by='avgTimeOnPage', ascending=False)\n",
    "#df.sort_values(by='stickiness', ascending=False)"
   ]
  },
  {
   "cell_type": "markdown",
   "metadata": {},
   "source": [
    "## Modeling pageviews / avgTimeOnPage with (lemmatized) Bag-of-Words (Logistic Regression)"
   ]
  },
  {
   "cell_type": "code",
   "execution_count": 461,
   "metadata": {},
   "outputs": [
    {
     "name": "stdout",
     "output_type": "stream",
     "text": [
      "(712, 33) (89, 33) (90, 33)\n"
     ]
    }
   ],
   "source": [
    "#creating train, dev, test\n",
    "RANDOM_SEED = 123\n",
    "df_train, df_test = train_test_split(df, test_size=0.2, random_state=RANDOM_SEED, shuffle=True)\n",
    "df_dev, df_test = train_test_split(df_test, test_size=0.5, random_state=RANDOM_SEED, shuffle=True)\n",
    "print(df_train.shape, df_dev.shape, df_test.shape)"
   ]
  },
  {
   "cell_type": "code",
   "execution_count": 462,
   "metadata": {},
   "outputs": [],
   "source": [
    "# lemmatizes (punctuation stays in, but the default tokenizer from Count_Vectorizer seems to delete it)\n",
    "class Preprocessor():\n",
    "    def __init__(self):\n",
    "        self.nlp = spacy.load(\"de_core_news_sm\", disable=['parser', 'ner'])\n",
    "        #self.nlp = spacy.load(\"de_core_news_md\", disable=['parser', 'ner'])\n",
    "\n",
    "    def __call__(self, doc):\n",
    "        rt = []\n",
    "        doc = self.nlp(doc)\n",
    "        for token in doc:\n",
    "            rt.append(token.lemma_.lower()) # stopwords stay in, but CountVectorizer uses nltk-list later\n",
    "\n",
    "        return \" \".join(rt)"
   ]
  },
  {
   "cell_type": "code",
   "execution_count": 463,
   "metadata": {},
   "outputs": [
    {
     "name": "stdout",
     "output_type": "stream",
     "text": [
      "['aber', 'alle', 'allem', 'allen', 'aller', 'alles', 'als', 'also', 'am', 'an']\n",
      "232\n",
      "['aber', 'all', 'alle', 'alle', 'all', 'alle', 'als', 'also', 'am', 'an']\n",
      "232\n"
     ]
    }
   ],
   "source": [
    "stopwords = nltk.corpus.stopwords.words('german')\n",
    "print(stopwords[:10])\n",
    "print(len(stopwords))\n",
    "stopwords = [ preprocessor(s) for s in stopwords ]\n",
    "print(stopwords[:10])\n",
    "print(len(stopwords))"
   ]
  },
  {
   "cell_type": "code",
   "execution_count": 464,
   "metadata": {},
   "outputs": [],
   "source": [
    "preprocessor = Preprocessor()\n",
    "vectorizer = CountVectorizer(analyzer='word',\n",
    "                             preprocessor=preprocessor,\n",
    "                             ngram_range=(1, 5),\n",
    "                             min_df=5,\n",
    "                             max_features=10000,\n",
    "                             stop_words=stopwords\n",
    "                            )"
   ]
  },
  {
   "cell_type": "code",
   "execution_count": 494,
   "metadata": {},
   "outputs": [],
   "source": [
    "# define text for features: text? text_preprocessed? titelH1?\n",
    "\n",
    "feature = 'text_preprocessed'\n",
    "#feature = 'text'\n",
    "#feature = 'titelH1'\n",
    "#feature = 'teaser' # note: not all have 'teaser' but I replaced Nan wih empty string \"\"\n",
    "\n",
    "X_train = vectorizer.fit_transform(df_train[feature])"
   ]
  },
  {
   "cell_type": "code",
   "execution_count": 497,
   "metadata": {},
   "outputs": [
    {
     "data": {
      "text/plain": [
       "['30 sekunde',\n",
       " '300',\n",
       " '3000',\n",
       " '31',\n",
       " '35',\n",
       " '350',\n",
       " '37',\n",
       " '39',\n",
       " '40',\n",
       " '40 000',\n",
       " '400',\n",
       " '42',\n",
       " '43',\n",
       " '45',\n",
       " '46',\n",
       " '49',\n",
       " '50',\n",
       " '50 euro',\n",
       " '50 meter',\n",
       " '50 prozent']"
      ]
     },
     "execution_count": 497,
     "metadata": {},
     "output_type": "execute_result"
    }
   ],
   "source": [
    "vectorizer.get_feature_names()[100:120] # just some n-grams"
   ]
  },
  {
   "cell_type": "code",
   "execution_count": 498,
   "metadata": {},
   "outputs": [],
   "source": [
    "X_dev = vectorizer.transform(df_dev[feature])\n",
    "X_test = vectorizer.transform(df_test[feature])"
   ]
  },
  {
   "cell_type": "code",
   "execution_count": 499,
   "metadata": {},
   "outputs": [],
   "source": [
    "X_train, X_dev, X_test = X_train.toarray(), X_dev.toarray(), X_test.toarray()"
   ]
  },
  {
   "cell_type": "code",
   "execution_count": 500,
   "metadata": {},
   "outputs": [
    {
     "data": {
      "text/plain": [
       "((712, 4580), (89, 4580), (90, 4580))"
      ]
     },
     "execution_count": 500,
     "metadata": {},
     "output_type": "execute_result"
    }
   ],
   "source": [
    "X_train.shape, X_dev.shape, X_test.shape"
   ]
  },
  {
   "cell_type": "code",
   "execution_count": 515,
   "metadata": {},
   "outputs": [],
   "source": [
    "# define the target labels\n",
    "target = 'timeOnPage'\n",
    "#target =  'pageviews'\n",
    "#target = 'avgTimeOnPage'\n",
    "#target = 'stickiness'\n",
    "\n",
    "y_train = np.array(df_train[target])\n",
    "y_dev = np.array(df_dev[target])\n",
    "y_test = np.array(df_test[target])"
   ]
  },
  {
   "cell_type": "code",
   "execution_count": 516,
   "metadata": {},
   "outputs": [
    {
     "data": {
      "text/plain": [
       "((712,), (89,), (90,))"
      ]
     },
     "execution_count": 516,
     "metadata": {},
     "output_type": "execute_result"
    }
   ],
   "source": [
    "y_train.shape, y_dev.shape, y_test.shape"
   ]
  },
  {
   "cell_type": "code",
   "execution_count": 517,
   "metadata": {},
   "outputs": [],
   "source": [
    "from sklearn.linear_model import LogisticRegression, Ridge, LinearRegression, SGDRegressor"
   ]
  },
  {
   "cell_type": "code",
   "execution_count": 518,
   "metadata": {},
   "outputs": [],
   "source": [
    "# choose model ???\n",
    "#model = LogisticRegression(max_iter=10000)\n",
    "model = Ridge()\n",
    "#model = LinearRegression()\n",
    "#model = SGDRegressor()"
   ]
  },
  {
   "cell_type": "code",
   "execution_count": 519,
   "metadata": {},
   "outputs": [
    {
     "data": {
      "text/plain": [
       "Ridge()"
      ]
     },
     "execution_count": 519,
     "metadata": {},
     "output_type": "execute_result"
    }
   ],
   "source": [
    "model.fit(X_train, y_train)"
   ]
  },
  {
   "cell_type": "code",
   "execution_count": 520,
   "metadata": {},
   "outputs": [],
   "source": [
    "# predict for dev set\n",
    "pred_dev = model.predict(X_dev)"
   ]
  },
  {
   "cell_type": "code",
   "execution_count": 521,
   "metadata": {},
   "outputs": [
    {
     "data": {
      "text/plain": [
       "array([ 4.20962959e+04,  5.61771686e+02,  6.18724779e+03,  2.24673152e+03,\n",
       "       -3.78684791e+02,  3.37787517e+03, -1.74386909e+03,  1.13827935e+03,\n",
       "        1.22911070e+03, -1.30433197e+03,  3.25023580e+03, -3.70038085e+03,\n",
       "       -1.73331072e+03,  1.64354535e+03,  3.87576193e+03,  2.48131840e+02,\n",
       "        1.29126878e+03,  1.25634221e+03,  4.33253027e+01,  1.25380374e+03,\n",
       "        6.29259682e+03, -1.79649042e+03,  4.52123175e+03, -2.46520311e+03,\n",
       "        1.80833105e+03,  6.02626270e+02, -3.46888282e+03, -2.28633961e+03,\n",
       "       -3.16622658e+03,  4.98376299e+03,  1.60032694e+03,  7.50229834e+03,\n",
       "        2.68606716e+03,  1.43716732e+04, -3.76047759e+03,  6.34330655e+02,\n",
       "       -1.15182628e+03,  3.98835168e+03,  6.89867156e+03, -1.72014262e+03,\n",
       "        3.70031948e+03,  6.31788799e+02,  2.14121286e+03,  4.92033019e+03,\n",
       "        2.65979123e+03, -4.73622211e+03, -6.37539790e+02,  1.87571912e+04,\n",
       "        4.79583692e+03, -2.42894575e+03,  1.10492588e+04, -9.17251297e+03,\n",
       "        1.28195328e+03,  8.67343007e+03,  1.28355353e+03, -1.74993101e+01,\n",
       "        8.16879615e+03,  1.14435855e+03,  1.48566781e+03,  2.50660971e+03,\n",
       "        1.65769649e+03,  1.00926639e+04, -4.75052400e+03, -3.16804334e+02,\n",
       "        2.39884589e+03, -1.56843059e+03, -8.61709748e+01, -4.50061090e+02,\n",
       "        3.25183335e+03, -1.38803162e+03,  2.58516680e+03,  5.44966062e+03,\n",
       "        6.27285094e+03,  2.19315393e+03, -1.34759300e+03,  2.11510720e+03,\n",
       "        1.48601250e+02,  1.10562650e+04,  1.65835471e+04,  9.48542398e+03,\n",
       "        5.76936700e+03,  1.87092929e+03, -3.17748548e+03, -5.14902881e+03,\n",
       "       -1.03945840e+03,  3.97943697e+03, -2.84636207e+03, -3.76780769e+03,\n",
       "        5.35132839e+03])"
      ]
     },
     "execution_count": 521,
     "metadata": {},
     "output_type": "execute_result"
    }
   ],
   "source": [
    "pred_dev"
   ]
  },
  {
   "cell_type": "code",
   "execution_count": 522,
   "metadata": {},
   "outputs": [
    {
     "data": {
      "text/plain": [
       "array([217337,    912,    428,    116,      0,   1133,   1490,   1393,\n",
       "           78,    235,      0,    948,     56,  20987,     90,    173,\n",
       "          255,  10379,    907,   8279,    240,    399,   2225,    427,\n",
       "         1503,    951,    679,    239,   1003,     30,    204,    643,\n",
       "          799,   4095,   1049,    373,   2207,    133,    794,    265,\n",
       "          272,     29,    108,    278,   1193,     62,     83,   2224,\n",
       "          209,    585,    257,   1786,    724,   2302,   1240,    264,\n",
       "          714,   2666,    247,   3936,    490,    950,      0,   1860,\n",
       "         1018,     98,    749,    267,   1444,    702,     68,      0,\n",
       "           99,     60,    691,    442,   1995,    390,   6884,    774,\n",
       "            0,    761,   1508,   3243,      0,   1148,     31,   1399,\n",
       "         1484])"
      ]
     },
     "execution_count": 522,
     "metadata": {},
     "output_type": "execute_result"
    }
   ],
   "source": [
    "np.array(y_dev)"
   ]
  },
  {
   "cell_type": "code",
   "execution_count": 523,
   "metadata": {},
   "outputs": [
    {
     "data": {
      "text/plain": [
       "(0.6770499825890346, 3.234888149141273e-13)"
      ]
     },
     "execution_count": 523,
     "metadata": {},
     "output_type": "execute_result"
    }
   ],
   "source": [
    "st.pearsonr(pred_dev, y_dev)"
   ]
  },
  {
   "cell_type": "code",
   "execution_count": 524,
   "metadata": {},
   "outputs": [],
   "source": [
    "from sklearn.metrics import mean_squared_error\n",
    "from sklearn.metrics import mean_absolute_error\n",
    "from sklearn.metrics import explained_variance_score"
   ]
  },
  {
   "cell_type": "code",
   "execution_count": 525,
   "metadata": {},
   "outputs": [
    {
     "data": {
      "text/plain": [
       "371739874.8163862"
      ]
     },
     "execution_count": 525,
     "metadata": {},
     "output_type": "execute_result"
    }
   ],
   "source": [
    "mean_squared_error(pred_dev, y_dev) #, squared=False) # hard to interpret"
   ]
  },
  {
   "cell_type": "code",
   "execution_count": 526,
   "metadata": {},
   "outputs": [
    {
     "data": {
      "text/plain": [
       "5716.443798718035"
      ]
     },
     "execution_count": 526,
     "metadata": {},
     "output_type": "execute_result"
    }
   ],
   "source": [
    "mean_absolute_error(pred_dev, y_dev) # hard to interpret"
   ]
  },
  {
   "cell_type": "code",
   "execution_count": 527,
   "metadata": {},
   "outputs": [
    {
     "data": {
      "text/plain": [
       "-8.380319763788506"
      ]
     },
     "execution_count": 527,
     "metadata": {},
     "output_type": "execute_result"
    }
   ],
   "source": [
    "explained_variance_score(pred_dev, y_dev) # what does this number mean? ... (1.0 is best)"
   ]
  },
  {
   "cell_type": "code",
   "execution_count": 398,
   "metadata": {},
   "outputs": [
    {
     "data": {
      "text/plain": [
       "pageviews                                                                  1\n",
       "entrances                                                                  0\n",
       "exits                                                                      1\n",
       "bounces                                                                    0\n",
       "timeOnPage                                                                 0\n",
       "conversions                                                              NaN\n",
       "avgTimeOnPage                                                              0\n",
       "stickiness                                                                 0\n",
       "entranceRate                                                               0\n",
       "bounceRate                                                                 0\n",
       "kategorie                                                           ratgeber\n",
       "rubrik                                                                reisen\n",
       "subRubrik                                                                NaN\n",
       "titel                      bei-skitouren-droht-auf-gesperrten-abfahrten-l...\n",
       "pagePath                   https://www.aachener-zeitung.de/ratgeber/reise...\n",
       "dpaGuid                                                     200303-99-168685\n",
       "categoryCode                                                       dpacat:vm\n",
       "genre                                                                Meldung\n",
       "geoArea                                                          Deutschland\n",
       "keywords                   Wintersport__,__Ratgeber__,__Gesundheit__,__Sk...\n",
       "links                              DAV zu Windenseilen auf gesperrten Pisten\n",
       "subject                                                            Tourismus\n",
       "teaser                     Den Zweiklang an Aufstieg und Abfahrt schätzen...\n",
       "text                       Planegg (dpa/tmn) - Viele Skitourengeher scheu...\n",
       "titelH1                    Skitouren: Auf gesperrten Abfahrten droht Lebe...\n",
       "titelH3                                                                  NaN\n",
       "wordcount                                                                182\n",
       "category                                                                  vm\n",
       "city                                                                 Planegg\n",
       "text_preprocessed          Viele Skitourengeher scheuen die Risiken des o...\n",
       "nr_tokens                                                                179\n",
       "mean_token_length                                                     5.8324\n",
       "avgTimeOnPage/wordcount                                                    0\n",
       "Name: 49344291, dtype: object"
      ]
     },
     "execution_count": 398,
     "metadata": {},
     "output_type": "execute_result"
    }
   ],
   "source": [
    "df_dev.iloc[4] # Example where timeOnPage = 0 (boring article! :D)"
   ]
  },
  {
   "cell_type": "code",
   "execution_count": 192,
   "metadata": {},
   "outputs": [],
   "source": [
    "#vectorizer.stop_words_ # shows not used features (in too many/little documents)\n",
    "#vectorizer.vocabulary_ # values are the indices! (not frequency or anything)"
   ]
  },
  {
   "cell_type": "markdown",
   "metadata": {},
   "source": [
    "## Beobachtung"
   ]
  },
  {
   "cell_type": "markdown",
   "metadata": {},
   "source": [
    "Bei timeOnPage ist das Modell sehr gut, bei pageviews allerings nicht so sehr. Woran liegt das? Lernt das Modell vielleicht eher anhand der reinen Textlänge und nicht spezifische Wörter? Hier wäre vielleicht Shap gut...\n",
    "\n",
    "Bei pageviews vielleicht eher den Titel oder Teaser als den Text selbst nehmen? (--> etwas besser, dann aber min_df ändern)\n",
    "\n",
    "Welches Label ist das sinnvollste?\n",
    "\n",
    "Welche Metrik? Pearson Korrelation? Absolute Error?\n",
    "\n",
    "Vielleicht mal einfach die Keywords, Subjekts aufsplitten und als Features nehmen?"
   ]
  },
  {
   "cell_type": "code",
   "execution_count": null,
   "metadata": {},
   "outputs": [],
   "source": []
  },
  {
   "cell_type": "code",
   "execution_count": null,
   "metadata": {},
   "outputs": [],
   "source": []
  }
 ],
 "metadata": {
  "kernelspec": {
   "display_name": "Python 3",
   "language": "python",
   "name": "python3"
  },
  "language_info": {
   "codemirror_mode": {
    "name": "ipython",
    "version": 3
   },
   "file_extension": ".py",
   "mimetype": "text/x-python",
   "name": "python",
   "nbconvert_exporter": "python",
   "pygments_lexer": "ipython3",
   "version": "3.7.7"
  }
 },
 "nbformat": 4,
 "nbformat_minor": 4
}
