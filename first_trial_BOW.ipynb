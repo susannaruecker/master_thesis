{
 "cells": [
  {
   "cell_type": "code",
   "execution_count": 640,
   "metadata": {},
   "outputs": [
    {
     "name": "stderr",
     "output_type": "stream",
     "text": [
      "[nltk_data] Downloading package stopwords to /Users/Sanna/nltk_data...\n",
      "[nltk_data]   Package stopwords is already up-to-date!\n"
     ]
    }
   ],
   "source": [
    "import pandas as pd\n",
    "import numpy as np\n",
    "import json\n",
    "from pathlib import Path\n",
    "\n",
    "import spacy\n",
    "import nltk\n",
    "nltk.download('stopwords')\n",
    "\n",
    "from sklearn.model_selection import train_test_split\n",
    "from sklearn.feature_extraction.text import CountVectorizer\n",
    "\n",
    "import scipy.stats as st"
   ]
  },
  {
   "cell_type": "code",
   "execution_count": 641,
   "metadata": {},
   "outputs": [
    {
     "name": "stdout",
     "output_type": "stream",
     "text": [
      "52\n"
     ]
    }
   ],
   "source": [
    "# containing descriptions of columns\n",
    "with open('meta_dict.json', 'r') as f: # descriptions of columns\n",
    "    meta_dict = json.load(f)\n",
    "print(len(meta_dict))"
   ]
  },
  {
   "cell_type": "code",
   "execution_count": 726,
   "metadata": {},
   "outputs": [],
   "source": [
    "ROOT = Path('/Volumes/INWT/Daten_NLP/') # encrypted folder!\n",
    "DATA = ROOT / '200707_aachener_zeitung_modified.csv' # text is already minimal preprocessed"
   ]
  },
  {
   "cell_type": "code",
   "execution_count": 727,
   "metadata": {},
   "outputs": [
    {
     "data": {
      "text/html": [
       "<div>\n",
       "<style scoped>\n",
       "    .dataframe tbody tr th:only-of-type {\n",
       "        vertical-align: middle;\n",
       "    }\n",
       "\n",
       "    .dataframe tbody tr th {\n",
       "        vertical-align: top;\n",
       "    }\n",
       "\n",
       "    .dataframe thead th {\n",
       "        text-align: right;\n",
       "    }\n",
       "</style>\n",
       "<table border=\"1\" class=\"dataframe\">\n",
       "  <thead>\n",
       "    <tr style=\"text-align: right;\">\n",
       "      <th></th>\n",
       "      <th>pageviews</th>\n",
       "      <th>entrances</th>\n",
       "      <th>exits</th>\n",
       "      <th>bounces</th>\n",
       "      <th>timeOnPage</th>\n",
       "      <th>conversions</th>\n",
       "      <th>avgTimeOnPage</th>\n",
       "      <th>stickiness</th>\n",
       "      <th>entranceRate</th>\n",
       "      <th>bounceRate</th>\n",
       "      <th>...</th>\n",
       "      <th>titelH3</th>\n",
       "      <th>wordcount</th>\n",
       "      <th>category</th>\n",
       "      <th>city</th>\n",
       "      <th>text_preprocessed</th>\n",
       "      <th>avgTimeOnPage/wordcount</th>\n",
       "      <th>nr_tokens</th>\n",
       "      <th>mean_token_length</th>\n",
       "      <th>nr_tokens_teaser</th>\n",
       "      <th>nr_tokens_titelH1</th>\n",
       "    </tr>\n",
       "    <tr>\n",
       "      <th>articleId</th>\n",
       "      <th></th>\n",
       "      <th></th>\n",
       "      <th></th>\n",
       "      <th></th>\n",
       "      <th></th>\n",
       "      <th></th>\n",
       "      <th></th>\n",
       "      <th></th>\n",
       "      <th></th>\n",
       "      <th></th>\n",
       "      <th></th>\n",
       "      <th></th>\n",
       "      <th></th>\n",
       "      <th></th>\n",
       "      <th></th>\n",
       "      <th></th>\n",
       "      <th></th>\n",
       "      <th></th>\n",
       "      <th></th>\n",
       "      <th></th>\n",
       "      <th></th>\n",
       "    </tr>\n",
       "  </thead>\n",
       "  <tbody>\n",
       "    <tr>\n",
       "      <th>48620281</th>\n",
       "      <td>21</td>\n",
       "      <td>7</td>\n",
       "      <td>12</td>\n",
       "      <td>7</td>\n",
       "      <td>1012</td>\n",
       "      <td>NaN</td>\n",
       "      <td>112.444444</td>\n",
       "      <td>42.857143</td>\n",
       "      <td>33.333333</td>\n",
       "      <td>33.333333</td>\n",
       "      <td>...</td>\n",
       "      <td>NaN</td>\n",
       "      <td>769</td>\n",
       "      <td>vm</td>\n",
       "      <td>München/Stuttgart</td>\n",
       "      <td>Frische Luft und Bewegung: Diese Kombination r...</td>\n",
       "      <td>0.146222</td>\n",
       "      <td>796</td>\n",
       "      <td>5.359296</td>\n",
       "      <td>29</td>\n",
       "      <td>9</td>\n",
       "    </tr>\n",
       "    <tr>\n",
       "      <th>48620381</th>\n",
       "      <td>19</td>\n",
       "      <td>6</td>\n",
       "      <td>11</td>\n",
       "      <td>5</td>\n",
       "      <td>1484</td>\n",
       "      <td>NaN</td>\n",
       "      <td>185.500000</td>\n",
       "      <td>42.105263</td>\n",
       "      <td>31.578947</td>\n",
       "      <td>26.315789</td>\n",
       "      <td>...</td>\n",
       "      <td>NaN</td>\n",
       "      <td>441</td>\n",
       "      <td>vm</td>\n",
       "      <td>Berlin/Frankfurt/Main</td>\n",
       "      <td>Der Wecker klingelt, aufstehen! Doch gerade im...</td>\n",
       "      <td>0.420635</td>\n",
       "      <td>452</td>\n",
       "      <td>5.938053</td>\n",
       "      <td>33</td>\n",
       "      <td>8</td>\n",
       "    </tr>\n",
       "    <tr>\n",
       "      <th>48622639</th>\n",
       "      <td>2</td>\n",
       "      <td>2</td>\n",
       "      <td>2</td>\n",
       "      <td>2</td>\n",
       "      <td>0</td>\n",
       "      <td>NaN</td>\n",
       "      <td>0.000000</td>\n",
       "      <td>0.000000</td>\n",
       "      <td>100.000000</td>\n",
       "      <td>100.000000</td>\n",
       "      <td>...</td>\n",
       "      <td>NaN</td>\n",
       "      <td>390</td>\n",
       "      <td>vm</td>\n",
       "      <td>Berlin</td>\n",
       "      <td>Eltern auf der Suche nach einem guten Babyphon...</td>\n",
       "      <td>0.000000</td>\n",
       "      <td>396</td>\n",
       "      <td>5.848485</td>\n",
       "      <td>30</td>\n",
       "      <td>7</td>\n",
       "    </tr>\n",
       "    <tr>\n",
       "      <th>48623085</th>\n",
       "      <td>32</td>\n",
       "      <td>9</td>\n",
       "      <td>20</td>\n",
       "      <td>9</td>\n",
       "      <td>974</td>\n",
       "      <td>NaN</td>\n",
       "      <td>81.166667</td>\n",
       "      <td>37.500000</td>\n",
       "      <td>28.125000</td>\n",
       "      <td>28.125000</td>\n",
       "      <td>...</td>\n",
       "      <td>NaN</td>\n",
       "      <td>345</td>\n",
       "      <td>vm</td>\n",
       "      <td>Berlin</td>\n",
       "      <td>Spülmaschinentabs sollen kleine Alleskönner se...</td>\n",
       "      <td>0.235266</td>\n",
       "      <td>367</td>\n",
       "      <td>5.594005</td>\n",
       "      <td>30</td>\n",
       "      <td>7</td>\n",
       "    </tr>\n",
       "    <tr>\n",
       "      <th>48623259</th>\n",
       "      <td>24</td>\n",
       "      <td>2</td>\n",
       "      <td>7</td>\n",
       "      <td>2</td>\n",
       "      <td>3797</td>\n",
       "      <td>NaN</td>\n",
       "      <td>223.352941</td>\n",
       "      <td>70.833333</td>\n",
       "      <td>8.333333</td>\n",
       "      <td>8.333333</td>\n",
       "      <td>...</td>\n",
       "      <td>NaN</td>\n",
       "      <td>182</td>\n",
       "      <td>vm</td>\n",
       "      <td>Berlin</td>\n",
       "      <td>Make-up hat heutzutage einen Zweck: Es soll da...</td>\n",
       "      <td>1.227214</td>\n",
       "      <td>183</td>\n",
       "      <td>5.622951</td>\n",
       "      <td>22</td>\n",
       "      <td>8</td>\n",
       "    </tr>\n",
       "  </tbody>\n",
       "</table>\n",
       "<p>5 rows × 35 columns</p>\n",
       "</div>"
      ],
      "text/plain": [
       "           pageviews  entrances  exits  bounces  timeOnPage  conversions  \\\n",
       "articleId                                                                  \n",
       "48620281          21          7     12        7        1012          NaN   \n",
       "48620381          19          6     11        5        1484          NaN   \n",
       "48622639           2          2      2        2           0          NaN   \n",
       "48623085          32          9     20        9         974          NaN   \n",
       "48623259          24          2      7        2        3797          NaN   \n",
       "\n",
       "           avgTimeOnPage  stickiness  entranceRate  bounceRate  ... titelH3  \\\n",
       "articleId                                                       ...           \n",
       "48620281      112.444444   42.857143     33.333333   33.333333  ...     NaN   \n",
       "48620381      185.500000   42.105263     31.578947   26.315789  ...     NaN   \n",
       "48622639        0.000000    0.000000    100.000000  100.000000  ...     NaN   \n",
       "48623085       81.166667   37.500000     28.125000   28.125000  ...     NaN   \n",
       "48623259      223.352941   70.833333      8.333333    8.333333  ...     NaN   \n",
       "\n",
       "          wordcount category                   city  \\\n",
       "articleId                                             \n",
       "48620281        769       vm      München/Stuttgart   \n",
       "48620381        441       vm  Berlin/Frankfurt/Main   \n",
       "48622639        390       vm                 Berlin   \n",
       "48623085        345       vm                 Berlin   \n",
       "48623259        182       vm                 Berlin   \n",
       "\n",
       "                                           text_preprocessed  \\\n",
       "articleId                                                      \n",
       "48620281   Frische Luft und Bewegung: Diese Kombination r...   \n",
       "48620381   Der Wecker klingelt, aufstehen! Doch gerade im...   \n",
       "48622639   Eltern auf der Suche nach einem guten Babyphon...   \n",
       "48623085   Spülmaschinentabs sollen kleine Alleskönner se...   \n",
       "48623259   Make-up hat heutzutage einen Zweck: Es soll da...   \n",
       "\n",
       "          avgTimeOnPage/wordcount nr_tokens mean_token_length  \\\n",
       "articleId                                                       \n",
       "48620281                 0.146222       796          5.359296   \n",
       "48620381                 0.420635       452          5.938053   \n",
       "48622639                 0.000000       396          5.848485   \n",
       "48623085                 0.235266       367          5.594005   \n",
       "48623259                 1.227214       183          5.622951   \n",
       "\n",
       "          nr_tokens_teaser nr_tokens_titelH1  \n",
       "articleId                                     \n",
       "48620281                29                 9  \n",
       "48620381                33                 8  \n",
       "48622639                30                 7  \n",
       "48623085                30                 7  \n",
       "48623259                22                 8  \n",
       "\n",
       "[5 rows x 35 columns]"
      ]
     },
     "execution_count": 727,
     "metadata": {},
     "output_type": "execute_result"
    }
   ],
   "source": [
    "df = pd.read_csv(DATA, index_col = 0)\n",
    "df.head()"
   ]
  },
  {
   "cell_type": "code",
   "execution_count": 731,
   "metadata": {},
   "outputs": [],
   "source": [
    "df = df.fillna('') # replacing Nan with emtpy string\n",
    "#df.info()"
   ]
  },
  {
   "cell_type": "code",
   "execution_count": 733,
   "metadata": {},
   "outputs": [],
   "source": [
    "#df.loc[49200513]"
   ]
  },
  {
   "cell_type": "code",
   "execution_count": 724,
   "metadata": {},
   "outputs": [
    {
     "data": {
      "text/plain": [
       "'Die neuen Fälle von Ansteckungen mit dem Coronavirus Sars-CoV-2 haben zum Teil Konsequenzen für öffentliche Einrichtungen. In Nordrhein-Westfalen sind als Vorsichtsmaßnahme gegen die Krankheit Covid-19 einzelne Kindergärten und Schulen geschlossen, auf Teneriffa sitzen Urlauber in einem Hotel fest. Was gilt für Arbeitgeber in solchen Situationen - und was sollten Beschäftigte noch dazu wissen? Fall 1: Die Kita oder Schule bleibt geschlossen Wenn Kindergärten und Schulen aus Vorsicht zum Infektionsschutz geschlossen sind, können Arbeitnehmer im Notfall zu Hause bleiben, um ihre Kinder zu betreuen, erklärt Nathalie Oberthür, Fachanwältin für Arbeitsrecht aus Köln. Ob sie dann auch weiter ihr Gehalt bekommen, hängt aber davon ab, ob wirklich keine andere Betreuung möglich war. Paragraf 616 im Bürgerlichen Gesetzbuch (BGB) besagt, dass, wer ohne eigenes Verschulden und aus einem persönlichen Grund verhindert ist und nicht zur Arbeit kommen kann, trotzdem weiter Gehalt bekommt. Die erste Maßnahme sollte in einem solchen Fall aber immer sein, mit dem Arbeitgeber gemeinsam eine Lösung zu finden - etwa Überstunden abzubauen, im Homeoffice zu arbeiten oder Urlaub zu nehmen. Gleiches gilt für diejenigen, die ein krankes Kind zu Hause haben: Kurzfristig können Arbeitnehmer der Arbeit fernbleiben und trotzdem weiter ihr Gehalt bekommen, wenn sie den Nachwuchs betreuen müssen und die Betreuung nicht anderweitig gesichert werden kann. Fall 2: Ich bin auf Reisen unter Quarantäne gestellt Wer auf Reisen ist und zum Beispiel im Hotel über seinen geplanten Abwesenheitszeitraum hinaus unter Quarantäne gestellt wird, kann nicht zur Arbeit kommen. «In einem solchen Fall hat man Anspruch auf Entschädigung», sagt Oberthür. Der Arbeitgeber muss also weiter das Gehalt zahlen, «er holt es sich an anderer Stelle wieder zurück.» Fall 3: Was tun, falls Bahn- und Nahverkehr eingestellt werden? Für einen solchen Fall trägt der Arbeitnehmer das sogenannte Wegerisiko, erklärt Oberthür. Das bedeutet: Er ist in der Regel selbst dafür verantwortlich, pünktlich bei der Arbeit zu sein. Wenn es gar keine Möglichkeit gibt, zur Arbeit zu kommen, «muss man auch in diesem Fall nicht mit Sanktionen rechnen», sagt die Fachanwältin. Der Vergütungsanspruch entfalle aber: Arbeitnehmer bekommen für die Zeit, in der sie nicht bei der Arbeit sind, im Zweifel kein Geld. Fall 4: Der Betrieb schließt als Vorsichtsmaßnahme Auch bei einer solchen Maßnahme bekommen Arbeitnehmer weiter Gehalt, erklärt Oberthür: «Das gehört zum Betriebsrisiko des Arbeitgebers.»'"
      ]
     },
     "execution_count": 724,
     "metadata": {},
     "output_type": "execute_result"
    }
   ],
   "source": [
    "df.loc[49200513, 'text_preprocessed'] # one example"
   ]
  },
  {
   "cell_type": "code",
   "execution_count": 734,
   "metadata": {},
   "outputs": [
    {
     "name": "stdout",
     "output_type": "stream",
     "text": [
      "<class 'pandas.core.frame.DataFrame'>\n",
      "Int64Index: 891 entries, 48620281 to 51565349\n",
      "Data columns (total 35 columns):\n",
      " #   Column                   Non-Null Count  Dtype  \n",
      "---  ------                   --------------  -----  \n",
      " 0   pageviews                891 non-null    int64  \n",
      " 1   entrances                891 non-null    int64  \n",
      " 2   exits                    891 non-null    int64  \n",
      " 3   bounces                  891 non-null    int64  \n",
      " 4   timeOnPage               891 non-null    int64  \n",
      " 5   conversions              891 non-null    object \n",
      " 6   avgTimeOnPage            891 non-null    float64\n",
      " 7   stickiness               891 non-null    float64\n",
      " 8   entranceRate             891 non-null    float64\n",
      " 9   bounceRate               891 non-null    float64\n",
      " 10  kategorie                891 non-null    object \n",
      " 11  rubrik                   891 non-null    object \n",
      " 12  subRubrik                891 non-null    object \n",
      " 13  titel                    891 non-null    object \n",
      " 14  pagePath                 891 non-null    object \n",
      " 15  dpaGuid                  891 non-null    object \n",
      " 16  categoryCode             891 non-null    object \n",
      " 17  genre                    891 non-null    object \n",
      " 18  geoArea                  891 non-null    object \n",
      " 19  keywords                 891 non-null    object \n",
      " 20  links                    891 non-null    object \n",
      " 21  subject                  891 non-null    object \n",
      " 22  teaser                   891 non-null    object \n",
      " 23  text                     891 non-null    object \n",
      " 24  titelH1                  891 non-null    object \n",
      " 25  titelH3                  891 non-null    object \n",
      " 26  wordcount                891 non-null    int64  \n",
      " 27  category                 891 non-null    object \n",
      " 28  city                     891 non-null    object \n",
      " 29  text_preprocessed        891 non-null    object \n",
      " 30  avgTimeOnPage/wordcount  891 non-null    float64\n",
      " 31  nr_tokens                891 non-null    int64  \n",
      " 32  mean_token_length        891 non-null    float64\n",
      " 33  nr_tokens_teaser         891 non-null    int64  \n",
      " 34  nr_tokens_titelH1        891 non-null    int64  \n",
      "dtypes: float64(6), int64(9), object(20)\n",
      "memory usage: 290.6+ KB\n"
     ]
    }
   ],
   "source": [
    "df.info()"
   ]
  },
  {
   "cell_type": "code",
   "execution_count": 649,
   "metadata": {},
   "outputs": [
    {
     "data": {
      "text/html": [
       "<div>\n",
       "<style scoped>\n",
       "    .dataframe tbody tr th:only-of-type {\n",
       "        vertical-align: middle;\n",
       "    }\n",
       "\n",
       "    .dataframe tbody tr th {\n",
       "        vertical-align: top;\n",
       "    }\n",
       "\n",
       "    .dataframe thead th {\n",
       "        text-align: right;\n",
       "    }\n",
       "</style>\n",
       "<table border=\"1\" class=\"dataframe\">\n",
       "  <thead>\n",
       "    <tr style=\"text-align: right;\">\n",
       "      <th></th>\n",
       "      <th>pageviews</th>\n",
       "      <th>entrances</th>\n",
       "      <th>exits</th>\n",
       "      <th>bounces</th>\n",
       "      <th>timeOnPage</th>\n",
       "      <th>conversions</th>\n",
       "      <th>avgTimeOnPage</th>\n",
       "      <th>stickiness</th>\n",
       "      <th>entranceRate</th>\n",
       "      <th>bounceRate</th>\n",
       "      <th>...</th>\n",
       "      <th>text</th>\n",
       "      <th>titelH1</th>\n",
       "      <th>titelH3</th>\n",
       "      <th>wordcount</th>\n",
       "      <th>category</th>\n",
       "      <th>city</th>\n",
       "      <th>text_preprocessed</th>\n",
       "      <th>nr_tokens</th>\n",
       "      <th>mean_token_length</th>\n",
       "      <th>avgTimeOnPage/wordcount</th>\n",
       "    </tr>\n",
       "    <tr>\n",
       "      <th>articleId</th>\n",
       "      <th></th>\n",
       "      <th></th>\n",
       "      <th></th>\n",
       "      <th></th>\n",
       "      <th></th>\n",
       "      <th></th>\n",
       "      <th></th>\n",
       "      <th></th>\n",
       "      <th></th>\n",
       "      <th></th>\n",
       "      <th></th>\n",
       "      <th></th>\n",
       "      <th></th>\n",
       "      <th></th>\n",
       "      <th></th>\n",
       "      <th></th>\n",
       "      <th></th>\n",
       "      <th></th>\n",
       "      <th></th>\n",
       "      <th></th>\n",
       "      <th></th>\n",
       "    </tr>\n",
       "  </thead>\n",
       "  <tbody>\n",
       "    <tr>\n",
       "      <th>49200513</th>\n",
       "      <td>3047</td>\n",
       "      <td>1119</td>\n",
       "      <td>1693</td>\n",
       "      <td>924</td>\n",
       "      <td>217337</td>\n",
       "      <td></td>\n",
       "      <td>160.514771</td>\n",
       "      <td>44.437151</td>\n",
       "      <td>36.724647</td>\n",
       "      <td>30.324910</td>\n",
       "      <td>...</td>\n",
       "      <td>Köln (dpa/tmn) - Die neuen Fälle von Ansteckun...</td>\n",
       "      <td>Einschränkungen wegen Covid-19: Was Arbeitnehm...</td>\n",
       "      <td></td>\n",
       "      <td>376</td>\n",
       "      <td>vm</td>\n",
       "      <td>Köln</td>\n",
       "      <td>Die neuen Fälle von Ansteckungen mit dem Coron...</td>\n",
       "      <td>379</td>\n",
       "      <td>5.598945</td>\n",
       "      <td>0.426901</td>\n",
       "    </tr>\n",
       "    <tr>\n",
       "      <th>49473155</th>\n",
       "      <td>1887</td>\n",
       "      <td>712</td>\n",
       "      <td>1006</td>\n",
       "      <td>587</td>\n",
       "      <td>169090</td>\n",
       "      <td></td>\n",
       "      <td>191.929625</td>\n",
       "      <td>46.687864</td>\n",
       "      <td>37.731849</td>\n",
       "      <td>31.107578</td>\n",
       "      <td>...</td>\n",
       "      <td>Düsseldorf (dpa/tmn) - Um die Verbreitung des ...</td>\n",
       "      <td>Veranstaltung wegen Corona abgesagt: Rechte de...</td>\n",
       "      <td></td>\n",
       "      <td>708</td>\n",
       "      <td>vm</td>\n",
       "      <td>Düsseldorf</td>\n",
       "      <td>Um die Verbreitung des neuen Coronavirus Sars-...</td>\n",
       "      <td>718</td>\n",
       "      <td>5.988858</td>\n",
       "      <td>0.271087</td>\n",
       "    </tr>\n",
       "    <tr>\n",
       "      <th>49333693</th>\n",
       "      <td>2487</td>\n",
       "      <td>1877</td>\n",
       "      <td>2032</td>\n",
       "      <td>1699</td>\n",
       "      <td>136927</td>\n",
       "      <td></td>\n",
       "      <td>300.938462</td>\n",
       "      <td>18.295135</td>\n",
       "      <td>75.472457</td>\n",
       "      <td>68.315239</td>\n",
       "      <td>...</td>\n",
       "      <td>Frankfurt/Main/Düsseldorf (dpa/tmn) - Nachdem ...</td>\n",
       "      <td>Covid-19: Welche Regeln gelten im Betrieb?</td>\n",
       "      <td></td>\n",
       "      <td>768</td>\n",
       "      <td>vm</td>\n",
       "      <td>Frankfurt/Main/Düsseldorf</td>\n",
       "      <td>Nachdem mehr und mehr Fälle von Covid-19-Infek...</td>\n",
       "      <td>770</td>\n",
       "      <td>6.137662</td>\n",
       "      <td>0.391847</td>\n",
       "    </tr>\n",
       "    <tr>\n",
       "      <th>49321583</th>\n",
       "      <td>1709</td>\n",
       "      <td>1226</td>\n",
       "      <td>1333</td>\n",
       "      <td>1085</td>\n",
       "      <td>92555</td>\n",
       "      <td></td>\n",
       "      <td>246.156915</td>\n",
       "      <td>22.001170</td>\n",
       "      <td>71.737858</td>\n",
       "      <td>63.487420</td>\n",
       "      <td>...</td>\n",
       "      <td>Berlin (dpa/tmn) - Der neuartige Coronavirus S...</td>\n",
       "      <td>Ansteckung und Vorbeugung: Der Alltag mit Covi...</td>\n",
       "      <td></td>\n",
       "      <td>882</td>\n",
       "      <td>vm</td>\n",
       "      <td>Berlin</td>\n",
       "      <td>Der neuartige Coronavirus Sars-Cov-2 verbreite...</td>\n",
       "      <td>889</td>\n",
       "      <td>5.823397</td>\n",
       "      <td>0.279089</td>\n",
       "    </tr>\n",
       "    <tr>\n",
       "      <th>49232551</th>\n",
       "      <td>1548</td>\n",
       "      <td>580</td>\n",
       "      <td>811</td>\n",
       "      <td>468</td>\n",
       "      <td>77052</td>\n",
       "      <td></td>\n",
       "      <td>104.548168</td>\n",
       "      <td>47.609819</td>\n",
       "      <td>37.467700</td>\n",
       "      <td>30.232558</td>\n",
       "      <td>...</td>\n",
       "      <td>Berlin (dpa/tmn) - Eine Impfung gegen das neue...</td>\n",
       "      <td>Coronavirus: Experten raten zu Impfungen - auc...</td>\n",
       "      <td></td>\n",
       "      <td>253</td>\n",
       "      <td>vm</td>\n",
       "      <td>Berlin</td>\n",
       "      <td>Eine Impfung gegen das neue Coronavirus Sars-C...</td>\n",
       "      <td>252</td>\n",
       "      <td>6.178571</td>\n",
       "      <td>0.413234</td>\n",
       "    </tr>\n",
       "    <tr>\n",
       "      <th>...</th>\n",
       "      <td>...</td>\n",
       "      <td>...</td>\n",
       "      <td>...</td>\n",
       "      <td>...</td>\n",
       "      <td>...</td>\n",
       "      <td>...</td>\n",
       "      <td>...</td>\n",
       "      <td>...</td>\n",
       "      <td>...</td>\n",
       "      <td>...</td>\n",
       "      <td>...</td>\n",
       "      <td>...</td>\n",
       "      <td>...</td>\n",
       "      <td>...</td>\n",
       "      <td>...</td>\n",
       "      <td>...</td>\n",
       "      <td>...</td>\n",
       "      <td>...</td>\n",
       "      <td>...</td>\n",
       "      <td>...</td>\n",
       "      <td>...</td>\n",
       "    </tr>\n",
       "    <tr>\n",
       "      <th>48870125</th>\n",
       "      <td>2</td>\n",
       "      <td>2</td>\n",
       "      <td>2</td>\n",
       "      <td>2</td>\n",
       "      <td>0</td>\n",
       "      <td></td>\n",
       "      <td>0.000000</td>\n",
       "      <td>0.000000</td>\n",
       "      <td>100.000000</td>\n",
       "      <td>100.000000</td>\n",
       "      <td>...</td>\n",
       "      <td>Frankfurt/Main (dpa/tmn) - Wonach sehnen Sie s...</td>\n",
       "      <td>Sinnbild für Exotik: Der Affe im Dschungel als...</td>\n",
       "      <td></td>\n",
       "      <td>415</td>\n",
       "      <td>vm</td>\n",
       "      <td>Frankfurt/Main</td>\n",
       "      <td>Wonach sehnen Sie sich? Den Wald im regnerisch...</td>\n",
       "      <td>427</td>\n",
       "      <td>5.341920</td>\n",
       "      <td>0.000000</td>\n",
       "    </tr>\n",
       "    <tr>\n",
       "      <th>49133249</th>\n",
       "      <td>2</td>\n",
       "      <td>2</td>\n",
       "      <td>2</td>\n",
       "      <td>2</td>\n",
       "      <td>0</td>\n",
       "      <td></td>\n",
       "      <td>0.000000</td>\n",
       "      <td>0.000000</td>\n",
       "      <td>100.000000</td>\n",
       "      <td>100.000000</td>\n",
       "      <td>...</td>\n",
       "      <td>Berlin (dpa/tmn) - Wenn die Schönheitsreparatu...</td>\n",
       "      <td>Schönheitsreparaturen auch in möblierten Wohnu...</td>\n",
       "      <td></td>\n",
       "      <td>148</td>\n",
       "      <td>vm</td>\n",
       "      <td>Berlin</td>\n",
       "      <td>Wenn die Schönheitsreparaturen in einer Wohnun...</td>\n",
       "      <td>143</td>\n",
       "      <td>6.265734</td>\n",
       "      <td>0.000000</td>\n",
       "    </tr>\n",
       "    <tr>\n",
       "      <th>49571165</th>\n",
       "      <td>21</td>\n",
       "      <td>21</td>\n",
       "      <td>21</td>\n",
       "      <td>21</td>\n",
       "      <td>0</td>\n",
       "      <td></td>\n",
       "      <td>0.000000</td>\n",
       "      <td>0.000000</td>\n",
       "      <td>100.000000</td>\n",
       "      <td>100.000000</td>\n",
       "      <td>...</td>\n",
       "      <td>Cottbus/Berlin (dpa/tmn) - Ein Job am Schreibt...</td>\n",
       "      <td>Bei Wind und Wetter im Einsatz: Die Ausbildung...</td>\n",
       "      <td></td>\n",
       "      <td>638</td>\n",
       "      <td>vm</td>\n",
       "      <td>Cottbus/Berlin</td>\n",
       "      <td>Ein Job am Schreibtisch, das wäre nichts für A...</td>\n",
       "      <td>650</td>\n",
       "      <td>5.755385</td>\n",
       "      <td>0.000000</td>\n",
       "    </tr>\n",
       "    <tr>\n",
       "      <th>48811767</th>\n",
       "      <td>4</td>\n",
       "      <td>2</td>\n",
       "      <td>4</td>\n",
       "      <td>2</td>\n",
       "      <td>0</td>\n",
       "      <td></td>\n",
       "      <td>0.000000</td>\n",
       "      <td>0.000000</td>\n",
       "      <td>50.000000</td>\n",
       "      <td>50.000000</td>\n",
       "      <td>...</td>\n",
       "      <td>Delhi (dpa/tmn) - Die Motor Show in Delhi (7. ...</td>\n",
       "      <td>Motor Show in Delhi: Zwischen Messewelt und re...</td>\n",
       "      <td></td>\n",
       "      <td>647</td>\n",
       "      <td>vm</td>\n",
       "      <td>Delhi</td>\n",
       "      <td>Die Motor Show in Delhi (7. bis 12. Februar) i...</td>\n",
       "      <td>644</td>\n",
       "      <td>5.388199</td>\n",
       "      <td>0.000000</td>\n",
       "    </tr>\n",
       "    <tr>\n",
       "      <th>49463865</th>\n",
       "      <td>6</td>\n",
       "      <td>6</td>\n",
       "      <td>6</td>\n",
       "      <td>6</td>\n",
       "      <td>0</td>\n",
       "      <td></td>\n",
       "      <td>0.000000</td>\n",
       "      <td>0.000000</td>\n",
       "      <td>100.000000</td>\n",
       "      <td>100.000000</td>\n",
       "      <td>...</td>\n",
       "      <td>Berlin (dpa/tmn) - E-Scooter werden bevorzugt ...</td>\n",
       "      <td>E-Scooter auf Leihbasis: Für wen lohnt sich di...</td>\n",
       "      <td></td>\n",
       "      <td>610</td>\n",
       "      <td>vm</td>\n",
       "      <td>Berlin</td>\n",
       "      <td>E-Scooter werden bevorzugt für kürzere Strecke...</td>\n",
       "      <td>616</td>\n",
       "      <td>5.475649</td>\n",
       "      <td>0.000000</td>\n",
       "    </tr>\n",
       "  </tbody>\n",
       "</table>\n",
       "<p>891 rows × 33 columns</p>\n",
       "</div>"
      ],
      "text/plain": [
       "           pageviews  entrances  exits  bounces  timeOnPage conversions  \\\n",
       "articleId                                                                 \n",
       "49200513        3047       1119   1693      924      217337               \n",
       "49473155        1887        712   1006      587      169090               \n",
       "49333693        2487       1877   2032     1699      136927               \n",
       "49321583        1709       1226   1333     1085       92555               \n",
       "49232551        1548        580    811      468       77052               \n",
       "...              ...        ...    ...      ...         ...         ...   \n",
       "48870125           2          2      2        2           0               \n",
       "49133249           2          2      2        2           0               \n",
       "49571165          21         21     21       21           0               \n",
       "48811767           4          2      4        2           0               \n",
       "49463865           6          6      6        6           0               \n",
       "\n",
       "           avgTimeOnPage  stickiness  entranceRate  bounceRate  ...  \\\n",
       "articleId                                                       ...   \n",
       "49200513      160.514771   44.437151     36.724647   30.324910  ...   \n",
       "49473155      191.929625   46.687864     37.731849   31.107578  ...   \n",
       "49333693      300.938462   18.295135     75.472457   68.315239  ...   \n",
       "49321583      246.156915   22.001170     71.737858   63.487420  ...   \n",
       "49232551      104.548168   47.609819     37.467700   30.232558  ...   \n",
       "...                  ...         ...           ...         ...  ...   \n",
       "48870125        0.000000    0.000000    100.000000  100.000000  ...   \n",
       "49133249        0.000000    0.000000    100.000000  100.000000  ...   \n",
       "49571165        0.000000    0.000000    100.000000  100.000000  ...   \n",
       "48811767        0.000000    0.000000     50.000000   50.000000  ...   \n",
       "49463865        0.000000    0.000000    100.000000  100.000000  ...   \n",
       "\n",
       "                                                        text  \\\n",
       "articleId                                                      \n",
       "49200513   Köln (dpa/tmn) - Die neuen Fälle von Ansteckun...   \n",
       "49473155   Düsseldorf (dpa/tmn) - Um die Verbreitung des ...   \n",
       "49333693   Frankfurt/Main/Düsseldorf (dpa/tmn) - Nachdem ...   \n",
       "49321583   Berlin (dpa/tmn) - Der neuartige Coronavirus S...   \n",
       "49232551   Berlin (dpa/tmn) - Eine Impfung gegen das neue...   \n",
       "...                                                      ...   \n",
       "48870125   Frankfurt/Main (dpa/tmn) - Wonach sehnen Sie s...   \n",
       "49133249   Berlin (dpa/tmn) - Wenn die Schönheitsreparatu...   \n",
       "49571165   Cottbus/Berlin (dpa/tmn) - Ein Job am Schreibt...   \n",
       "48811767   Delhi (dpa/tmn) - Die Motor Show in Delhi (7. ...   \n",
       "49463865   Berlin (dpa/tmn) - E-Scooter werden bevorzugt ...   \n",
       "\n",
       "                                                     titelH1 titelH3  \\\n",
       "articleId                                                              \n",
       "49200513   Einschränkungen wegen Covid-19: Was Arbeitnehm...           \n",
       "49473155   Veranstaltung wegen Corona abgesagt: Rechte de...           \n",
       "49333693          Covid-19: Welche Regeln gelten im Betrieb?           \n",
       "49321583   Ansteckung und Vorbeugung: Der Alltag mit Covi...           \n",
       "49232551   Coronavirus: Experten raten zu Impfungen - auc...           \n",
       "...                                                      ...     ...   \n",
       "48870125   Sinnbild für Exotik: Der Affe im Dschungel als...           \n",
       "49133249   Schönheitsreparaturen auch in möblierten Wohnu...           \n",
       "49571165   Bei Wind und Wetter im Einsatz: Die Ausbildung...           \n",
       "48811767   Motor Show in Delhi: Zwischen Messewelt und re...           \n",
       "49463865   E-Scooter auf Leihbasis: Für wen lohnt sich di...           \n",
       "\n",
       "          wordcount category                       city  \\\n",
       "articleId                                                 \n",
       "49200513        376       vm                       Köln   \n",
       "49473155        708       vm                 Düsseldorf   \n",
       "49333693        768       vm  Frankfurt/Main/Düsseldorf   \n",
       "49321583        882       vm                     Berlin   \n",
       "49232551        253       vm                     Berlin   \n",
       "...             ...      ...                        ...   \n",
       "48870125        415       vm             Frankfurt/Main   \n",
       "49133249        148       vm                     Berlin   \n",
       "49571165        638       vm             Cottbus/Berlin   \n",
       "48811767        647       vm                      Delhi   \n",
       "49463865        610       vm                     Berlin   \n",
       "\n",
       "                                           text_preprocessed nr_tokens  \\\n",
       "articleId                                                                \n",
       "49200513   Die neuen Fälle von Ansteckungen mit dem Coron...       379   \n",
       "49473155   Um die Verbreitung des neuen Coronavirus Sars-...       718   \n",
       "49333693   Nachdem mehr und mehr Fälle von Covid-19-Infek...       770   \n",
       "49321583   Der neuartige Coronavirus Sars-Cov-2 verbreite...       889   \n",
       "49232551   Eine Impfung gegen das neue Coronavirus Sars-C...       252   \n",
       "...                                                      ...       ...   \n",
       "48870125   Wonach sehnen Sie sich? Den Wald im regnerisch...       427   \n",
       "49133249   Wenn die Schönheitsreparaturen in einer Wohnun...       143   \n",
       "49571165   Ein Job am Schreibtisch, das wäre nichts für A...       650   \n",
       "48811767   Die Motor Show in Delhi (7. bis 12. Februar) i...       644   \n",
       "49463865   E-Scooter werden bevorzugt für kürzere Strecke...       616   \n",
       "\n",
       "          mean_token_length avgTimeOnPage/wordcount  \n",
       "articleId                                            \n",
       "49200513           5.598945                0.426901  \n",
       "49473155           5.988858                0.271087  \n",
       "49333693           6.137662                0.391847  \n",
       "49321583           5.823397                0.279089  \n",
       "49232551           6.178571                0.413234  \n",
       "...                     ...                     ...  \n",
       "48870125           5.341920                0.000000  \n",
       "49133249           6.265734                0.000000  \n",
       "49571165           5.755385                0.000000  \n",
       "48811767           5.388199                0.000000  \n",
       "49463865           5.475649                0.000000  \n",
       "\n",
       "[891 rows x 33 columns]"
      ]
     },
     "execution_count": 649,
     "metadata": {},
     "output_type": "execute_result"
    }
   ],
   "source": [
    "#df.sort_values(by='pageviews', ascending=False)\n",
    "df.sort_values(by='timeOnPage', ascending=False)\n",
    "#df.sort_values(by='avgTimeOnPage', ascending=False)\n",
    "#df.sort_values(by='stickiness', ascending=False)"
   ]
  },
  {
   "cell_type": "markdown",
   "metadata": {},
   "source": [
    "## Modeling pageviews / avgTimeOnPage with (lemmatized) Bag-of-Words (Logistic Regression)"
   ]
  },
  {
   "cell_type": "code",
   "execution_count": 650,
   "metadata": {},
   "outputs": [
    {
     "name": "stdout",
     "output_type": "stream",
     "text": [
      "(712, 33) (89, 33) (90, 33)\n"
     ]
    }
   ],
   "source": [
    "#creating train, dev, test\n",
    "RANDOM_SEED = 123\n",
    "df_train, df_test = train_test_split(df, test_size=0.2, random_state=RANDOM_SEED, shuffle=True)\n",
    "df_dev, df_test = train_test_split(df_test, test_size=0.5, random_state=RANDOM_SEED, shuffle=True)\n",
    "print(df_train.shape, df_dev.shape, df_test.shape)"
   ]
  },
  {
   "cell_type": "code",
   "execution_count": 651,
   "metadata": {},
   "outputs": [],
   "source": [
    "# lemmatizes (punctuation stays in, but the default tokenizer from Count_Vectorizer seems to delete it)\n",
    "class Preprocessor():\n",
    "    def __init__(self):\n",
    "        self.nlp = spacy.load(\"de_core_news_sm\", disable=['parser', 'ner'])\n",
    "        #self.nlp = spacy.load(\"de_core_news_md\", disable=['parser', 'ner'])\n",
    "\n",
    "    def __call__(self, doc):\n",
    "        rt = []\n",
    "        doc = self.nlp(doc)\n",
    "        for token in doc:\n",
    "            rt.append(token.lemma_.lower()) # stopwords stay in, but CountVectorizer uses nltk-list later\n",
    "\n",
    "        return \" \".join(rt)"
   ]
  },
  {
   "cell_type": "code",
   "execution_count": 652,
   "metadata": {},
   "outputs": [
    {
     "name": "stdout",
     "output_type": "stream",
     "text": [
      "['aber', 'alle', 'allem', 'allen', 'aller', 'alles', 'als', 'also', 'am', 'an']\n",
      "232\n",
      "['aber', 'all', 'alle', 'alle', 'all', 'alle', 'als', 'also', 'am', 'an']\n",
      "232\n"
     ]
    }
   ],
   "source": [
    "stopwords = nltk.corpus.stopwords.words('german')\n",
    "print(stopwords[:10])\n",
    "print(len(stopwords))\n",
    "stopwords = [ preprocessor(s) for s in stopwords ]\n",
    "print(stopwords[:10])\n",
    "print(len(stopwords))"
   ]
  },
  {
   "cell_type": "code",
   "execution_count": 653,
   "metadata": {},
   "outputs": [],
   "source": [
    "preprocessor = Preprocessor()\n",
    "vectorizer = CountVectorizer(analyzer='word',\n",
    "                             preprocessor=preprocessor,\n",
    "                             ngram_range=(1, 5),\n",
    "                             min_df=3, # Achtung: vielleicht je nach Textbasis anpassen?\n",
    "                             max_features=10000,\n",
    "                             stop_words=stopwords\n",
    "                            )"
   ]
  },
  {
   "cell_type": "code",
   "execution_count": 699,
   "metadata": {},
   "outputs": [],
   "source": [
    "# define text base features: text? text_preprocessed? titelH1?\n",
    "\n",
    "#feature = 'text_preprocessed'\n",
    "#feature = 'text'\n",
    "feature = 'titelH1'\n",
    "#feature = 'teaser' # note: not all have 'teaser' but I replaced Nan wih empty string \"\"\n",
    "\n",
    "X_train = vectorizer.fit_transform(df_train[feature])"
   ]
  },
  {
   "cell_type": "code",
   "execution_count": 700,
   "metadata": {},
   "outputs": [
    {
     "data": {
      "text/plain": [
       "['herzpatienten',\n",
       " 'hilfe',\n",
       " 'hoch',\n",
       " 'homeoffice',\n",
       " 'immer',\n",
       " 'immobilie',\n",
       " 'isolation',\n",
       " 'jahr',\n",
       " 'job',\n",
       " 'kartoffel',\n",
       " 'kauf',\n",
       " 'kaufen',\n",
       " 'kind',\n",
       " 'kita',\n",
       " 'kleine',\n",
       " 'kleiner',\n",
       " 'knolle',\n",
       " 'kochen',\n",
       " 'kommen',\n",
       " 'kosten']"
      ]
     },
     "execution_count": 700,
     "metadata": {},
     "output_type": "execute_result"
    }
   ],
   "source": [
    "vectorizer.get_feature_names()[100:120] # just some n-grams"
   ]
  },
  {
   "cell_type": "code",
   "execution_count": 701,
   "metadata": {},
   "outputs": [],
   "source": [
    "X_dev = vectorizer.transform(df_dev[feature])\n",
    "X_test = vectorizer.transform(df_test[feature])"
   ]
  },
  {
   "cell_type": "code",
   "execution_count": 702,
   "metadata": {},
   "outputs": [],
   "source": [
    "X_train, X_dev, X_test = X_train.toarray(), X_dev.toarray(), X_test.toarray()"
   ]
  },
  {
   "cell_type": "code",
   "execution_count": 703,
   "metadata": {},
   "outputs": [
    {
     "data": {
      "text/plain": [
       "((712, 255), (89, 255), (90, 255))"
      ]
     },
     "execution_count": 703,
     "metadata": {},
     "output_type": "execute_result"
    }
   ],
   "source": [
    "X_train.shape, X_dev.shape, X_test.shape"
   ]
  },
  {
   "cell_type": "code",
   "execution_count": 704,
   "metadata": {},
   "outputs": [],
   "source": [
    "# define the target labels\n",
    "#target = 'timeOnPage'\n",
    "target =  'pageviews'\n",
    "#target = 'avgTimeOnPage'\n",
    "#target = 'stickiness'\n",
    "\n",
    "y_train = np.array(df_train[target])\n",
    "y_dev = np.array(df_dev[target])\n",
    "y_test = np.array(df_test[target])"
   ]
  },
  {
   "cell_type": "code",
   "execution_count": 705,
   "metadata": {},
   "outputs": [
    {
     "data": {
      "text/plain": [
       "((712,), (89,), (90,))"
      ]
     },
     "execution_count": 705,
     "metadata": {},
     "output_type": "execute_result"
    }
   ],
   "source": [
    "y_train.shape, y_dev.shape, y_test.shape"
   ]
  },
  {
   "cell_type": "code",
   "execution_count": 706,
   "metadata": {},
   "outputs": [],
   "source": [
    "from sklearn.linear_model import Ridge, LinearRegression, SGDRegressor # LogisticRegression"
   ]
  },
  {
   "cell_type": "code",
   "execution_count": 707,
   "metadata": {},
   "outputs": [],
   "source": [
    "# choose model ???\n",
    "model = Ridge()\n",
    "#model = LinearRegression()\n",
    "#model = SGDRegressor()\n",
    "#model = LogisticRegression(max_iter=10000)"
   ]
  },
  {
   "cell_type": "code",
   "execution_count": 708,
   "metadata": {},
   "outputs": [
    {
     "data": {
      "text/plain": [
       "Ridge()"
      ]
     },
     "execution_count": 708,
     "metadata": {},
     "output_type": "execute_result"
    }
   ],
   "source": [
    "model.fit(X_train, y_train)"
   ]
  },
  {
   "cell_type": "code",
   "execution_count": 709,
   "metadata": {},
   "outputs": [],
   "source": [
    "# predict for dev set\n",
    "pred_dev = model.predict(X_dev)"
   ]
  },
  {
   "cell_type": "code",
   "execution_count": 710,
   "metadata": {},
   "outputs": [
    {
     "data": {
      "text/plain": [
       "array([ 1.10011763e+03,  3.89209939e+01,  2.03498260e+01,  3.09304282e+01,\n",
       "       -6.53767184e-01,  1.57286332e+01, -3.48198942e+00,  5.68710048e+01,\n",
       "        8.13209927e+00,  1.42045028e+01,  1.81033800e+00,  1.62218525e+02,\n",
       "        1.42045028e+01,  1.81015584e+01,  6.95019161e+01,  1.42045028e+01,\n",
       "       -4.82301940e+00, -3.26347085e+01,  1.25541607e+01,  1.81384638e+02,\n",
       "        1.81384638e+02,  1.97287164e+01, -2.02028577e+01,  1.42045028e+01,\n",
       "        9.03860432e+01,  1.25210239e+01,  6.90729752e+01,  1.25212142e+01,\n",
       "        1.42045028e+01,  3.87830098e+01, -5.76724517e+01,  1.23984097e+01,\n",
       "        1.42045028e+01, -3.67251919e+01,  1.82399598e+01,  4.03643511e+01,\n",
       "        2.52690094e+00,  4.33435444e+01,  1.42045028e+01, -2.07594332e+01,\n",
       "        2.44289639e+01,  6.05266562e+01,  4.90875231e+00, -9.25439930e+00,\n",
       "       -2.15494836e+01,  7.16772717e+00,  4.81424580e+00,  1.52849882e+02,\n",
       "        1.61764672e+01,  1.02604378e+01,  1.62255440e+01,  4.09457993e+00,\n",
       "        1.57286332e+01, -3.26347085e+01,  1.42045028e+01, -7.59727055e+00,\n",
       "        1.46746291e+01,  4.71830373e+01,  1.61764672e+01,  5.72291533e+00,\n",
       "        8.26004357e+01, -3.26347085e+01,  2.83146427e+01,  1.95644478e+01,\n",
       "       -2.64893854e+01,  8.60056695e+01,  1.42045028e+01,  2.50498122e+01,\n",
       "        9.33846299e+00,  4.14183487e+00, -8.75313718e+00, -1.37041649e+01,\n",
       "        1.42045028e+01,  3.55802424e+02,  1.42045028e+01,  1.42045028e+01,\n",
       "        8.25919583e+01,  3.19916920e+01,  1.46746291e+01, -3.07927399e+00,\n",
       "        6.46099675e+01,  3.54814506e+00,  1.58145807e+01,  1.96588585e+01,\n",
       "       -4.43889169e+01,  4.22495720e+02,  1.42045028e+01,  2.19541771e+01,\n",
       "        2.42961682e+01])"
      ]
     },
     "execution_count": 710,
     "metadata": {},
     "output_type": "execute_result"
    }
   ],
   "source": [
    "pred_dev"
   ]
  },
  {
   "cell_type": "code",
   "execution_count": 711,
   "metadata": {},
   "outputs": [],
   "source": [
    "# postprocessing: replace negative values with 0 (better way? can I give that hint to the model?)\n",
    "pred_dev[pred_dev < 0] = 0"
   ]
  },
  {
   "cell_type": "code",
   "execution_count": 712,
   "metadata": {},
   "outputs": [
    {
     "data": {
      "text/plain": [
       "array([1100.11762759,   38.92099387,   20.34982595,   30.93042817,\n",
       "          0.        ,   15.72863323,    0.        ,   56.87100484,\n",
       "          8.13209927,   14.20450283,    1.810338  ,  162.21852478,\n",
       "         14.20450283,   18.10155835,   69.50191611,   14.20450283,\n",
       "          0.        ,    0.        ,   12.55416072,  181.38463796,\n",
       "        181.38463796,   19.72871635,    0.        ,   14.20450283,\n",
       "         90.38604324,   12.52102393,   69.07297517,   12.5212142 ,\n",
       "         14.20450283,   38.78300979,    0.        ,   12.39840969,\n",
       "         14.20450283,    0.        ,   18.23995977,   40.36435106,\n",
       "          2.52690094,   43.34354435,   14.20450283,    0.        ,\n",
       "         24.42896394,   60.52665624,    4.90875231,    0.        ,\n",
       "          0.        ,    7.16772717,    4.8142458 ,  152.84988219,\n",
       "         16.17646716,   10.26043783,   16.22554395,    4.09457993,\n",
       "         15.72863323,    0.        ,   14.20450283,    0.        ,\n",
       "         14.67462912,   47.18303731,   16.17646716,    5.72291533,\n",
       "         82.60043565,    0.        ,   28.31464274,   19.56444784,\n",
       "          0.        ,   86.0056695 ,   14.20450283,   25.04981223,\n",
       "          9.33846299,    4.14183487,    0.        ,    0.        ,\n",
       "         14.20450283,  355.80242422,   14.20450283,   14.20450283,\n",
       "         82.59195829,   31.99169202,   14.67462912,    0.        ,\n",
       "         64.60996748,    3.54814506,   15.81458073,   19.65885848,\n",
       "          0.        ,  422.49572034,   14.20450283,   21.95417706,\n",
       "         24.29616823])"
      ]
     },
     "execution_count": 712,
     "metadata": {},
     "output_type": "execute_result"
    }
   ],
   "source": [
    "pred_dev"
   ]
  },
  {
   "cell_type": "code",
   "execution_count": 713,
   "metadata": {},
   "outputs": [
    {
     "data": {
      "text/plain": [
       "array([3047,   33,   20,   64,    1,   12,    2,   22,    3,    6,    1,\n",
       "         19,    3,  262,    9,    4,   24,  100,   27,  124,    3,    8,\n",
       "         14,    6,   39,   14,   16,   18,    9,    8,    8,    9,   16,\n",
       "         32,   19,    8,   20,    3,   18,   11,   18,    9,    9,   24,\n",
       "         14,    6,    5,  115,    4,   14,    9,    7,   16,   17,    6,\n",
       "          8,   19,   39,   17,   29,   24,   13,    1,    8,   10,    3,\n",
       "          7,   14,    9,    7,    7,    2,    7,    4,   12,    5,   12,\n",
       "          7,  173,   15,    3,   18,   29,   21,    1,   10,    2,    9,\n",
       "         18])"
      ]
     },
     "execution_count": 713,
     "metadata": {},
     "output_type": "execute_result"
    }
   ],
   "source": [
    "np.array(y_dev)"
   ]
  },
  {
   "cell_type": "code",
   "execution_count": 714,
   "metadata": {},
   "outputs": [
    {
     "data": {
      "text/plain": [
       "(0.8613052175134238, 2.5749805968516432e-27)"
      ]
     },
     "execution_count": 714,
     "metadata": {},
     "output_type": "execute_result"
    }
   ],
   "source": [
    "st.pearsonr(pred_dev, y_dev)"
   ]
  },
  {
   "cell_type": "code",
   "execution_count": 715,
   "metadata": {},
   "outputs": [],
   "source": [
    "from sklearn.metrics import mean_squared_error\n",
    "from sklearn.metrics import mean_absolute_error\n",
    "from sklearn.metrics import explained_variance_score"
   ]
  },
  {
   "cell_type": "code",
   "execution_count": 716,
   "metadata": {},
   "outputs": [
    {
     "data": {
      "text/plain": [
       "48101.96843497607"
      ]
     },
     "execution_count": 716,
     "metadata": {},
     "output_type": "execute_result"
    }
   ],
   "source": [
    "mean_squared_error(pred_dev, y_dev) #, squared=False) # hard to interpret"
   ]
  },
  {
   "cell_type": "code",
   "execution_count": 717,
   "metadata": {},
   "outputs": [
    {
     "data": {
      "text/plain": [
       "54.62542091026355"
      ]
     },
     "execution_count": 717,
     "metadata": {},
     "output_type": "execute_result"
    }
   ],
   "source": [
    "mean_absolute_error(pred_dev, y_dev) # hard to interpret"
   ]
  },
  {
   "cell_type": "code",
   "execution_count": 718,
   "metadata": {},
   "outputs": [
    {
     "data": {
      "text/plain": [
       "-1.8341015949405"
      ]
     },
     "execution_count": 718,
     "metadata": {},
     "output_type": "execute_result"
    }
   ],
   "source": [
    "explained_variance_score(pred_dev, y_dev) # what does this number mean? ... (1.0 is best)"
   ]
  },
  {
   "cell_type": "code",
   "execution_count": 676,
   "metadata": {},
   "outputs": [
    {
     "data": {
      "text/plain": [
       "pageviews                                                                  1\n",
       "entrances                                                                  0\n",
       "exits                                                                      1\n",
       "bounces                                                                    0\n",
       "timeOnPage                                                                 0\n",
       "conversions                                                                 \n",
       "avgTimeOnPage                                                              0\n",
       "stickiness                                                                 0\n",
       "entranceRate                                                               0\n",
       "bounceRate                                                                 0\n",
       "kategorie                                                           ratgeber\n",
       "rubrik                                                                reisen\n",
       "subRubrik                                                                   \n",
       "titel                      bei-skitouren-droht-auf-gesperrten-abfahrten-l...\n",
       "pagePath                   https://www.aachener-zeitung.de/ratgeber/reise...\n",
       "dpaGuid                                                     200303-99-168685\n",
       "categoryCode                                                       dpacat:vm\n",
       "genre                                                                Meldung\n",
       "geoArea                                                          Deutschland\n",
       "keywords                   Wintersport__,__Ratgeber__,__Gesundheit__,__Sk...\n",
       "links                              DAV zu Windenseilen auf gesperrten Pisten\n",
       "subject                                                            Tourismus\n",
       "teaser                     Den Zweiklang an Aufstieg und Abfahrt schätzen...\n",
       "text                       Planegg (dpa/tmn) - Viele Skitourengeher scheu...\n",
       "titelH1                    Skitouren: Auf gesperrten Abfahrten droht Lebe...\n",
       "titelH3                                                                     \n",
       "wordcount                                                                182\n",
       "category                                                                  vm\n",
       "city                                                                 Planegg\n",
       "text_preprocessed          Viele Skitourengeher scheuen die Risiken des o...\n",
       "nr_tokens                                                                179\n",
       "mean_token_length                                                     5.8324\n",
       "avgTimeOnPage/wordcount                                                    0\n",
       "Name: 49344291, dtype: object"
      ]
     },
     "execution_count": 676,
     "metadata": {},
     "output_type": "execute_result"
    }
   ],
   "source": [
    "df_dev.iloc[4] # Example where timeOnPage = 0 (boring article! :D)"
   ]
  },
  {
   "cell_type": "code",
   "execution_count": 192,
   "metadata": {},
   "outputs": [],
   "source": [
    "#vectorizer.stop_words_ # shows not used features (in too many/little documents)\n",
    "#vectorizer.vocabulary_ # values are the indices! (not frequency or anything)"
   ]
  },
  {
   "cell_type": "markdown",
   "metadata": {},
   "source": [
    "## Beobachtung"
   ]
  },
  {
   "cell_type": "markdown",
   "metadata": {},
   "source": [
    "Bei timeOnPage ist das Modell sehr gut, bei pageviews allerings nicht so sehr. Woran liegt das? Lernt das Modell vielleicht eher anhand der reinen Textlänge und nicht spezifische Wörter? Hier wäre vielleicht Shap gut...\n",
    "\n",
    "Bei pageviews vielleicht eher den Titel oder Teaser als den Text selbst nehmen? (--> etwas besser, dann aber min_df ändern) --> Titel ist besser als Teaser (vielleicht auch sinnvoller?)\n",
    "\n",
    "Welches Label ist das sinnvollste?\n",
    "\n",
    "Welche Metrik? Pearson Korrelation? Absolute Error?\n",
    "\n",
    "Vielleicht mal einfach die Keywords, Subjekts aufsplitten und als Features nehmen?\n",
    "\n",
    "Problem: Target-Varieblen sind sehr unausgeglichen, wenige Artikel mit sehr hoher pageview-Zahl (outliers)"
   ]
  },
  {
   "cell_type": "code",
   "execution_count": null,
   "metadata": {},
   "outputs": [],
   "source": []
  },
  {
   "cell_type": "code",
   "execution_count": null,
   "metadata": {},
   "outputs": [],
   "source": []
  }
 ],
 "metadata": {
  "kernelspec": {
   "display_name": "Python 3",
   "language": "python",
   "name": "python3"
  },
  "language_info": {
   "codemirror_mode": {
    "name": "ipython",
    "version": 3
   },
   "file_extension": ".py",
   "mimetype": "text/x-python",
   "name": "python",
   "nbconvert_exporter": "python",
   "pygments_lexer": "ipython3",
   "version": "3.7.7"
  }
 },
 "nbformat": 4,
 "nbformat_minor": 4
}
