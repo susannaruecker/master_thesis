{
 "cells": [
  {
   "cell_type": "raw",
   "metadata": {},
   "source": [
    "see:\n",
    "    \n",
    "https://www.tensorflow.org/tensorboard/dataframe_api\n",
    "\n",
    "hochladen des logir-Ordners geht so:\n",
    "tensorboard dev upload --logdir <logdir>"
   ]
  },
  {
   "cell_type": "code",
   "execution_count": 1,
   "metadata": {},
   "outputs": [],
   "source": [
    "import pandas as pd\n",
    "from matplotlib import pyplot as plt\n",
    "import tensorboard as tb"
   ]
  },
  {
   "cell_type": "raw",
   "metadata": {},
   "source": [
    "der hochgeladene test_tensorboard Order:\n",
    "\n",
    "Test:\n",
    "https://tensorboard.dev/experiment/GNumT5w6Ska27Mz0v5lgtg/#scalars\n",
    "\n",
    "Tatsächlich: (Stand 19.04.)\n",
    "https://tensorboard.dev/experiment/Z3kT6OA5SNS1a42js4dw2w/\n",
    "\n",
    "\n",
    "\"\n",
    "TensorFlow installation not found - running with reduced feature set.\n",
    "Data for the \"text\" plugin is now uploaded to TensorBoard.dev! Note that uploaded data is public. If you do not want to upload data for this plugin, use the \"--plugins\" command line argument.\n",
    "Upload started and will continue reading any new data as it's added\n",
    "to the logdir. To stop uploading, press Ctrl-C.\n",
    "\n",
    "View your TensorBoard live at: https://tensorboard.dev/experiment/Z3kT6OA5SNS1a42js4dw2w/\n",
    "\""
   ]
  },
  {
   "cell_type": "code",
   "execution_count": 2,
   "metadata": {},
   "outputs": [],
   "source": [
    "## ACHTUNG: wahrscheinlich sollte man nochmal den endgültigen Ordner hochladen, denn der hier enthält nicht die\n",
    "# aktuellsten Dinge"
   ]
  },
  {
   "cell_type": "code",
   "execution_count": 3,
   "metadata": {},
   "outputs": [
    {
     "data": {
      "text/html": [
       "<div>\n",
       "<style scoped>\n",
       "    .dataframe tbody tr th:only-of-type {\n",
       "        vertical-align: middle;\n",
       "    }\n",
       "\n",
       "    .dataframe tbody tr th {\n",
       "        vertical-align: top;\n",
       "    }\n",
       "\n",
       "    .dataframe thead th {\n",
       "        text-align: right;\n",
       "    }\n",
       "</style>\n",
       "<table border=\"1\" class=\"dataframe\">\n",
       "  <thead>\n",
       "    <tr style=\"text-align: right;\">\n",
       "      <th></th>\n",
       "      <th>run</th>\n",
       "      <th>tag</th>\n",
       "      <th>step</th>\n",
       "      <th>value</th>\n",
       "    </tr>\n",
       "  </thead>\n",
       "  <tbody>\n",
       "    <tr>\n",
       "      <th>0</th>\n",
       "      <td>BERT_FIXLEN300_MINLENNone_START0_EP8_BS8_LR1e-...</td>\n",
       "      <td>Pearson</td>\n",
       "      <td>300</td>\n",
       "      <td>0.088822</td>\n",
       "    </tr>\n",
       "    <tr>\n",
       "      <th>1</th>\n",
       "      <td>BERT_FIXLEN300_MINLENNone_START0_EP8_BS8_LR1e-...</td>\n",
       "      <td>Pearson</td>\n",
       "      <td>600</td>\n",
       "      <td>0.108572</td>\n",
       "    </tr>\n",
       "    <tr>\n",
       "      <th>2</th>\n",
       "      <td>BERT_FIXLEN300_MINLENNone_START0_EP8_BS8_LR1e-...</td>\n",
       "      <td>Pearson</td>\n",
       "      <td>900</td>\n",
       "      <td>0.122659</td>\n",
       "    </tr>\n",
       "    <tr>\n",
       "      <th>3</th>\n",
       "      <td>BERT_FIXLEN300_MINLENNone_START0_EP8_BS8_LR1e-...</td>\n",
       "      <td>Pearson</td>\n",
       "      <td>1200</td>\n",
       "      <td>0.112997</td>\n",
       "    </tr>\n",
       "    <tr>\n",
       "      <th>4</th>\n",
       "      <td>BERT_FIXLEN300_MINLENNone_START0_EP8_BS8_LR1e-...</td>\n",
       "      <td>Pearson</td>\n",
       "      <td>1500</td>\n",
       "      <td>0.116896</td>\n",
       "    </tr>\n",
       "    <tr>\n",
       "      <th>...</th>\n",
       "      <td>...</td>\n",
       "      <td>...</td>\n",
       "      <td>...</td>\n",
       "      <td>...</td>\n",
       "    </tr>\n",
       "    <tr>\n",
       "      <th>381736</th>\n",
       "      <td>baseline_EP100_BS8_LR0.001_avgTimeOnPage_NOZ</td>\n",
       "      <td>train_loss_epoch</td>\n",
       "      <td>95</td>\n",
       "      <td>15800.020508</td>\n",
       "    </tr>\n",
       "    <tr>\n",
       "      <th>381737</th>\n",
       "      <td>baseline_EP100_BS8_LR0.001_avgTimeOnPage_NOZ</td>\n",
       "      <td>train_loss_epoch</td>\n",
       "      <td>96</td>\n",
       "      <td>15732.759766</td>\n",
       "    </tr>\n",
       "    <tr>\n",
       "      <th>381738</th>\n",
       "      <td>baseline_EP100_BS8_LR0.001_avgTimeOnPage_NOZ</td>\n",
       "      <td>train_loss_epoch</td>\n",
       "      <td>97</td>\n",
       "      <td>15820.269531</td>\n",
       "    </tr>\n",
       "    <tr>\n",
       "      <th>381739</th>\n",
       "      <td>baseline_EP100_BS8_LR0.001_avgTimeOnPage_NOZ</td>\n",
       "      <td>train_loss_epoch</td>\n",
       "      <td>98</td>\n",
       "      <td>15728.113281</td>\n",
       "    </tr>\n",
       "    <tr>\n",
       "      <th>381740</th>\n",
       "      <td>baseline_EP100_BS8_LR0.001_avgTimeOnPage_NOZ</td>\n",
       "      <td>train_loss_epoch</td>\n",
       "      <td>99</td>\n",
       "      <td>15724.320312</td>\n",
       "    </tr>\n",
       "  </tbody>\n",
       "</table>\n",
       "<p>381741 rows × 4 columns</p>\n",
       "</div>"
      ],
      "text/plain": [
       "                                                      run               tag  \\\n",
       "0       BERT_FIXLEN300_MINLENNone_START0_EP8_BS8_LR1e-...           Pearson   \n",
       "1       BERT_FIXLEN300_MINLENNone_START0_EP8_BS8_LR1e-...           Pearson   \n",
       "2       BERT_FIXLEN300_MINLENNone_START0_EP8_BS8_LR1e-...           Pearson   \n",
       "3       BERT_FIXLEN300_MINLENNone_START0_EP8_BS8_LR1e-...           Pearson   \n",
       "4       BERT_FIXLEN300_MINLENNone_START0_EP8_BS8_LR1e-...           Pearson   \n",
       "...                                                   ...               ...   \n",
       "381736       baseline_EP100_BS8_LR0.001_avgTimeOnPage_NOZ  train_loss_epoch   \n",
       "381737       baseline_EP100_BS8_LR0.001_avgTimeOnPage_NOZ  train_loss_epoch   \n",
       "381738       baseline_EP100_BS8_LR0.001_avgTimeOnPage_NOZ  train_loss_epoch   \n",
       "381739       baseline_EP100_BS8_LR0.001_avgTimeOnPage_NOZ  train_loss_epoch   \n",
       "381740       baseline_EP100_BS8_LR0.001_avgTimeOnPage_NOZ  train_loss_epoch   \n",
       "\n",
       "        step         value  \n",
       "0        300      0.088822  \n",
       "1        600      0.108572  \n",
       "2        900      0.122659  \n",
       "3       1200      0.112997  \n",
       "4       1500      0.116896  \n",
       "...      ...           ...  \n",
       "381736    95  15800.020508  \n",
       "381737    96  15732.759766  \n",
       "381738    97  15820.269531  \n",
       "381739    98  15728.113281  \n",
       "381740    99  15724.320312  \n",
       "\n",
       "[381741 rows x 4 columns]"
      ]
     },
     "execution_count": 3,
     "metadata": {},
     "output_type": "execute_result"
    }
   ],
   "source": [
    "#experiment_id = \"GNumT5w6Ska27Mz0v5lgtg\" # das ist ein Test-Ordner zum Ausprobieren\n",
    "\n",
    "folder_id = \"Z3kT6OA5SNS1a42js4dw2w\" # das ist der tatsächliche runs_avgTimeOnPage (Stand 19.04.)\n",
    "\n",
    "\n",
    "folder_experiment = tb.data.experimental.ExperimentFromDev(folder_id)\n",
    "data = folder_experiment.get_scalars()\n",
    "data"
   ]
  },
  {
   "cell_type": "code",
   "execution_count": 4,
   "metadata": {},
   "outputs": [
    {
     "data": {
      "text/plain": [
       "CNN_FIXLEN800_MINLENNone_START0_EP100_BS32_LR0.0001_avgTimeOnPage_NOZ_num_filters_64_2021-03-30_12:54:24    17878\n",
       "baseline_EP100_BS8_LR0.001_avgTimeOnPage_NOZ                                                                11581\n",
       "BertHierarchicalRNN_SECTIONSIZE512_MAX_SECT5_EP50_BS32_LR1e-05_avgTimeOnPage_NOZ_GRU_2021-04-14_11:14:43    10235\n",
       "CNN_FIXLEN128_MINLENNone_START0_EP50_BS32_LR0.001_avgTimeOnPage_NOZ_noFFN_2021-03-11_13:23:03                9448\n",
       "CNN_FIXLEN800_MINLENNone_START0_EP50_BS32_LR0.0002_avgTimeOnPage_NOZ_2021-03-10_10:15:33                     9448\n",
       "                                                                                                            ...  \n",
       "BertFFN_FIXLEN512_MINLENNone_START0_EP30_BS32_LR1e-05_avgTimeOnPage_NOZ_cleanedDF_2021-04-07_15:07:26          78\n",
       "CNN_FIXLEN300_MINLENNone_START0_EP5_BS8_LR0.0001_avgTimeOnPage_NOZ_sample                                      66\n",
       "BertTextlength_FIXLEN512_MINLENNone_START0_EP40_BS32_LR1e-05_avgTimeOnPage_NOZ_2021-03-01_17:05:17             22\n",
       "BERT_hierarchical_SECTIONSIZE300_MAX_SECT5_EP10_BS2_LR1e-05_avgTimeOnPage_NOZ                                   3\n",
       "BertHierarchicalRNN_SECTIONSIZE512_MAX_SECT5_EP50_BS32_LR1e-05_avgTimeOnPage_NOZ_GRU_2021-04-20_23:05:17        2\n",
       "Name: run, Length: 102, dtype: int64"
      ]
     },
     "execution_count": 4,
     "metadata": {},
     "output_type": "execute_result"
    }
   ],
   "source": [
    "data.run.value_counts()"
   ]
  },
  {
   "cell_type": "markdown",
   "metadata": {},
   "source": [
    "## die (wichtigen) Runs bekommen Namen"
   ]
  },
  {
   "cell_type": "code",
   "execution_count": 5,
   "metadata": {},
   "outputs": [],
   "source": [
    "test = data[data.run == \"BertTextlength_FIXLEN128_MINLENNone_START0_EP40_BS32_LR1e-05_avgTimeOnPage_NOZ\"]\n",
    "\n",
    "hierarchical = data[data.run == \"BertHierarchical_SECTIONSIZE512_MAX_SECT5_EP100_BS32_LR1e-05_avgTimeOnPage_NOZ_weighted_mean_2021-04-08_15:29:27\"]\n",
    "\n",
    "bertFFN = data[data.run == \"BertFFN_FIXLEN512_MINLENNone_START0_EP30_BS32_LR1e-05_avgTimeOnPage_NOZ_2021-03-03_00:13:33\"]\n",
    "\n",
    "hierarchical_pretrained = data[data.run == \"BertHierarchical_SECTIONSIZE512_MAX_SECT5_EP50_BS32_LR1e-05_avgTimeOnPage_NOZ_weighted_mean_pretrained_2021-04-19_12:21:17\"]\n",
    "\n",
    "bert_textlength = data[data.run == \"BertTextlength_FIXLEN512_MINLENNone_START0_EP40_BS32_LR1e-05_avgTimeOnPage_NOZ_2021-03-01_17:14:32\"]"
   ]
  },
  {
   "cell_type": "markdown",
   "metadata": {},
   "source": [
    "## jetzt auswählen, welches Modell/Lauf man genauer betrachten will"
   ]
  },
  {
   "cell_type": "code",
   "execution_count": 6,
   "metadata": {},
   "outputs": [],
   "source": [
    "#df = test\n",
    "#df = hierarchical\n",
    "df = bertFFN\n",
    "#df = hierarchical_pretrained\n",
    "#df = bert_textlength"
   ]
  },
  {
   "cell_type": "code",
   "execution_count": 7,
   "metadata": {},
   "outputs": [
    {
     "data": {
      "text/plain": [
       "(4263, 4)"
      ]
     },
     "execution_count": 7,
     "metadata": {},
     "output_type": "execute_result"
    }
   ],
   "source": [
    "df.shape"
   ]
  },
  {
   "cell_type": "code",
   "execution_count": 8,
   "metadata": {},
   "outputs": [
    {
     "data": {
      "text/plain": [
       "(381741, 4)"
      ]
     },
     "execution_count": 8,
     "metadata": {},
     "output_type": "execute_result"
    }
   ],
   "source": [
    "data.shape"
   ]
  },
  {
   "cell_type": "code",
   "execution_count": 9,
   "metadata": {},
   "outputs": [
    {
     "data": {
      "text/html": [
       "<div>\n",
       "<style scoped>\n",
       "    .dataframe tbody tr th:only-of-type {\n",
       "        vertical-align: middle;\n",
       "    }\n",
       "\n",
       "    .dataframe tbody tr th {\n",
       "        vertical-align: top;\n",
       "    }\n",
       "\n",
       "    .dataframe thead th {\n",
       "        text-align: right;\n",
       "    }\n",
       "</style>\n",
       "<table border=\"1\" class=\"dataframe\">\n",
       "  <thead>\n",
       "    <tr style=\"text-align: right;\">\n",
       "      <th></th>\n",
       "      <th>run</th>\n",
       "      <th>tag</th>\n",
       "      <th>step</th>\n",
       "      <th>value</th>\n",
       "    </tr>\n",
       "  </thead>\n",
       "  <tbody>\n",
       "    <tr>\n",
       "      <th>97261</th>\n",
       "      <td>BertFFN_FIXLEN512_MINLENNone_START0_EP30_BS32_...</td>\n",
       "      <td>MAE</td>\n",
       "      <td>3000</td>\n",
       "      <td>62.382504</td>\n",
       "    </tr>\n",
       "    <tr>\n",
       "      <th>97262</th>\n",
       "      <td>BertFFN_FIXLEN512_MINLENNone_START0_EP30_BS32_...</td>\n",
       "      <td>MAE</td>\n",
       "      <td>6000</td>\n",
       "      <td>64.822624</td>\n",
       "    </tr>\n",
       "    <tr>\n",
       "      <th>97263</th>\n",
       "      <td>BertFFN_FIXLEN512_MINLENNone_START0_EP30_BS32_...</td>\n",
       "      <td>MAE</td>\n",
       "      <td>9000</td>\n",
       "      <td>60.016376</td>\n",
       "    </tr>\n",
       "    <tr>\n",
       "      <th>97264</th>\n",
       "      <td>BertFFN_FIXLEN512_MINLENNone_START0_EP30_BS32_...</td>\n",
       "      <td>MAE</td>\n",
       "      <td>12000</td>\n",
       "      <td>58.930950</td>\n",
       "    </tr>\n",
       "    <tr>\n",
       "      <th>97265</th>\n",
       "      <td>BertFFN_FIXLEN512_MINLENNone_START0_EP30_BS32_...</td>\n",
       "      <td>MAE</td>\n",
       "      <td>15000</td>\n",
       "      <td>59.207825</td>\n",
       "    </tr>\n",
       "  </tbody>\n",
       "</table>\n",
       "</div>"
      ],
      "text/plain": [
       "                                                     run  tag   step  \\\n",
       "97261  BertFFN_FIXLEN512_MINLENNone_START0_EP30_BS32_...  MAE   3000   \n",
       "97262  BertFFN_FIXLEN512_MINLENNone_START0_EP30_BS32_...  MAE   6000   \n",
       "97263  BertFFN_FIXLEN512_MINLENNone_START0_EP30_BS32_...  MAE   9000   \n",
       "97264  BertFFN_FIXLEN512_MINLENNone_START0_EP30_BS32_...  MAE  12000   \n",
       "97265  BertFFN_FIXLEN512_MINLENNone_START0_EP30_BS32_...  MAE  15000   \n",
       "\n",
       "           value  \n",
       "97261  62.382504  \n",
       "97262  64.822624  \n",
       "97263  60.016376  \n",
       "97264  58.930950  \n",
       "97265  59.207825  "
      ]
     },
     "execution_count": 9,
     "metadata": {},
     "output_type": "execute_result"
    }
   ],
   "source": [
    "df[df.tag==\"MAE\"].head()"
   ]
  },
  {
   "cell_type": "code",
   "execution_count": 10,
   "metadata": {},
   "outputs": [
    {
     "data": {
      "text/html": [
       "<div>\n",
       "<style scoped>\n",
       "    .dataframe tbody tr th:only-of-type {\n",
       "        vertical-align: middle;\n",
       "    }\n",
       "\n",
       "    .dataframe tbody tr th {\n",
       "        vertical-align: top;\n",
       "    }\n",
       "\n",
       "    .dataframe thead th {\n",
       "        text-align: right;\n",
       "    }\n",
       "</style>\n",
       "<table border=\"1\" class=\"dataframe\">\n",
       "  <thead>\n",
       "    <tr style=\"text-align: right;\">\n",
       "      <th></th>\n",
       "      <th>run</th>\n",
       "      <th>tag</th>\n",
       "      <th>step</th>\n",
       "      <th>value</th>\n",
       "    </tr>\n",
       "  </thead>\n",
       "  <tbody>\n",
       "    <tr>\n",
       "      <th>97665</th>\n",
       "      <td>BertFFN_FIXLEN512_MINLENNone_START0_EP30_BS32_...</td>\n",
       "      <td>Pearson</td>\n",
       "      <td>3000</td>\n",
       "      <td>0.389569</td>\n",
       "    </tr>\n",
       "    <tr>\n",
       "      <th>97666</th>\n",
       "      <td>BertFFN_FIXLEN512_MINLENNone_START0_EP30_BS32_...</td>\n",
       "      <td>Pearson</td>\n",
       "      <td>6000</td>\n",
       "      <td>0.539656</td>\n",
       "    </tr>\n",
       "    <tr>\n",
       "      <th>97667</th>\n",
       "      <td>BertFFN_FIXLEN512_MINLENNone_START0_EP30_BS32_...</td>\n",
       "      <td>Pearson</td>\n",
       "      <td>9000</td>\n",
       "      <td>0.593054</td>\n",
       "    </tr>\n",
       "    <tr>\n",
       "      <th>97668</th>\n",
       "      <td>BertFFN_FIXLEN512_MINLENNone_START0_EP30_BS32_...</td>\n",
       "      <td>Pearson</td>\n",
       "      <td>12000</td>\n",
       "      <td>0.591826</td>\n",
       "    </tr>\n",
       "    <tr>\n",
       "      <th>97669</th>\n",
       "      <td>BertFFN_FIXLEN512_MINLENNone_START0_EP30_BS32_...</td>\n",
       "      <td>Pearson</td>\n",
       "      <td>15000</td>\n",
       "      <td>0.607964</td>\n",
       "    </tr>\n",
       "  </tbody>\n",
       "</table>\n",
       "</div>"
      ],
      "text/plain": [
       "                                                     run      tag   step  \\\n",
       "97665  BertFFN_FIXLEN512_MINLENNone_START0_EP30_BS32_...  Pearson   3000   \n",
       "97666  BertFFN_FIXLEN512_MINLENNone_START0_EP30_BS32_...  Pearson   6000   \n",
       "97667  BertFFN_FIXLEN512_MINLENNone_START0_EP30_BS32_...  Pearson   9000   \n",
       "97668  BertFFN_FIXLEN512_MINLENNone_START0_EP30_BS32_...  Pearson  12000   \n",
       "97669  BertFFN_FIXLEN512_MINLENNone_START0_EP30_BS32_...  Pearson  15000   \n",
       "\n",
       "          value  \n",
       "97665  0.389569  \n",
       "97666  0.539656  \n",
       "97667  0.593054  \n",
       "97668  0.591826  \n",
       "97669  0.607964  "
      ]
     },
     "execution_count": 10,
     "metadata": {},
     "output_type": "execute_result"
    }
   ],
   "source": [
    "df[df.tag==\"Pearson\"].head()"
   ]
  },
  {
   "cell_type": "code",
   "execution_count": 11,
   "metadata": {},
   "outputs": [
    {
     "data": {
      "text/html": [
       "<div>\n",
       "<style scoped>\n",
       "    .dataframe tbody tr th:only-of-type {\n",
       "        vertical-align: middle;\n",
       "    }\n",
       "\n",
       "    .dataframe tbody tr th {\n",
       "        vertical-align: top;\n",
       "    }\n",
       "\n",
       "    .dataframe thead th {\n",
       "        text-align: right;\n",
       "    }\n",
       "</style>\n",
       "<table border=\"1\" class=\"dataframe\">\n",
       "  <thead>\n",
       "    <tr style=\"text-align: right;\">\n",
       "      <th></th>\n",
       "      <th>run</th>\n",
       "      <th>tag</th>\n",
       "      <th>step</th>\n",
       "      <th>value</th>\n",
       "    </tr>\n",
       "  </thead>\n",
       "  <tbody>\n",
       "    <tr>\n",
       "      <th>98473</th>\n",
       "      <td>BertFFN_FIXLEN512_MINLENNone_START0_EP30_BS32_...</td>\n",
       "      <td>train_loss</td>\n",
       "      <td>200</td>\n",
       "      <td>54627.613281</td>\n",
       "    </tr>\n",
       "    <tr>\n",
       "      <th>98474</th>\n",
       "      <td>BertFFN_FIXLEN512_MINLENNone_START0_EP30_BS32_...</td>\n",
       "      <td>train_loss</td>\n",
       "      <td>400</td>\n",
       "      <td>43908.179688</td>\n",
       "    </tr>\n",
       "    <tr>\n",
       "      <th>98475</th>\n",
       "      <td>BertFFN_FIXLEN512_MINLENNone_START0_EP30_BS32_...</td>\n",
       "      <td>train_loss</td>\n",
       "      <td>600</td>\n",
       "      <td>34487.957031</td>\n",
       "    </tr>\n",
       "    <tr>\n",
       "      <th>98476</th>\n",
       "      <td>BertFFN_FIXLEN512_MINLENNone_START0_EP30_BS32_...</td>\n",
       "      <td>train_loss</td>\n",
       "      <td>800</td>\n",
       "      <td>26201.537109</td>\n",
       "    </tr>\n",
       "    <tr>\n",
       "      <th>98477</th>\n",
       "      <td>BertFFN_FIXLEN512_MINLENNone_START0_EP30_BS32_...</td>\n",
       "      <td>train_loss</td>\n",
       "      <td>1000</td>\n",
       "      <td>14298.830078</td>\n",
       "    </tr>\n",
       "  </tbody>\n",
       "</table>\n",
       "</div>"
      ],
      "text/plain": [
       "                                                     run         tag  step  \\\n",
       "98473  BertFFN_FIXLEN512_MINLENNone_START0_EP30_BS32_...  train_loss   200   \n",
       "98474  BertFFN_FIXLEN512_MINLENNone_START0_EP30_BS32_...  train_loss   400   \n",
       "98475  BertFFN_FIXLEN512_MINLENNone_START0_EP30_BS32_...  train_loss   600   \n",
       "98476  BertFFN_FIXLEN512_MINLENNone_START0_EP30_BS32_...  train_loss   800   \n",
       "98477  BertFFN_FIXLEN512_MINLENNone_START0_EP30_BS32_...  train_loss  1000   \n",
       "\n",
       "              value  \n",
       "98473  54627.613281  \n",
       "98474  43908.179688  \n",
       "98475  34487.957031  \n",
       "98476  26201.537109  \n",
       "98477  14298.830078  "
      ]
     },
     "execution_count": 11,
     "metadata": {},
     "output_type": "execute_result"
    }
   ],
   "source": [
    "df[df.tag==\"train_loss\"].head()"
   ]
  },
  {
   "cell_type": "code",
   "execution_count": 12,
   "metadata": {},
   "outputs": [
    {
     "data": {
      "text/plain": [
       "train_loss          3031\n",
       "Pearson              202\n",
       "RAE                  202\n",
       "eval_loss            202\n",
       "Spearman             202\n",
       "MSE                  202\n",
       "MAE                  202\n",
       "train_loss_epoch      20\n",
       "Name: tag, dtype: int64"
      ]
     },
     "execution_count": 12,
     "metadata": {},
     "output_type": "execute_result"
    }
   ],
   "source": [
    "df.tag.value_counts()"
   ]
  },
  {
   "cell_type": "code",
   "execution_count": 13,
   "metadata": {},
   "outputs": [
    {
     "data": {
      "text/plain": [
       "<matplotlib.collections.PathCollection at 0x7f04e8f89950>"
      ]
     },
     "execution_count": 13,
     "metadata": {},
     "output_type": "execute_result"
    },
    {
     "data": {
      "image/png": "[encoded data removed]",
      "text/plain": [
       "<Figure size 432x288 with 1 Axes>"
      ]
     },
     "metadata": {
      "needs_background": "light"
     },
     "output_type": "display_data"
    }
   ],
   "source": [
    "plt.scatter(df[df.tag == \"MAE\"].step, \n",
    "            df[df.tag == \"MAE\"].value)"
   ]
  },
  {
   "cell_type": "code",
   "execution_count": 14,
   "metadata": {},
   "outputs": [
    {
     "data": {
      "text/plain": [
       "<matplotlib.collections.PathCollection at 0x7f04e80ab2d0>"
      ]
     },
     "execution_count": 14,
     "metadata": {},
     "output_type": "execute_result"
    },
    {
     "data": {
      "image/png": "[encoded data removed]",
      "text/plain": [
       "<Figure size 432x288 with 1 Axes>"
      ]
     },
     "metadata": {
      "needs_background": "light"
     },
     "output_type": "display_data"
    }
   ],
   "source": [
    "plt.scatter(df[df.tag == \"Pearson\"].step, \n",
    "            df[df.tag == \"Pearson\"].value)"
   ]
  },
  {
   "cell_type": "code",
   "execution_count": 15,
   "metadata": {
    "scrolled": false
   },
   "outputs": [
    {
     "name": "stdout",
     "output_type": "stream",
     "text": [
      "train_loss\n"
     ]
    },
    {
     "data": {
      "image/png": "[encoded data removed]",
      "text/plain": [
       "<Figure size 432x288 with 1 Axes>"
      ]
     },
     "metadata": {
      "needs_background": "light"
     },
     "output_type": "display_data"
    },
    {
     "name": "stdout",
     "output_type": "stream",
     "text": [
      "Pearson\n"
     ]
    },
    {
     "data": {
      "image/png": "[encoded data removed]",
      "text/plain": [
       "<Figure size 432x288 with 1 Axes>"
      ]
     },
     "metadata": {
      "needs_background": "light"
     },
     "output_type": "display_data"
    },
    {
     "name": "stdout",
     "output_type": "stream",
     "text": [
      "RAE\n"
     ]
    },
    {
     "data": {
      "image/png": "[encoded data removed]",
      "text/plain": [
       "<Figure size 432x288 with 1 Axes>"
      ]
     },
     "metadata": {
      "needs_background": "light"
     },
     "output_type": "display_data"
    },
    {
     "name": "stdout",
     "output_type": "stream",
     "text": [
      "eval_loss\n"
     ]
    },
    {
     "data": {
      "image/png": "[encoded data removed]",
      "text/plain": [
       "<Figure size 432x288 with 1 Axes>"
      ]
     },
     "metadata": {
      "needs_background": "light"
     },
     "output_type": "display_data"
    },
    {
     "name": "stdout",
     "output_type": "stream",
     "text": [
      "Spearman\n"
     ]
    },
    {
     "data": {
      "image/png": "[encoded data removed]",
      "text/plain": [
       "<Figure size 432x288 with 1 Axes>"
      ]
     },
     "metadata": {
      "needs_background": "light"
     },
     "output_type": "display_data"
    },
    {
     "name": "stdout",
     "output_type": "stream",
     "text": [
      "MSE\n"
     ]
    },
    {
     "data": {
      "image/png": "[encoded data removed]",
      "text/plain": [
       "<Figure size 432x288 with 1 Axes>"
      ]
     },
     "metadata": {
      "needs_background": "light"
     },
     "output_type": "display_data"
    },
    {
     "name": "stdout",
     "output_type": "stream",
     "text": [
      "MAE\n"
     ]
    },
    {
     "data": {
      "image/png": "[encoded data removed]",
      "text/plain": [
       "<Figure size 432x288 with 1 Axes>"
      ]
     },
     "metadata": {
      "needs_background": "light"
     },
     "output_type": "display_data"
    },
    {
     "name": "stdout",
     "output_type": "stream",
     "text": [
      "train_loss_epoch\n"
     ]
    },
    {
     "data": {
      "image/png": "[encoded data removed]",
      "text/plain": [
       "<Figure size 432x288 with 1 Axes>"
      ]
     },
     "metadata": {
      "needs_background": "light"
     },
     "output_type": "display_data"
    }
   ],
   "source": [
    "for t in df.tag.value_counts().keys():\n",
    "    print(t)\n",
    "    plt.scatter(df[df.tag == t].step, \n",
    "                df[df.tag == t].value)\n",
    "    plt.show()"
   ]
  },
  {
   "cell_type": "code",
   "execution_count": 16,
   "metadata": {},
   "outputs": [],
   "source": [
    "import numpy as np"
   ]
  },
  {
   "cell_type": "code",
   "execution_count": 17,
   "metadata": {},
   "outputs": [
    {
     "name": "stdout",
     "output_type": "stream",
     "text": [
      "0.6945405602455139\n",
      "53.62662124633789\n",
      "75.2181167602539\n",
      "10331.818359375\n"
     ]
    }
   ],
   "source": [
    "# den höchsten Pearson-Wert finden\n",
    "print(np.max(df[df.tag==\"Pearson\"].value))\n",
    "\n",
    "# ist nicht unbedingt überall der beste Wert...\n",
    "print(np.min(df[df.tag==\"MAE\"].value))\n",
    "print(np.min(df[df.tag==\"RAE\"].value))\n",
    "print(np.min(df[df.tag==\"MSE\"].value))\n"
   ]
  },
  {
   "cell_type": "code",
   "execution_count": 18,
   "metadata": {},
   "outputs": [
    {
     "data": {
      "text/html": [
       "<div>\n",
       "<style scoped>\n",
       "    .dataframe tbody tr th:only-of-type {\n",
       "        vertical-align: middle;\n",
       "    }\n",
       "\n",
       "    .dataframe tbody tr th {\n",
       "        vertical-align: top;\n",
       "    }\n",
       "\n",
       "    .dataframe thead th {\n",
       "        text-align: right;\n",
       "    }\n",
       "</style>\n",
       "<table border=\"1\" class=\"dataframe\">\n",
       "  <thead>\n",
       "    <tr style=\"text-align: right;\">\n",
       "      <th></th>\n",
       "      <th>run</th>\n",
       "      <th>tag</th>\n",
       "      <th>step</th>\n",
       "      <th>value</th>\n",
       "    </tr>\n",
       "  </thead>\n",
       "  <tbody>\n",
       "    <tr>\n",
       "      <th>97822</th>\n",
       "      <td>BertFFN_FIXLEN512_MINLENNone_START0_EP30_BS32_...</td>\n",
       "      <td>Pearson</td>\n",
       "      <td>474032</td>\n",
       "      <td>0.694541</td>\n",
       "    </tr>\n",
       "    <tr>\n",
       "      <th>97838</th>\n",
       "      <td>BertFFN_FIXLEN512_MINLENNone_START0_EP30_BS32_...</td>\n",
       "      <td>Pearson</td>\n",
       "      <td>522034</td>\n",
       "      <td>0.691315</td>\n",
       "    </tr>\n",
       "    <tr>\n",
       "      <th>97766</th>\n",
       "      <td>BertFFN_FIXLEN512_MINLENNone_START0_EP30_BS32_...</td>\n",
       "      <td>Pearson</td>\n",
       "      <td>306020</td>\n",
       "      <td>0.690807</td>\n",
       "    </tr>\n",
       "    <tr>\n",
       "      <th>97796</th>\n",
       "      <td>BertFFN_FIXLEN512_MINLENNone_START0_EP30_BS32_...</td>\n",
       "      <td>Pearson</td>\n",
       "      <td>396026</td>\n",
       "      <td>0.689435</td>\n",
       "    </tr>\n",
       "    <tr>\n",
       "      <th>97798</th>\n",
       "      <td>BertFFN_FIXLEN512_MINLENNone_START0_EP30_BS32_...</td>\n",
       "      <td>Pearson</td>\n",
       "      <td>402026</td>\n",
       "      <td>0.689368</td>\n",
       "    </tr>\n",
       "    <tr>\n",
       "      <th>...</th>\n",
       "      <td>...</td>\n",
       "      <td>...</td>\n",
       "      <td>...</td>\n",
       "      <td>...</td>\n",
       "    </tr>\n",
       "    <tr>\n",
       "      <th>97667</th>\n",
       "      <td>BertFFN_FIXLEN512_MINLENNone_START0_EP30_BS32_...</td>\n",
       "      <td>Pearson</td>\n",
       "      <td>9000</td>\n",
       "      <td>0.593054</td>\n",
       "    </tr>\n",
       "    <tr>\n",
       "      <th>97668</th>\n",
       "      <td>BertFFN_FIXLEN512_MINLENNone_START0_EP30_BS32_...</td>\n",
       "      <td>Pearson</td>\n",
       "      <td>12000</td>\n",
       "      <td>0.591826</td>\n",
       "    </tr>\n",
       "    <tr>\n",
       "      <th>97672</th>\n",
       "      <td>BertFFN_FIXLEN512_MINLENNone_START0_EP30_BS32_...</td>\n",
       "      <td>Pearson</td>\n",
       "      <td>24000</td>\n",
       "      <td>0.579358</td>\n",
       "    </tr>\n",
       "    <tr>\n",
       "      <th>97666</th>\n",
       "      <td>BertFFN_FIXLEN512_MINLENNone_START0_EP30_BS32_...</td>\n",
       "      <td>Pearson</td>\n",
       "      <td>6000</td>\n",
       "      <td>0.539656</td>\n",
       "    </tr>\n",
       "    <tr>\n",
       "      <th>97665</th>\n",
       "      <td>BertFFN_FIXLEN512_MINLENNone_START0_EP30_BS32_...</td>\n",
       "      <td>Pearson</td>\n",
       "      <td>3000</td>\n",
       "      <td>0.389569</td>\n",
       "    </tr>\n",
       "  </tbody>\n",
       "</table>\n",
       "<p>202 rows × 4 columns</p>\n",
       "</div>"
      ],
      "text/plain": [
       "                                                     run      tag    step  \\\n",
       "97822  BertFFN_FIXLEN512_MINLENNone_START0_EP30_BS32_...  Pearson  474032   \n",
       "97838  BertFFN_FIXLEN512_MINLENNone_START0_EP30_BS32_...  Pearson  522034   \n",
       "97766  BertFFN_FIXLEN512_MINLENNone_START0_EP30_BS32_...  Pearson  306020   \n",
       "97796  BertFFN_FIXLEN512_MINLENNone_START0_EP30_BS32_...  Pearson  396026   \n",
       "97798  BertFFN_FIXLEN512_MINLENNone_START0_EP30_BS32_...  Pearson  402026   \n",
       "...                                                  ...      ...     ...   \n",
       "97667  BertFFN_FIXLEN512_MINLENNone_START0_EP30_BS32_...  Pearson    9000   \n",
       "97668  BertFFN_FIXLEN512_MINLENNone_START0_EP30_BS32_...  Pearson   12000   \n",
       "97672  BertFFN_FIXLEN512_MINLENNone_START0_EP30_BS32_...  Pearson   24000   \n",
       "97666  BertFFN_FIXLEN512_MINLENNone_START0_EP30_BS32_...  Pearson    6000   \n",
       "97665  BertFFN_FIXLEN512_MINLENNone_START0_EP30_BS32_...  Pearson    3000   \n",
       "\n",
       "          value  \n",
       "97822  0.694541  \n",
       "97838  0.691315  \n",
       "97766  0.690807  \n",
       "97796  0.689435  \n",
       "97798  0.689368  \n",
       "...         ...  \n",
       "97667  0.593054  \n",
       "97668  0.591826  \n",
       "97672  0.579358  \n",
       "97666  0.539656  \n",
       "97665  0.389569  \n",
       "\n",
       "[202 rows x 4 columns]"
      ]
     },
     "execution_count": 18,
     "metadata": {},
     "output_type": "execute_result"
    }
   ],
   "source": [
    "# oder so (findet auch den step)\n",
    "\n",
    "df[df.tag==\"Pearson\"].sort_values(\"value\", ascending=False)"
   ]
  },
  {
   "cell_type": "code",
   "execution_count": 19,
   "metadata": {},
   "outputs": [
    {
     "name": "stdout",
     "output_type": "stream",
     "text": [
      "474032\n"
     ]
    }
   ],
   "source": [
    "best_step = df[df.tag==\"Pearson\"].sort_values(\"value\", ascending=False).iloc[0].step\n",
    "\n",
    "#best_step = df[df.tag==\"MAE\"].sort_values(\"value\", ascending=True).iloc[0].step\n",
    "\n",
    "\n",
    "print(best_step)"
   ]
  },
  {
   "cell_type": "code",
   "execution_count": 20,
   "metadata": {},
   "outputs": [
    {
     "data": {
      "text/html": [
       "<div>\n",
       "<style scoped>\n",
       "    .dataframe tbody tr th:only-of-type {\n",
       "        vertical-align: middle;\n",
       "    }\n",
       "\n",
       "    .dataframe tbody tr th {\n",
       "        vertical-align: top;\n",
       "    }\n",
       "\n",
       "    .dataframe thead th {\n",
       "        text-align: right;\n",
       "    }\n",
       "</style>\n",
       "<table border=\"1\" class=\"dataframe\">\n",
       "  <thead>\n",
       "    <tr style=\"text-align: right;\">\n",
       "      <th></th>\n",
       "      <th>run</th>\n",
       "      <th>tag</th>\n",
       "      <th>step</th>\n",
       "      <th>value</th>\n",
       "    </tr>\n",
       "  </thead>\n",
       "  <tbody>\n",
       "    <tr>\n",
       "      <th>97418</th>\n",
       "      <td>BertFFN_FIXLEN512_MINLENNone_START0_EP30_BS32_...</td>\n",
       "      <td>MAE</td>\n",
       "      <td>474032</td>\n",
       "      <td>54.680687</td>\n",
       "    </tr>\n",
       "    <tr>\n",
       "      <th>97620</th>\n",
       "      <td>BertFFN_FIXLEN512_MINLENNone_START0_EP30_BS32_...</td>\n",
       "      <td>MSE</td>\n",
       "      <td>474032</td>\n",
       "      <td>10402.649414</td>\n",
       "    </tr>\n",
       "    <tr>\n",
       "      <th>97822</th>\n",
       "      <td>BertFFN_FIXLEN512_MINLENNone_START0_EP30_BS32_...</td>\n",
       "      <td>Pearson</td>\n",
       "      <td>474032</td>\n",
       "      <td>0.694541</td>\n",
       "    </tr>\n",
       "    <tr>\n",
       "      <th>98024</th>\n",
       "      <td>BertFFN_FIXLEN512_MINLENNone_START0_EP30_BS32_...</td>\n",
       "      <td>RAE</td>\n",
       "      <td>474032</td>\n",
       "      <td>76.689056</td>\n",
       "    </tr>\n",
       "    <tr>\n",
       "      <th>98226</th>\n",
       "      <td>BertFFN_FIXLEN512_MINLENNone_START0_EP30_BS32_...</td>\n",
       "      <td>Spearman</td>\n",
       "      <td>474032</td>\n",
       "      <td>0.557642</td>\n",
       "    </tr>\n",
       "    <tr>\n",
       "      <th>98428</th>\n",
       "      <td>BertFFN_FIXLEN512_MINLENNone_START0_EP30_BS32_...</td>\n",
       "      <td>eval_loss</td>\n",
       "      <td>474032</td>\n",
       "      <td>10402.649414</td>\n",
       "    </tr>\n",
       "    <tr>\n",
       "      <th>100842</th>\n",
       "      <td>BertFFN_FIXLEN512_MINLENNone_START0_EP30_BS32_...</td>\n",
       "      <td>train_loss</td>\n",
       "      <td>474032</td>\n",
       "      <td>1953.518677</td>\n",
       "    </tr>\n",
       "  </tbody>\n",
       "</table>\n",
       "</div>"
      ],
      "text/plain": [
       "                                                      run         tag    step  \\\n",
       "97418   BertFFN_FIXLEN512_MINLENNone_START0_EP30_BS32_...         MAE  474032   \n",
       "97620   BertFFN_FIXLEN512_MINLENNone_START0_EP30_BS32_...         MSE  474032   \n",
       "97822   BertFFN_FIXLEN512_MINLENNone_START0_EP30_BS32_...     Pearson  474032   \n",
       "98024   BertFFN_FIXLEN512_MINLENNone_START0_EP30_BS32_...         RAE  474032   \n",
       "98226   BertFFN_FIXLEN512_MINLENNone_START0_EP30_BS32_...    Spearman  474032   \n",
       "98428   BertFFN_FIXLEN512_MINLENNone_START0_EP30_BS32_...   eval_loss  474032   \n",
       "100842  BertFFN_FIXLEN512_MINLENNone_START0_EP30_BS32_...  train_loss  474032   \n",
       "\n",
       "               value  \n",
       "97418      54.680687  \n",
       "97620   10402.649414  \n",
       "97822       0.694541  \n",
       "98024      76.689056  \n",
       "98226       0.557642  \n",
       "98428   10402.649414  \n",
       "100842   1953.518677  "
      ]
     },
     "execution_count": 20,
     "metadata": {},
     "output_type": "execute_result"
    }
   ],
   "source": [
    "# alle anderen Werte an der Stelle kriegen\n",
    "df[df.step == best_step]"
   ]
  },
  {
   "cell_type": "code",
   "execution_count": null,
   "metadata": {},
   "outputs": [],
   "source": []
  },
  {
   "cell_type": "code",
   "execution_count": null,
   "metadata": {},
   "outputs": [],
   "source": []
  },
  {
   "cell_type": "code",
   "execution_count": null,
   "metadata": {},
   "outputs": [],
   "source": []
  },
  {
   "cell_type": "code",
   "execution_count": 16,
   "metadata": {},
   "outputs": [
    {
     "ename": "ValueError",
     "evalue": "pivoted DataFrame contains missing value(s). This is likely due to two timeseries having different sets of steps in your experiment. You can avoid this error by calling `get_scalars()` with `pivot=False` to disable the DataFrame pivoting.",
     "output_type": "error",
     "traceback": [
      "\u001b[0;31m---------------------------------------------------------------------------\u001b[0m",
      "\u001b[0;31mValueError\u001b[0m                                Traceback (most recent call last)",
      "\u001b[0;32m<ipython-input-16-b114d1a05ab8>\u001b[0m in \u001b[0;36m<module>\u001b[0;34m\u001b[0m\n\u001b[0;32m----> 1\u001b[0;31m \u001b[0mdf_steps\u001b[0m \u001b[0;34m=\u001b[0m \u001b[0mexperiment\u001b[0m\u001b[0;34m.\u001b[0m\u001b[0mget_scalars\u001b[0m\u001b[0;34m(\u001b[0m\u001b[0mpivot\u001b[0m\u001b[0;34m=\u001b[0m\u001b[0;32mTrue\u001b[0m\u001b[0;34m)\u001b[0m\u001b[0;34m\u001b[0m\u001b[0;34m\u001b[0m\u001b[0m\n\u001b[0m\u001b[1;32m      2\u001b[0m \u001b[0mdf_steps\u001b[0m\u001b[0;34m\u001b[0m\u001b[0;34m\u001b[0m\u001b[0m\n",
      "\u001b[0;32m~/miniconda3/envs/GPU/lib/python3.7/site-packages/tensorboard/data/experimental/experiment_from_dev.py\u001b[0m in \u001b[0;36mget_scalars\u001b[0;34m(self, runs_filter, tags_filter, pivot, include_wall_time)\u001b[0m\n\u001b[1;32m    125\u001b[0m         \u001b[0mdataframe\u001b[0m \u001b[0;34m=\u001b[0m \u001b[0mpandas\u001b[0m\u001b[0;34m.\u001b[0m\u001b[0mDataFrame\u001b[0m\u001b[0;34m(\u001b[0m\u001b[0mdata\u001b[0m\u001b[0;34m)\u001b[0m\u001b[0;34m\u001b[0m\u001b[0;34m\u001b[0m\u001b[0m\n\u001b[1;32m    126\u001b[0m         \u001b[0;32mif\u001b[0m \u001b[0mpivot\u001b[0m\u001b[0;34m:\u001b[0m\u001b[0;34m\u001b[0m\u001b[0;34m\u001b[0m\u001b[0m\n\u001b[0;32m--> 127\u001b[0;31m             \u001b[0mdataframe\u001b[0m \u001b[0;34m=\u001b[0m \u001b[0mself\u001b[0m\u001b[0;34m.\u001b[0m\u001b[0m_pivot_dataframe\u001b[0m\u001b[0;34m(\u001b[0m\u001b[0mdataframe\u001b[0m\u001b[0;34m)\u001b[0m\u001b[0;34m\u001b[0m\u001b[0;34m\u001b[0m\u001b[0m\n\u001b[0m\u001b[1;32m    128\u001b[0m         \u001b[0;32mreturn\u001b[0m \u001b[0mdataframe\u001b[0m\u001b[0;34m\u001b[0m\u001b[0;34m\u001b[0m\u001b[0m\n\u001b[1;32m    129\u001b[0m \u001b[0;34m\u001b[0m\u001b[0m\n",
      "\u001b[0;32m~/miniconda3/envs/GPU/lib/python3.7/site-packages/tensorboard/data/experimental/experiment_from_dev.py\u001b[0m in \u001b[0;36m_pivot_dataframe\u001b[0;34m(self, dataframe)\u001b[0m\n\u001b[1;32m    143\u001b[0m         \u001b[0;32mif\u001b[0m \u001b[0mnum_missing_1\u001b[0m \u001b[0;34m>\u001b[0m \u001b[0mnum_missing_0\u001b[0m\u001b[0;34m:\u001b[0m\u001b[0;34m\u001b[0m\u001b[0;34m\u001b[0m\u001b[0m\n\u001b[1;32m    144\u001b[0m             raise ValueError(\n\u001b[0;32m--> 145\u001b[0;31m                 \u001b[0;34m\"pivoted DataFrame contains missing value(s). \"\u001b[0m\u001b[0;34m\u001b[0m\u001b[0;34m\u001b[0m\u001b[0m\n\u001b[0m\u001b[1;32m    146\u001b[0m                 \u001b[0;34m\"This is likely due to two timeseries having different \"\u001b[0m\u001b[0;34m\u001b[0m\u001b[0;34m\u001b[0m\u001b[0m\n\u001b[1;32m    147\u001b[0m                 \u001b[0;34m\"sets of steps in your experiment. \"\u001b[0m\u001b[0;34m\u001b[0m\u001b[0;34m\u001b[0m\u001b[0m\n",
      "\u001b[0;31mValueError\u001b[0m: pivoted DataFrame contains missing value(s). This is likely due to two timeseries having different sets of steps in your experiment. You can avoid this error by calling `get_scalars()` with `pivot=False` to disable the DataFrame pivoting."
     ]
    }
   ],
   "source": [
    "# das hier geht (eigentlich): Die steps nicht für jeden Scalar (MAE, Pearson, ...) als einzelne Zeilen, sondern pro Step eine Zeile mit mehrerern Spalten\n",
    "# das Problem hier ist, dass ja nicht zu allen steps alles gemacht wird (train loss öfter als der Rest)\n",
    "df_steps = experiment.get_scalars(pivot=True) \n",
    "df_steps"
   ]
  },
  {
   "cell_type": "code",
   "execution_count": null,
   "metadata": {},
   "outputs": [],
   "source": []
  }
 ],
 "metadata": {
  "kernelspec": {
   "display_name": "Python 3",
   "language": "python",
   "name": "python3"
  },
  "language_info": {
   "codemirror_mode": {
    "name": "ipython",
    "version": 3
   },
   "file_extension": ".py",
   "mimetype": "text/x-python",
   "name": "python",
   "nbconvert_exporter": "python",
   "pygments_lexer": "ipython3",
   "version": "3.7.9"
  }
 },
 "nbformat": 4,
 "nbformat_minor": 2
}
