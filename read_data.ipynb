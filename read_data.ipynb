{
 "cells": [
  {
   "cell_type": "code",
   "execution_count": 179,
   "metadata": {},
   "outputs": [],
   "source": [
    "import pandas as pd\n",
    "import numpy as np\n",
    "import re\n",
    "import json\n",
    "from pathlib import Path\n",
    "\n",
    "import matplotlib.pyplot as plt"
   ]
  },
  {
   "cell_type": "code",
   "execution_count": 180,
   "metadata": {},
   "outputs": [],
   "source": [
    "ROOT = Path('/Volumes/INWT/Daten_NLP/') # encrypted folder!\n",
    "DATA = ROOT / '200707_aachener_zeitung.txt'\n",
    "META = ROOT / 'Dokumentation_Daten.txt'"
   ]
  },
  {
   "cell_type": "markdown",
   "metadata": {},
   "source": [
    "## Reading in sample data"
   ]
  },
  {
   "cell_type": "code",
   "execution_count": 181,
   "metadata": {},
   "outputs": [
    {
     "name": "stderr",
     "output_type": "stream",
     "text": [
      "b'Skipping line 116: expected 52 fields, saw 54\\nSkipping line 180: expected 52 fields, saw 53\\nSkipping line 215: expected 52 fields, saw 53\\nSkipping line 308: expected 52 fields, saw 55\\nSkipping line 461: expected 52 fields, saw 55\\nSkipping line 625: expected 52 fields, saw 53\\n'\n"
     ]
    }
   ],
   "source": [
    "raw = pd.read_csv(DATA, encoding='utf-8', error_bad_lines=False, quotechar = '\"', doublequote=False) # index_col=0\n",
    "\n",
    "# Achtung: in row 116, 180, 215, 308, 461, 625 treten Fehler auf ???"
   ]
  },
  {
   "cell_type": "code",
   "execution_count": 182,
   "metadata": {},
   "outputs": [],
   "source": [
    "import re"
   ]
  },
  {
   "cell_type": "markdown",
   "metadata": {},
   "source": [
    "## Creating dict with descriptions of columns from meta file"
   ]
  },
  {
   "cell_type": "code",
   "execution_count": 183,
   "metadata": {},
   "outputs": [
    {
     "name": "stdout",
     "output_type": "stream",
     "text": [
      "Im Folgenden werden die Inhalte der im Datenexport enthaltenen Spalten beschrieben:\n",
      "- Zusätzliche Information zu den Spalten 2-11 finden sich unter https://ga-dev-tools.appspot.com/dimensions-metrics-explorer/?\n",
      "- tbi: to be ignored\n",
      "\n",
      "- (1): articleId - ID (aus CMS des Publishers)\n",
      "- (2): pageviews - Anzahl Seitenaufrufe\n",
      "- (3): entrances - Anzahl Einstiege\n",
      "- (4): exits - Anzahl Ausstiege\n",
      "- (5): bounces - Anzahl Bounces\n",
      "- (6): timeOnPage - Verweil- oder Lesedauer in Sekunden (insgesamt)\n",
      "- (7): conversions - Anzahl Registrierungen/Abos\n",
      "- (8): avgTimeOnPage - durchschnittliche Verweil- oder Lesedauer in Sekunden\n",
      "- (9): stickiness - Anteil der Leser, die im Anschluss an den Artikel auf der Publisher-Seite blieben\n",
      "- (10): entranceRate - Anteil der Leser, die über den Artikel auf die Publisher-Seite kamen\n",
      "- (11): bounceRate - Anteil der Leser, die Publisher-Seite direkt wieder verlassen haben\n",
      "- (12): sharePageviews - tbi\n",
      "- (13): n - tbi\n",
      "- (14): nObs - tbi\n",
      "- (15): score_pageviews - tbi\n",
      "- (16): score_avgTimeOnPage - tbi\n",
      "- (17): score_entranceRate - tbi\n",
      "- (18): score_stickiness - tbi\n",
      "- (19): SCORE - tbi\n",
      "- (20): kategorie: Kategorie in der der Publisher den Artikel veröffentlicht hat\n",
      "- (21): rubrik: Unter-Kategorie\n",
      "- (22): subRubrik: UNter-Unter-Kategorie\n",
      "- (23): titel: Titel (Publisher)\n",
      "- (24): pagePath: URL\n",
      "- (25): dpaGuid: ID aus dpa DWH\n",
      "- (26): categoryCode: vm = \"Vermischtes\"\n",
      "- (27): creationDate: tbi\n",
      "- (28): flextags: tbi\n",
      "- (29): genre: dto\n",
      "- (30): geoArea: Regioninfo\n",
      "- (31): importance: tbi\n",
      "- (32): keywords: Keyword-Liste durch \"__,__\" getrennt\n",
      "- (33): lifetime: tbi\n",
      "- (34): limbic: tbi\n",
      "- (35): links: Weiterführende Links zum Artikel, die die dpa bereitstellt\n",
      "- (36): picture: tbi\n",
      "- (37): service: tbi\n",
      "- (38): subject: Subject-Liste durch \"__,__\" getrennt\n",
      "- (39): subjectBroader: tbi\n",
      "- (40): subjectCode: tbi\n",
      "- (41): teaser: Teaser Text\n",
      "- (42): text: Artikel-Text^\n",
      "- (43): titelH1: dpa Titel\n",
      "- (44): titelH3: dpa Untertitel\n",
      "- (45): urgency: tbi\n",
      "- (46): wikidata: tbi\n",
      "- (47): wordcount: Artikellänge in Wörtern\n",
      "- (48): category: \"vm\" = \"Vermischtes\"\n",
      "- (49): ratgeber: tbi\n",
      "- (50): format: tbi\n",
      "- (51): dateLoaded: tbi\n",
      "- (52): nLoadAttempts: tbi\n"
     ]
    }
   ],
   "source": [
    "# Zusätzliche Information zu den Spalten 2-11 finden sich unter\n",
    "# https://ga-dev-tools.appspot.com/dimensions-metrics-explorer/?\n",
    "\n",
    "meta_dict = {}\n",
    "with open(META, 'r') as fp:\n",
    "    line = fp.readline()\n",
    "    cnt = 1\n",
    "    while line:\n",
    "        print(line.strip())\n",
    "        if '- (' in line:\n",
    "            line = re.sub(r'- \\(\\d+\\): ', '', line).strip()\n",
    "            #print(line)\n",
    "            var_name, var_description = re.split(': | - ',line)\n",
    "            meta_dict[var_name] = var_description\n",
    "        line = fp.readline()"
   ]
  },
  {
   "cell_type": "code",
   "execution_count": 184,
   "metadata": {},
   "outputs": [],
   "source": [
    "with open('meta_dict.json', 'w') as f:\n",
    "    json.dump(meta_dict, f)"
   ]
  },
  {
   "cell_type": "code",
   "execution_count": 185,
   "metadata": {},
   "outputs": [
    {
     "data": {
      "text/plain": [
       "52"
      ]
     },
     "execution_count": 185,
     "metadata": {},
     "output_type": "execute_result"
    }
   ],
   "source": [
    "len(meta_dict)"
   ]
  },
  {
   "cell_type": "code",
   "execution_count": 186,
   "metadata": {},
   "outputs": [
    {
     "data": {
      "text/plain": [
       "'Anzahl Seitenaufrufe'"
      ]
     },
     "execution_count": 186,
     "metadata": {},
     "output_type": "execute_result"
    }
   ],
   "source": [
    "meta_dict['pageviews']"
   ]
  },
  {
   "cell_type": "code",
   "execution_count": 187,
   "metadata": {},
   "outputs": [
    {
     "name": "stdout",
     "output_type": "stream",
     "text": [
      "articleId : ID (aus CMS des Publishers)\n",
      "pageviews : Anzahl Seitenaufrufe\n",
      "entrances : Anzahl Einstiege\n",
      "exits : Anzahl Ausstiege\n",
      "bounces : Anzahl Bounces\n",
      "timeOnPage : Verweil- oder Lesedauer in Sekunden (insgesamt)\n",
      "conversions : Anzahl Registrierungen/Abos\n",
      "avgTimeOnPage : durchschnittliche Verweil- oder Lesedauer in Sekunden\n",
      "stickiness : Anteil der Leser, die im Anschluss an den Artikel auf der Publisher-Seite blieben\n",
      "entranceRate : Anteil der Leser, die über den Artikel auf die Publisher-Seite kamen\n",
      "bounceRate : Anteil der Leser, die Publisher-Seite direkt wieder verlassen haben\n",
      "kategorie : Kategorie in der der Publisher den Artikel veröffentlicht hat\n",
      "rubrik : Unter-Kategorie\n",
      "subRubrik : UNter-Unter-Kategorie\n",
      "titel : Titel (Publisher)\n",
      "pagePath : URL\n",
      "dpaGuid : ID aus dpa DWH\n",
      "categoryCode : vm = \"Vermischtes\"\n",
      "genre : dto\n",
      "geoArea : Regioninfo\n",
      "keywords : Keyword-Liste durch \"__,__\" getrennt\n",
      "links : Weiterführende Links zum Artikel, die die dpa bereitstellt\n",
      "subject : Subject-Liste durch \"__,__\" getrennt\n",
      "teaser : Teaser Text\n",
      "text : Artikel-Text^\n",
      "titelH1 : dpa Titel\n",
      "titelH3 : dpa Untertitel\n",
      "wordcount : Artikellänge in Wörtern\n",
      "category : \"vm\" = \"Vermischtes\"\n"
     ]
    }
   ],
   "source": [
    "for var in meta_dict.keys():\n",
    "    if meta_dict[var] != 'tbi':\n",
    "        print(var,':', meta_dict[var])"
   ]
  },
  {
   "cell_type": "code",
   "execution_count": 188,
   "metadata": {},
   "outputs": [
    {
     "data": {
      "text/plain": [
       "Index(['articleId', 'pageviews', 'entrances', 'exits', 'bounces', 'timeOnPage',\n",
       "       'conversions', 'avgTimeOnPage', 'stickiness', 'entranceRate',\n",
       "       'bounceRate', 'sharePageviews', 'n', 'nObs', 'score_pageviews',\n",
       "       'score_avgTimeOnPage', 'score_entranceRate', 'score_stickiness',\n",
       "       'SCORE', 'kategorie', 'rubrik', 'subRubrik', 'titel', 'pagePath',\n",
       "       'dpaGuid', 'categoryCode', 'creationDate', 'flextags', 'genre',\n",
       "       'geoArea', 'importance', 'keywords', 'lifetime', 'limbic', 'links',\n",
       "       'picture', 'service', 'subject', 'subjectBroader', 'subjectCode',\n",
       "       'teaser', 'text', 'titelH1', 'titelH3', 'urgency', 'wikidata',\n",
       "       'wordcount', 'category', 'ratgeber', 'format', 'dateLoaded',\n",
       "       'nLoadAttempts'],\n",
       "      dtype='object')"
      ]
     },
     "execution_count": 188,
     "metadata": {},
     "output_type": "execute_result"
    }
   ],
   "source": [
    "raw.columns"
   ]
  },
  {
   "cell_type": "code",
   "execution_count": 189,
   "metadata": {},
   "outputs": [
    {
     "data": {
      "text/plain": [
       "(891, 52)"
      ]
     },
     "execution_count": 189,
     "metadata": {},
     "output_type": "execute_result"
    }
   ],
   "source": [
    "raw.shape"
   ]
  },
  {
   "cell_type": "code",
   "execution_count": 190,
   "metadata": {},
   "outputs": [],
   "source": [
    "# ignore colums with 'tbi' in meta_dict\n",
    "use_columns = [var for var in meta_dict.keys() if meta_dict[var] != 'tbi']"
   ]
  },
  {
   "cell_type": "code",
   "execution_count": 191,
   "metadata": {},
   "outputs": [
    {
     "data": {
      "text/plain": [
       "29"
      ]
     },
     "execution_count": 191,
     "metadata": {},
     "output_type": "execute_result"
    }
   ],
   "source": [
    "len(use_columns)"
   ]
  },
  {
   "cell_type": "code",
   "execution_count": 192,
   "metadata": {},
   "outputs": [],
   "source": [
    "df = raw[use_columns]"
   ]
  },
  {
   "cell_type": "code",
   "execution_count": 193,
   "metadata": {},
   "outputs": [],
   "source": [
    "df.set_index('articleId', inplace=True)"
   ]
  },
  {
   "cell_type": "code",
   "execution_count": 194,
   "metadata": {},
   "outputs": [
    {
     "data": {
      "text/plain": [
       "(891, 28)"
      ]
     },
     "execution_count": 194,
     "metadata": {},
     "output_type": "execute_result"
    }
   ],
   "source": [
    "df.shape"
   ]
  },
  {
   "cell_type": "code",
   "execution_count": 195,
   "metadata": {},
   "outputs": [
    {
     "data": {
      "text/html": [
       "<div>\n",
       "<style scoped>\n",
       "    .dataframe tbody tr th:only-of-type {\n",
       "        vertical-align: middle;\n",
       "    }\n",
       "\n",
       "    .dataframe tbody tr th {\n",
       "        vertical-align: top;\n",
       "    }\n",
       "\n",
       "    .dataframe thead th {\n",
       "        text-align: right;\n",
       "    }\n",
       "</style>\n",
       "<table border=\"1\" class=\"dataframe\">\n",
       "  <thead>\n",
       "    <tr style=\"text-align: right;\">\n",
       "      <th></th>\n",
       "      <th>pageviews</th>\n",
       "      <th>entrances</th>\n",
       "      <th>exits</th>\n",
       "      <th>bounces</th>\n",
       "      <th>timeOnPage</th>\n",
       "      <th>conversions</th>\n",
       "      <th>avgTimeOnPage</th>\n",
       "      <th>stickiness</th>\n",
       "      <th>entranceRate</th>\n",
       "      <th>bounceRate</th>\n",
       "      <th>...</th>\n",
       "      <th>geoArea</th>\n",
       "      <th>keywords</th>\n",
       "      <th>links</th>\n",
       "      <th>subject</th>\n",
       "      <th>teaser</th>\n",
       "      <th>text</th>\n",
       "      <th>titelH1</th>\n",
       "      <th>titelH3</th>\n",
       "      <th>wordcount</th>\n",
       "      <th>category</th>\n",
       "    </tr>\n",
       "    <tr>\n",
       "      <th>articleId</th>\n",
       "      <th></th>\n",
       "      <th></th>\n",
       "      <th></th>\n",
       "      <th></th>\n",
       "      <th></th>\n",
       "      <th></th>\n",
       "      <th></th>\n",
       "      <th></th>\n",
       "      <th></th>\n",
       "      <th></th>\n",
       "      <th></th>\n",
       "      <th></th>\n",
       "      <th></th>\n",
       "      <th></th>\n",
       "      <th></th>\n",
       "      <th></th>\n",
       "      <th></th>\n",
       "      <th></th>\n",
       "      <th></th>\n",
       "      <th></th>\n",
       "      <th></th>\n",
       "    </tr>\n",
       "  </thead>\n",
       "  <tbody>\n",
       "    <tr>\n",
       "      <th>48620281</th>\n",
       "      <td>21</td>\n",
       "      <td>7</td>\n",
       "      <td>12</td>\n",
       "      <td>7</td>\n",
       "      <td>1012</td>\n",
       "      <td>NaN</td>\n",
       "      <td>112.444444</td>\n",
       "      <td>42.857143</td>\n",
       "      <td>33.333333</td>\n",
       "      <td>33.333333</td>\n",
       "      <td>...</td>\n",
       "      <td>Deutschland</td>\n",
       "      <td>Ratgeber__,__Joggen__,__Laufschuhe__,__Messen_...</td>\n",
       "      <td>NaN</td>\n",
       "      <td>Gesundheit__,__Sport__,__Medizin__,__Freizeit</td>\n",
       "      <td>Wer ein bisschen durch den Park rennen möchte,...</td>\n",
       "      <td>München/Stuttgart (dpa/tmn) - Frische Luft und...</td>\n",
       "      <td>Ohne Treter läuft nichts: Die richtigen Schuhe...</td>\n",
       "      <td>NaN</td>\n",
       "      <td>769</td>\n",
       "      <td>vm</td>\n",
       "    </tr>\n",
       "    <tr>\n",
       "      <th>48620381</th>\n",
       "      <td>19</td>\n",
       "      <td>6</td>\n",
       "      <td>11</td>\n",
       "      <td>5</td>\n",
       "      <td>1484</td>\n",
       "      <td>NaN</td>\n",
       "      <td>185.500000</td>\n",
       "      <td>42.105263</td>\n",
       "      <td>31.578947</td>\n",
       "      <td>26.315789</td>\n",
       "      <td>...</td>\n",
       "      <td>Deutschland</td>\n",
       "      <td>Ratgeber__,__Psychologie__,__Depressionen__,__...</td>\n",
       "      <td>Info-Telefon Depression</td>\n",
       "      <td>Gesundheit__,__Medizin</td>\n",
       "      <td>Ewig grauer Himmel, Nässe, Kälte. Je länger de...</td>\n",
       "      <td>Berlin/Frankfurt/Main (dpa/tmn) - Der Wecker k...</td>\n",
       "      <td>Ohne Antrieb: Wann ist der Winter-Blues eine D...</td>\n",
       "      <td>NaN</td>\n",
       "      <td>441</td>\n",
       "      <td>vm</td>\n",
       "    </tr>\n",
       "    <tr>\n",
       "      <th>48622639</th>\n",
       "      <td>2</td>\n",
       "      <td>2</td>\n",
       "      <td>2</td>\n",
       "      <td>2</td>\n",
       "      <td>0</td>\n",
       "      <td>NaN</td>\n",
       "      <td>0.000000</td>\n",
       "      <td>0.000000</td>\n",
       "      <td>100.000000</td>\n",
       "      <td>100.000000</td>\n",
       "      <td>...</td>\n",
       "      <td>Deutschland</td>\n",
       "      <td>Eltern__,__Kinder__,__Ratgeber__,__Baby__,__Ba...</td>\n",
       "      <td>Test-Artikel</td>\n",
       "      <td>Familie__,__Technik</td>\n",
       "      <td>Schläfst du noch oder schreist du schon? Babyp...</td>\n",
       "      <td>Berlin (dpa/tmn) - Eltern auf der Suche nach e...</td>\n",
       "      <td>Funk statt WLAN: Klassische Babyphones weiter ...</td>\n",
       "      <td>NaN</td>\n",
       "      <td>390</td>\n",
       "      <td>vm</td>\n",
       "    </tr>\n",
       "    <tr>\n",
       "      <th>48623085</th>\n",
       "      <td>32</td>\n",
       "      <td>9</td>\n",
       "      <td>20</td>\n",
       "      <td>9</td>\n",
       "      <td>974</td>\n",
       "      <td>NaN</td>\n",
       "      <td>81.166667</td>\n",
       "      <td>37.500000</td>\n",
       "      <td>28.125000</td>\n",
       "      <td>28.125000</td>\n",
       "      <td>...</td>\n",
       "      <td>Deutschland</td>\n",
       "      <td>Ratgeber__,__Stiftung Warentest__,__Spülmaschinen</td>\n",
       "      <td>Ergebnisse Spülmaschinentabs-Test Stiftung War...</td>\n",
       "      <td>Immobilien__,__Wohnen__,__Verbraucher__,__Umwelt</td>\n",
       "      <td>Dosierfach auf, Tab rein, Klappe zu, Maschine ...</td>\n",
       "      <td>Berlin (dpa/tmn) - Spülmaschinentabs sollen kl...</td>\n",
       "      <td>Warentest: Die besten Spülmaschinen-Multitabs ...</td>\n",
       "      <td>NaN</td>\n",
       "      <td>345</td>\n",
       "      <td>vm</td>\n",
       "    </tr>\n",
       "    <tr>\n",
       "      <th>48623259</th>\n",
       "      <td>24</td>\n",
       "      <td>2</td>\n",
       "      <td>7</td>\n",
       "      <td>2</td>\n",
       "      <td>3797</td>\n",
       "      <td>NaN</td>\n",
       "      <td>223.352941</td>\n",
       "      <td>70.833333</td>\n",
       "      <td>8.333333</td>\n",
       "      <td>8.333333</td>\n",
       "      <td>...</td>\n",
       "      <td>Deutschland</td>\n",
       "      <td>tmn0500__,__Lifestyle__,__Ratgeber__,__Stiftun...</td>\n",
       "      <td>NaN</td>\n",
       "      <td>Mode__,__Kosmetik</td>\n",
       "      <td>Make-up mit toller Deckkraft und trotzdem natü...</td>\n",
       "      <td>Berlin (dpa/tmn) - Make-up hat heutzutage eine...</td>\n",
       "      <td>Ist das noch natürlich? - Stiftung Warentest p...</td>\n",
       "      <td>NaN</td>\n",
       "      <td>182</td>\n",
       "      <td>vm</td>\n",
       "    </tr>\n",
       "  </tbody>\n",
       "</table>\n",
       "<p>5 rows × 28 columns</p>\n",
       "</div>"
      ],
      "text/plain": [
       "           pageviews  entrances  exits  bounces  timeOnPage  conversions  \\\n",
       "articleId                                                                  \n",
       "48620281          21          7     12        7        1012          NaN   \n",
       "48620381          19          6     11        5        1484          NaN   \n",
       "48622639           2          2      2        2           0          NaN   \n",
       "48623085          32          9     20        9         974          NaN   \n",
       "48623259          24          2      7        2        3797          NaN   \n",
       "\n",
       "           avgTimeOnPage  stickiness  entranceRate  bounceRate  ...  \\\n",
       "articleId                                                       ...   \n",
       "48620281      112.444444   42.857143     33.333333   33.333333  ...   \n",
       "48620381      185.500000   42.105263     31.578947   26.315789  ...   \n",
       "48622639        0.000000    0.000000    100.000000  100.000000  ...   \n",
       "48623085       81.166667   37.500000     28.125000   28.125000  ...   \n",
       "48623259      223.352941   70.833333      8.333333    8.333333  ...   \n",
       "\n",
       "               geoArea                                           keywords  \\\n",
       "articleId                                                                   \n",
       "48620281   Deutschland  Ratgeber__,__Joggen__,__Laufschuhe__,__Messen_...   \n",
       "48620381   Deutschland  Ratgeber__,__Psychologie__,__Depressionen__,__...   \n",
       "48622639   Deutschland  Eltern__,__Kinder__,__Ratgeber__,__Baby__,__Ba...   \n",
       "48623085   Deutschland  Ratgeber__,__Stiftung Warentest__,__Spülmaschinen   \n",
       "48623259   Deutschland  tmn0500__,__Lifestyle__,__Ratgeber__,__Stiftun...   \n",
       "\n",
       "                                                       links  \\\n",
       "articleId                                                      \n",
       "48620281                                                 NaN   \n",
       "48620381                             Info-Telefon Depression   \n",
       "48622639                                        Test-Artikel   \n",
       "48623085   Ergebnisse Spülmaschinentabs-Test Stiftung War...   \n",
       "48623259                                                 NaN   \n",
       "\n",
       "                                                    subject  \\\n",
       "articleId                                                     \n",
       "48620281      Gesundheit__,__Sport__,__Medizin__,__Freizeit   \n",
       "48620381                             Gesundheit__,__Medizin   \n",
       "48622639                                Familie__,__Technik   \n",
       "48623085   Immobilien__,__Wohnen__,__Verbraucher__,__Umwelt   \n",
       "48623259                                  Mode__,__Kosmetik   \n",
       "\n",
       "                                                      teaser  \\\n",
       "articleId                                                      \n",
       "48620281   Wer ein bisschen durch den Park rennen möchte,...   \n",
       "48620381   Ewig grauer Himmel, Nässe, Kälte. Je länger de...   \n",
       "48622639   Schläfst du noch oder schreist du schon? Babyp...   \n",
       "48623085   Dosierfach auf, Tab rein, Klappe zu, Maschine ...   \n",
       "48623259   Make-up mit toller Deckkraft und trotzdem natü...   \n",
       "\n",
       "                                                        text  \\\n",
       "articleId                                                      \n",
       "48620281   München/Stuttgart (dpa/tmn) - Frische Luft und...   \n",
       "48620381   Berlin/Frankfurt/Main (dpa/tmn) - Der Wecker k...   \n",
       "48622639   Berlin (dpa/tmn) - Eltern auf der Suche nach e...   \n",
       "48623085   Berlin (dpa/tmn) - Spülmaschinentabs sollen kl...   \n",
       "48623259   Berlin (dpa/tmn) - Make-up hat heutzutage eine...   \n",
       "\n",
       "                                                     titelH1 titelH3  \\\n",
       "articleId                                                              \n",
       "48620281   Ohne Treter läuft nichts: Die richtigen Schuhe...     NaN   \n",
       "48620381   Ohne Antrieb: Wann ist der Winter-Blues eine D...     NaN   \n",
       "48622639   Funk statt WLAN: Klassische Babyphones weiter ...     NaN   \n",
       "48623085   Warentest: Die besten Spülmaschinen-Multitabs ...     NaN   \n",
       "48623259   Ist das noch natürlich? - Stiftung Warentest p...     NaN   \n",
       "\n",
       "          wordcount category  \n",
       "articleId                     \n",
       "48620281        769       vm  \n",
       "48620381        441       vm  \n",
       "48622639        390       vm  \n",
       "48623085        345       vm  \n",
       "48623259        182       vm  \n",
       "\n",
       "[5 rows x 28 columns]"
      ]
     },
     "execution_count": 195,
     "metadata": {},
     "output_type": "execute_result"
    }
   ],
   "source": [
    "df.head()"
   ]
  },
  {
   "cell_type": "code",
   "execution_count": 196,
   "metadata": {},
   "outputs": [
    {
     "data": {
      "text/html": [
       "<div>\n",
       "<style scoped>\n",
       "    .dataframe tbody tr th:only-of-type {\n",
       "        vertical-align: middle;\n",
       "    }\n",
       "\n",
       "    .dataframe tbody tr th {\n",
       "        vertical-align: top;\n",
       "    }\n",
       "\n",
       "    .dataframe thead th {\n",
       "        text-align: right;\n",
       "    }\n",
       "</style>\n",
       "<table border=\"1\" class=\"dataframe\">\n",
       "  <thead>\n",
       "    <tr style=\"text-align: right;\">\n",
       "      <th></th>\n",
       "      <th>pageviews</th>\n",
       "      <th>entrances</th>\n",
       "      <th>exits</th>\n",
       "      <th>bounces</th>\n",
       "      <th>timeOnPage</th>\n",
       "      <th>conversions</th>\n",
       "      <th>avgTimeOnPage</th>\n",
       "      <th>stickiness</th>\n",
       "      <th>entranceRate</th>\n",
       "      <th>bounceRate</th>\n",
       "      <th>titelH3</th>\n",
       "      <th>wordcount</th>\n",
       "    </tr>\n",
       "  </thead>\n",
       "  <tbody>\n",
       "    <tr>\n",
       "      <th>count</th>\n",
       "      <td>891.0</td>\n",
       "      <td>891.0</td>\n",
       "      <td>891.0</td>\n",
       "      <td>891.0</td>\n",
       "      <td>891.0</td>\n",
       "      <td>0.0</td>\n",
       "      <td>891.0</td>\n",
       "      <td>891.0</td>\n",
       "      <td>891.0</td>\n",
       "      <td>891.0</td>\n",
       "      <td>0.0</td>\n",
       "      <td>891.0</td>\n",
       "    </tr>\n",
       "    <tr>\n",
       "      <th>mean</th>\n",
       "      <td>35.0</td>\n",
       "      <td>16.0</td>\n",
       "      <td>20.0</td>\n",
       "      <td>14.0</td>\n",
       "      <td>2115.0</td>\n",
       "      <td>NaN</td>\n",
       "      <td>115.0</td>\n",
       "      <td>58.0</td>\n",
       "      <td>28.0</td>\n",
       "      <td>24.0</td>\n",
       "      <td>NaN</td>\n",
       "      <td>340.0</td>\n",
       "    </tr>\n",
       "    <tr>\n",
       "      <th>std</th>\n",
       "      <td>190.0</td>\n",
       "      <td>114.0</td>\n",
       "      <td>131.0</td>\n",
       "      <td>103.0</td>\n",
       "      <td>11761.0</td>\n",
       "      <td>NaN</td>\n",
       "      <td>126.0</td>\n",
       "      <td>25.0</td>\n",
       "      <td>26.0</td>\n",
       "      <td>25.0</td>\n",
       "      <td>NaN</td>\n",
       "      <td>211.0</td>\n",
       "    </tr>\n",
       "    <tr>\n",
       "      <th>min</th>\n",
       "      <td>1.0</td>\n",
       "      <td>0.0</td>\n",
       "      <td>0.0</td>\n",
       "      <td>0.0</td>\n",
       "      <td>0.0</td>\n",
       "      <td>NaN</td>\n",
       "      <td>0.0</td>\n",
       "      <td>0.0</td>\n",
       "      <td>0.0</td>\n",
       "      <td>0.0</td>\n",
       "      <td>NaN</td>\n",
       "      <td>74.0</td>\n",
       "    </tr>\n",
       "    <tr>\n",
       "      <th>25%</th>\n",
       "      <td>6.0</td>\n",
       "      <td>1.0</td>\n",
       "      <td>2.0</td>\n",
       "      <td>0.0</td>\n",
       "      <td>187.0</td>\n",
       "      <td>NaN</td>\n",
       "      <td>46.0</td>\n",
       "      <td>44.0</td>\n",
       "      <td>6.0</td>\n",
       "      <td>0.0</td>\n",
       "      <td>NaN</td>\n",
       "      <td>171.0</td>\n",
       "    </tr>\n",
       "    <tr>\n",
       "      <th>50%</th>\n",
       "      <td>10.0</td>\n",
       "      <td>2.0</td>\n",
       "      <td>3.0</td>\n",
       "      <td>2.0</td>\n",
       "      <td>494.0</td>\n",
       "      <td>NaN</td>\n",
       "      <td>80.0</td>\n",
       "      <td>60.0</td>\n",
       "      <td>22.0</td>\n",
       "      <td>18.0</td>\n",
       "      <td>NaN</td>\n",
       "      <td>262.0</td>\n",
       "    </tr>\n",
       "    <tr>\n",
       "      <th>75%</th>\n",
       "      <td>17.0</td>\n",
       "      <td>5.0</td>\n",
       "      <td>7.0</td>\n",
       "      <td>4.0</td>\n",
       "      <td>1178.0</td>\n",
       "      <td>NaN</td>\n",
       "      <td>143.0</td>\n",
       "      <td>75.0</td>\n",
       "      <td>43.0</td>\n",
       "      <td>39.0</td>\n",
       "      <td>NaN</td>\n",
       "      <td>492.0</td>\n",
       "    </tr>\n",
       "    <tr>\n",
       "      <th>max</th>\n",
       "      <td>3047.0</td>\n",
       "      <td>1877.0</td>\n",
       "      <td>2032.0</td>\n",
       "      <td>1779.0</td>\n",
       "      <td>217337.0</td>\n",
       "      <td>NaN</td>\n",
       "      <td>1490.0</td>\n",
       "      <td>100.0</td>\n",
       "      <td>100.0</td>\n",
       "      <td>100.0</td>\n",
       "      <td>NaN</td>\n",
       "      <td>1374.0</td>\n",
       "    </tr>\n",
       "  </tbody>\n",
       "</table>\n",
       "</div>"
      ],
      "text/plain": [
       "       pageviews  entrances   exits  bounces  timeOnPage  conversions  \\\n",
       "count      891.0      891.0   891.0    891.0       891.0          0.0   \n",
       "mean        35.0       16.0    20.0     14.0      2115.0          NaN   \n",
       "std        190.0      114.0   131.0    103.0     11761.0          NaN   \n",
       "min          1.0        0.0     0.0      0.0         0.0          NaN   \n",
       "25%          6.0        1.0     2.0      0.0       187.0          NaN   \n",
       "50%         10.0        2.0     3.0      2.0       494.0          NaN   \n",
       "75%         17.0        5.0     7.0      4.0      1178.0          NaN   \n",
       "max       3047.0     1877.0  2032.0   1779.0    217337.0          NaN   \n",
       "\n",
       "       avgTimeOnPage  stickiness  entranceRate  bounceRate  titelH3  wordcount  \n",
       "count          891.0       891.0         891.0       891.0      0.0      891.0  \n",
       "mean           115.0        58.0          28.0        24.0      NaN      340.0  \n",
       "std            126.0        25.0          26.0        25.0      NaN      211.0  \n",
       "min              0.0         0.0           0.0         0.0      NaN       74.0  \n",
       "25%             46.0        44.0           6.0         0.0      NaN      171.0  \n",
       "50%             80.0        60.0          22.0        18.0      NaN      262.0  \n",
       "75%            143.0        75.0          43.0        39.0      NaN      492.0  \n",
       "max           1490.0       100.0         100.0       100.0      NaN     1374.0  "
      ]
     },
     "execution_count": 196,
     "metadata": {},
     "output_type": "execute_result"
    }
   ],
   "source": [
    "df.describe().round(0)"
   ]
  },
  {
   "cell_type": "code",
   "execution_count": 197,
   "metadata": {},
   "outputs": [
    {
     "name": "stdout",
     "output_type": "stream",
     "text": [
      "<class 'pandas.core.frame.DataFrame'>\n",
      "Int64Index: 891 entries, 48620281 to 51565349\n",
      "Data columns (total 28 columns):\n",
      " #   Column         Non-Null Count  Dtype  \n",
      "---  ------         --------------  -----  \n",
      " 0   pageviews      891 non-null    int64  \n",
      " 1   entrances      891 non-null    int64  \n",
      " 2   exits          891 non-null    int64  \n",
      " 3   bounces        891 non-null    int64  \n",
      " 4   timeOnPage     891 non-null    int64  \n",
      " 5   conversions    0 non-null      float64\n",
      " 6   avgTimeOnPage  891 non-null    float64\n",
      " 7   stickiness     891 non-null    float64\n",
      " 8   entranceRate   891 non-null    float64\n",
      " 9   bounceRate     891 non-null    float64\n",
      " 10  kategorie      891 non-null    object \n",
      " 11  rubrik         881 non-null    object \n",
      " 12  subRubrik      2 non-null      object \n",
      " 13  titel          891 non-null    object \n",
      " 14  pagePath       891 non-null    object \n",
      " 15  dpaGuid        891 non-null    object \n",
      " 16  categoryCode   891 non-null    object \n",
      " 17  genre          891 non-null    object \n",
      " 18  geoArea        890 non-null    object \n",
      " 19  keywords       891 non-null    object \n",
      " 20  links          314 non-null    object \n",
      " 21  subject        891 non-null    object \n",
      " 22  teaser         871 non-null    object \n",
      " 23  text           891 non-null    object \n",
      " 24  titelH1        891 non-null    object \n",
      " 25  titelH3        0 non-null      float64\n",
      " 26  wordcount      891 non-null    int64  \n",
      " 27  category       891 non-null    object \n",
      "dtypes: float64(6), int64(6), object(16)\n",
      "memory usage: 201.9+ KB\n",
      "<class 'pandas.core.frame.DataFrame'>\n",
      "Int64Index: 891 entries, 48620281 to 51565349\n",
      "Data columns (total 28 columns):\n",
      " #   Column         Non-Null Count  Dtype  \n",
      "---  ------         --------------  -----  \n",
      " 0   pageviews      891 non-null    int64  \n",
      " 1   entrances      891 non-null    int64  \n",
      " 2   exits          891 non-null    int64  \n",
      " 3   bounces        891 non-null    int64  \n",
      " 4   timeOnPage     891 non-null    int64  \n",
      " 5   conversions    891 non-null    object \n",
      " 6   avgTimeOnPage  891 non-null    float64\n",
      " 7   stickiness     891 non-null    float64\n",
      " 8   entranceRate   891 non-null    float64\n",
      " 9   bounceRate     891 non-null    float64\n",
      " 10  kategorie      891 non-null    object \n",
      " 11  rubrik         891 non-null    object \n",
      " 12  subRubrik      891 non-null    object \n",
      " 13  titel          891 non-null    object \n",
      " 14  pagePath       891 non-null    object \n",
      " 15  dpaGuid        891 non-null    object \n",
      " 16  categoryCode   891 non-null    object \n",
      " 17  genre          891 non-null    object \n",
      " 18  geoArea        891 non-null    object \n",
      " 19  keywords       891 non-null    object \n",
      " 20  links          891 non-null    object \n",
      " 21  subject        891 non-null    object \n",
      " 22  teaser         891 non-null    object \n",
      " 23  text           891 non-null    object \n",
      " 24  titelH1        891 non-null    object \n",
      " 25  titelH3        891 non-null    object \n",
      " 26  wordcount      891 non-null    int64  \n",
      " 27  category       891 non-null    object \n",
      "dtypes: float64(4), int64(6), object(18)\n",
      "memory usage: 201.9+ KB\n"
     ]
    }
   ],
   "source": [
    "df.info()\n",
    "df = df.fillna('') # replacing Nan with emtpy string\n",
    "df.info()"
   ]
  },
  {
   "cell_type": "code",
   "execution_count": 198,
   "metadata": {},
   "outputs": [
    {
     "data": {
      "text/plain": [
       "pageviews                                                        3\n",
       "entrances                                                        1\n",
       "exits                                                            1\n",
       "bounces                                                          1\n",
       "timeOnPage                                                     137\n",
       "conversions                                                       \n",
       "avgTimeOnPage                                                 68.5\n",
       "stickiness                                                 66.6667\n",
       "entranceRate                                               33.3333\n",
       "bounceRate                                                 33.3333\n",
       "kategorie                                                 ratgeber\n",
       "rubrik                                                bauen-wohnen\n",
       "subRubrik                                                         \n",
       "titel                                 der-konsum-in-gruenen-zeiten\n",
       "pagePath         https://www.aachener-zeitung.de/ratgeber/bauen...\n",
       "dpaGuid                                           200124-99-618796\n",
       "categoryCode                                             dpacat:vm\n",
       "genre                                        Themendienst-Gespräch\n",
       "geoArea                                                Deutschland\n",
       "keywords         Ratgeber__,__Lifestyle__,__Nachhaltigkeit__,__...\n",
       "links                                               Messe Ambiente\n",
       "subject                                                 Immobilien\n",
       "teaser           Viele Produkte aus Plastik lassen sich ersetze...\n",
       "text             Frankfurt/Main (dpa/tmn) - Wie geht es mit dem...\n",
       "titelH1          Trendausblick auf die Messe Ambiente: Der Kons...\n",
       "titelH3                                                           \n",
       "wordcount                                                      454\n",
       "category                                                        vm\n",
       "Name: 48643907, dtype: object"
      ]
     },
     "execution_count": 198,
     "metadata": {},
     "output_type": "execute_result"
    }
   ],
   "source": [
    "df.iloc[7] # one example"
   ]
  },
  {
   "cell_type": "code",
   "execution_count": 199,
   "metadata": {},
   "outputs": [],
   "source": [
    "# add a colum with place (e.g. München/Stuttgart)\n",
    "df['city'] = [ re.split('\\(dpa',text)[0].strip() for text in df.text ]"
   ]
  },
  {
   "cell_type": "code",
   "execution_count": 200,
   "metadata": {},
   "outputs": [],
   "source": [
    "# add a column with minimal preprocessed text\n",
    "for i in df.index:\n",
    "    text = df.loc[i, 'text']\n",
    "    preprocessed = text.replace('\\n', ' ').strip() # delete linebreaks\n",
    "    preprocessed = re.sub(' +', ' ', preprocessed) # just one space\n",
    "    preprocessed = preprocessed.split('tmn) - ')[-1] # delete city in front of text\n",
    "    df.loc[i, 'text_preprocessed'] = preprocessed"
   ]
  },
  {
   "cell_type": "code",
   "execution_count": 201,
   "metadata": {},
   "outputs": [
    {
     "data": {
      "text/plain": [
       "'München/Stuttgart (dpa/tmn) - Frische Luft und Bewegung: Diese\\nKombination reizt viele Menschen am Laufen. Damit die Muskeln und\\nSehnen eine Joggingrunde gut überstehen, spielt das Schuhwerk eine\\nzentrale Rolle. Anders gesagt: Ohne Laufschuhe läuft nichts. Warum\\ndas so ist und worauf es bei den Modellen ankommt:\\n\\nReicht für den Start nicht der alte Hallenschuh?\\n\\nNein. «Ein Hallenschuh ist sicher nicht geeignet, um einen etwa auf\\nWaldboden weit zu tragen», erklärt der Orthopäde Patrik Reize. Beim'"
      ]
     },
     "execution_count": 201,
     "metadata": {},
     "output_type": "execute_result"
    }
   ],
   "source": [
    "df.loc[48620281, 'text'][:500]"
   ]
  },
  {
   "cell_type": "code",
   "execution_count": 202,
   "metadata": {},
   "outputs": [
    {
     "data": {
      "text/plain": [
       "'Frische Luft und Bewegung: Diese Kombination reizt viele Menschen am Laufen. Damit die Muskeln und Sehnen eine Joggingrunde gut überstehen, spielt das Schuhwerk eine zentrale Rolle. Anders gesagt: Ohne Laufschuhe läuft nichts. Warum das so ist und worauf es bei den Modellen ankommt: Reicht für den Start nicht der alte Hallenschuh? Nein. «Ein Hallenschuh ist sicher nicht geeignet, um einen etwa auf Waldboden weit zu tragen», erklärt der Orthopäde Patrik Reize. Beim Laufen würden andere Fußteile b'"
      ]
     },
     "execution_count": 202,
     "metadata": {},
     "output_type": "execute_result"
    }
   ],
   "source": [
    "df.loc[48620281, 'text_preprocessed'][:500]"
   ]
  },
  {
   "cell_type": "code",
   "execution_count": 203,
   "metadata": {},
   "outputs": [
    {
     "name": "stderr",
     "output_type": "stream",
     "text": [
      "[nltk_data] Downloading package punkt to /Users/Sanna/nltk_data...\n",
      "[nltk_data]   Package punkt is already up-to-date!\n"
     ]
    },
    {
     "data": {
      "text/plain": [
       "True"
      ]
     },
     "execution_count": 203,
     "metadata": {},
     "output_type": "execute_result"
    }
   ],
   "source": [
    "import string\n",
    "import nltk\n",
    "nltk.download('punkt')"
   ]
  },
  {
   "cell_type": "code",
   "execution_count": 204,
   "metadata": {},
   "outputs": [],
   "source": [
    "# adding number of tokens and mean token length (ignoring punctuation)\n",
    "# (column \"wordcount\" already exists, slightley differetn outcome but okay)\n",
    "df['nr_tokens'] = [ len([ t for t in nltk.word_tokenize(text) if t not in string.punctuation])\n",
    "                    for text in df.text_preprocessed ]\n",
    "\n",
    "df['mean_token_length'] = [ np.mean([ len(t) for t in nltk.word_tokenize(text) if t not in string.punctuation])\n",
    "                            for text in df.text_preprocessed ]\n",
    "\n",
    "# adding also number of tokens in 'teaser' and 'titelH1'\n",
    "df['nr_tokens_teaser'] = [ len([ t for t in nltk.word_tokenize(teaser) if t not in string.punctuation])\n",
    "                           for teaser in df.teaser ]\n",
    "df['nr_tokens_titelH1'] = [ len([ t for t in nltk.word_tokenize(titel) if t not in string.punctuation])\n",
    "                            for titel in df.titelH1 ]"
   ]
  },
  {
   "cell_type": "code",
   "execution_count": 205,
   "metadata": {},
   "outputs": [],
   "source": [
    "# add a column: avg time divided by wordcount\n",
    "df['avgTimeOnPage/wordcount'] = df.avgTimeOnPage/df.wordcount"
   ]
  },
  {
   "cell_type": "code",
   "execution_count": 206,
   "metadata": {},
   "outputs": [
    {
     "data": {
      "text/html": [
       "<div>\n",
       "<style scoped>\n",
       "    .dataframe tbody tr th:only-of-type {\n",
       "        vertical-align: middle;\n",
       "    }\n",
       "\n",
       "    .dataframe tbody tr th {\n",
       "        vertical-align: top;\n",
       "    }\n",
       "\n",
       "    .dataframe thead th {\n",
       "        text-align: right;\n",
       "    }\n",
       "</style>\n",
       "<table border=\"1\" class=\"dataframe\">\n",
       "  <thead>\n",
       "    <tr style=\"text-align: right;\">\n",
       "      <th></th>\n",
       "      <th>pageviews</th>\n",
       "      <th>entrances</th>\n",
       "      <th>exits</th>\n",
       "      <th>bounces</th>\n",
       "      <th>timeOnPage</th>\n",
       "      <th>conversions</th>\n",
       "      <th>avgTimeOnPage</th>\n",
       "      <th>stickiness</th>\n",
       "      <th>entranceRate</th>\n",
       "      <th>bounceRate</th>\n",
       "      <th>...</th>\n",
       "      <th>titelH3</th>\n",
       "      <th>wordcount</th>\n",
       "      <th>category</th>\n",
       "      <th>city</th>\n",
       "      <th>text_preprocessed</th>\n",
       "      <th>nr_tokens</th>\n",
       "      <th>mean_token_length</th>\n",
       "      <th>nr_tokens_teaser</th>\n",
       "      <th>nr_tokens_titelH1</th>\n",
       "      <th>avgTimeOnPage/wordcount</th>\n",
       "    </tr>\n",
       "    <tr>\n",
       "      <th>articleId</th>\n",
       "      <th></th>\n",
       "      <th></th>\n",
       "      <th></th>\n",
       "      <th></th>\n",
       "      <th></th>\n",
       "      <th></th>\n",
       "      <th></th>\n",
       "      <th></th>\n",
       "      <th></th>\n",
       "      <th></th>\n",
       "      <th></th>\n",
       "      <th></th>\n",
       "      <th></th>\n",
       "      <th></th>\n",
       "      <th></th>\n",
       "      <th></th>\n",
       "      <th></th>\n",
       "      <th></th>\n",
       "      <th></th>\n",
       "      <th></th>\n",
       "      <th></th>\n",
       "    </tr>\n",
       "  </thead>\n",
       "  <tbody>\n",
       "    <tr>\n",
       "      <th>48620281</th>\n",
       "      <td>21</td>\n",
       "      <td>7</td>\n",
       "      <td>12</td>\n",
       "      <td>7</td>\n",
       "      <td>1012</td>\n",
       "      <td></td>\n",
       "      <td>112.444444</td>\n",
       "      <td>42.857143</td>\n",
       "      <td>33.333333</td>\n",
       "      <td>33.333333</td>\n",
       "      <td>...</td>\n",
       "      <td></td>\n",
       "      <td>769</td>\n",
       "      <td>vm</td>\n",
       "      <td>München/Stuttgart</td>\n",
       "      <td>Frische Luft und Bewegung: Diese Kombination r...</td>\n",
       "      <td>796</td>\n",
       "      <td>5.359296</td>\n",
       "      <td>29</td>\n",
       "      <td>9</td>\n",
       "      <td>0.146222</td>\n",
       "    </tr>\n",
       "    <tr>\n",
       "      <th>48620381</th>\n",
       "      <td>19</td>\n",
       "      <td>6</td>\n",
       "      <td>11</td>\n",
       "      <td>5</td>\n",
       "      <td>1484</td>\n",
       "      <td></td>\n",
       "      <td>185.500000</td>\n",
       "      <td>42.105263</td>\n",
       "      <td>31.578947</td>\n",
       "      <td>26.315789</td>\n",
       "      <td>...</td>\n",
       "      <td></td>\n",
       "      <td>441</td>\n",
       "      <td>vm</td>\n",
       "      <td>Berlin/Frankfurt/Main</td>\n",
       "      <td>Der Wecker klingelt, aufstehen! Doch gerade im...</td>\n",
       "      <td>452</td>\n",
       "      <td>5.938053</td>\n",
       "      <td>33</td>\n",
       "      <td>8</td>\n",
       "      <td>0.420635</td>\n",
       "    </tr>\n",
       "    <tr>\n",
       "      <th>48622639</th>\n",
       "      <td>2</td>\n",
       "      <td>2</td>\n",
       "      <td>2</td>\n",
       "      <td>2</td>\n",
       "      <td>0</td>\n",
       "      <td></td>\n",
       "      <td>0.000000</td>\n",
       "      <td>0.000000</td>\n",
       "      <td>100.000000</td>\n",
       "      <td>100.000000</td>\n",
       "      <td>...</td>\n",
       "      <td></td>\n",
       "      <td>390</td>\n",
       "      <td>vm</td>\n",
       "      <td>Berlin</td>\n",
       "      <td>Eltern auf der Suche nach einem guten Babyphon...</td>\n",
       "      <td>396</td>\n",
       "      <td>5.848485</td>\n",
       "      <td>30</td>\n",
       "      <td>7</td>\n",
       "      <td>0.000000</td>\n",
       "    </tr>\n",
       "    <tr>\n",
       "      <th>48623085</th>\n",
       "      <td>32</td>\n",
       "      <td>9</td>\n",
       "      <td>20</td>\n",
       "      <td>9</td>\n",
       "      <td>974</td>\n",
       "      <td></td>\n",
       "      <td>81.166667</td>\n",
       "      <td>37.500000</td>\n",
       "      <td>28.125000</td>\n",
       "      <td>28.125000</td>\n",
       "      <td>...</td>\n",
       "      <td></td>\n",
       "      <td>345</td>\n",
       "      <td>vm</td>\n",
       "      <td>Berlin</td>\n",
       "      <td>Spülmaschinentabs sollen kleine Alleskönner se...</td>\n",
       "      <td>367</td>\n",
       "      <td>5.594005</td>\n",
       "      <td>30</td>\n",
       "      <td>7</td>\n",
       "      <td>0.235266</td>\n",
       "    </tr>\n",
       "    <tr>\n",
       "      <th>48623259</th>\n",
       "      <td>24</td>\n",
       "      <td>2</td>\n",
       "      <td>7</td>\n",
       "      <td>2</td>\n",
       "      <td>3797</td>\n",
       "      <td></td>\n",
       "      <td>223.352941</td>\n",
       "      <td>70.833333</td>\n",
       "      <td>8.333333</td>\n",
       "      <td>8.333333</td>\n",
       "      <td>...</td>\n",
       "      <td></td>\n",
       "      <td>182</td>\n",
       "      <td>vm</td>\n",
       "      <td>Berlin</td>\n",
       "      <td>Make-up hat heutzutage einen Zweck: Es soll da...</td>\n",
       "      <td>183</td>\n",
       "      <td>5.622951</td>\n",
       "      <td>22</td>\n",
       "      <td>8</td>\n",
       "      <td>1.227214</td>\n",
       "    </tr>\n",
       "  </tbody>\n",
       "</table>\n",
       "<p>5 rows × 35 columns</p>\n",
       "</div>"
      ],
      "text/plain": [
       "           pageviews  entrances  exits  bounces  timeOnPage conversions  \\\n",
       "articleId                                                                 \n",
       "48620281          21          7     12        7        1012               \n",
       "48620381          19          6     11        5        1484               \n",
       "48622639           2          2      2        2           0               \n",
       "48623085          32          9     20        9         974               \n",
       "48623259          24          2      7        2        3797               \n",
       "\n",
       "           avgTimeOnPage  stickiness  entranceRate  bounceRate  ... titelH3  \\\n",
       "articleId                                                       ...           \n",
       "48620281      112.444444   42.857143     33.333333   33.333333  ...           \n",
       "48620381      185.500000   42.105263     31.578947   26.315789  ...           \n",
       "48622639        0.000000    0.000000    100.000000  100.000000  ...           \n",
       "48623085       81.166667   37.500000     28.125000   28.125000  ...           \n",
       "48623259      223.352941   70.833333      8.333333    8.333333  ...           \n",
       "\n",
       "          wordcount category                   city  \\\n",
       "articleId                                             \n",
       "48620281        769       vm      München/Stuttgart   \n",
       "48620381        441       vm  Berlin/Frankfurt/Main   \n",
       "48622639        390       vm                 Berlin   \n",
       "48623085        345       vm                 Berlin   \n",
       "48623259        182       vm                 Berlin   \n",
       "\n",
       "                                           text_preprocessed nr_tokens  \\\n",
       "articleId                                                                \n",
       "48620281   Frische Luft und Bewegung: Diese Kombination r...       796   \n",
       "48620381   Der Wecker klingelt, aufstehen! Doch gerade im...       452   \n",
       "48622639   Eltern auf der Suche nach einem guten Babyphon...       396   \n",
       "48623085   Spülmaschinentabs sollen kleine Alleskönner se...       367   \n",
       "48623259   Make-up hat heutzutage einen Zweck: Es soll da...       183   \n",
       "\n",
       "          mean_token_length nr_tokens_teaser nr_tokens_titelH1  \\\n",
       "articleId                                                        \n",
       "48620281           5.359296               29                 9   \n",
       "48620381           5.938053               33                 8   \n",
       "48622639           5.848485               30                 7   \n",
       "48623085           5.594005               30                 7   \n",
       "48623259           5.622951               22                 8   \n",
       "\n",
       "          avgTimeOnPage/wordcount  \n",
       "articleId                          \n",
       "48620281                 0.146222  \n",
       "48620381                 0.420635  \n",
       "48622639                 0.000000  \n",
       "48623085                 0.235266  \n",
       "48623259                 1.227214  \n",
       "\n",
       "[5 rows x 35 columns]"
      ]
     },
     "execution_count": 206,
     "metadata": {},
     "output_type": "execute_result"
    }
   ],
   "source": [
    "df.head()"
   ]
  },
  {
   "cell_type": "code",
   "execution_count": 207,
   "metadata": {},
   "outputs": [
    {
     "name": "stdout",
     "output_type": "stream",
     "text": [
      "pageviews: 2487\n",
      "nr_tokens: 770\n",
      "nr_tokens_titelH1: 6\n",
      "nr_tokens_teaser: 22\n",
      "-----\n",
      "titelH1\n",
      "Covid-19: Welche Regeln gelten im Betrieb?\n",
      "-----\n",
      "teaser\n",
      "Die Verbreitung des neuartigen Coronavirus betrifft auch die Arbeitswelt. Unternehmen ordnen Homeoffice an, Infizierte und Kontaktpersonen sind in Quarantäne. Was gilt arbeitsrechtlich?\n",
      "-----\n",
      "text_preprocessed\n",
      "Nachdem mehr und mehr Fälle von Covid-19-Infektionen in Deutschland und Europa bekannt werden, müssen auch Unternehmen reagieren. Welche Regeln gelten hier für Arbeitnehmer? Die wichtigsten Fragen und Antworten: Können Arbeitnehmer aus Angst vor dem Virus von zu Hause aus arbeiten? Wer Angst hat, sich am Arbeitsplatz oder außerhalb der eigenen vier Wände anzustecken, kann als Arbeitnehmer nicht einfach zuhause bleiben. Das gilt nur für Personen, die tatsächlich arbeitsunfähig sind, erklärt der DGB Rechtsschutz. Wenn im Betrieb aber die Arbeit im Homeoffice ohnehin üblich ist, kann das in Absprache mit dem Arbeitgeber in Anspruch genommen werden. Wo eine solche Möglichkeit bisher nicht besteht, kann man dennoch zu Hause arbeiten, wenn in derselben Stadt oder im selben Landkreis Infektionsfälle aufgetreten sind. Das erklärt Wolfgang Däubler, Professor für Deutsches und Europäisches Arbeitsrecht an der Universität Bremen in einem Interview mit dem Bund-Verlag. Das gelte aber nur dann, wenn die Arbeit zu mindestens 80 Prozent von zu Hause aus erledigt werden kann und Besprechungen per Telefon oder Videokonferenz möglich sind. Kann der Arbeitgeber Mitarbeiter auf Verdacht nach Hause schicken? Ist ein Arbeitgeber der Ansicht, dass ein Arbeitnehmer nicht arbeitsfähig ist, kann er die Person nach Hause schicken, erklärt der DGB Rechtsschutz. Arbeitnehmer zu verpflichten, Urlaub zu nehmen, sei aber nicht rechtens. Auch kann der Arbeitgeber nicht einfach anordnen, dass ein Arbeitnehmer zu Hause bleiben und etwa Überstunden abbauen soll. Das ist nur mit der Einwilligung des Mitarbeiters möglich. Bestehen Regeln zur Arbeit im Homeoffice, können Arbeitgeber ihre Mitarbeiter im Rahmen der getroffenen Abmachungen ins Homeoffice schicken, und sie von dort aus arbeiten lassen. Bekommen Arbeitnehmer weiter Geld, wenn der Betrieb schließt? Schließt ein Betrieb aus eigener Entscheidung heraus, muss der Arbeitgeber auch das Entgelt für seine Mitarbeiter weiterzahlen. Gleiches gilt, wenn eine Behörde ein Unternehmen schließt. Arbeitnehmer behalten ihren Entgeltanspruch, auch wenn sie nicht arbeiten können, heißt es beim DGB Rechtsschutz. Muss der Arbeitgeber Desinfektionsmittel zur Verfügung stellen? Grundsätzlich hat der Arbeitgeber dafür zu sorgen, dass Verletzungs- und Erkrankungsrisiken im Betrieb so gering wie möglich sind, heißt es beim DGB Rechtsschutz. Zu den erforderlichen Maßnahmen hierfür kann es auch zählen, dass der Arbeitgeber Desinfektionsmittel bereitstellt. Welche Schritte ein Betrieb unternehmen sollte, hänge aber immer von den Faktoren dort ab - zum Beispiel, ob die Mitarbeitenden Kundenkontakt haben oder nicht. Wie sieht es mit weiteren Maßnahmen aus? Arbeitgeber sind in der Pflicht, ihre Mitarbeiter über Risiken und Möglichkeiten aufzuklären. Dazu gehört es dann beispielsweise, Informationen zur Husten- und Niesetikette bereitzustellen und Regeln für den Umgang miteinander festzulegen, wie die IHK für München und Oberbayern erklärt. Atemschutzmasken, Handschuhe oder sonstige Schutzausrüstung könne ebenfalls unter Umständen zu zumutbaren Maßnahmen gehören - das hängt aber vom Betrieb ab. Wie muss der Arbeitgeber reagieren, wenn ein Fall im Betrieb auftritt? Zeigt ein Mitarbeiter Symptome von Covid-19, ist das zuständige Gesundheitsamt der erste Ansprechpartner für Betriebe, wie der Deutsche Industrie- und Handelskammertag erklärt. Das Gesundheitsamt ist dann für den Meldeweg zuständig und prüft, welche weiteren Maßnahmen zu ergreifen sind. Außerdem informiert die Behörde, wie sich Arbeitgeber weiter zu verhalten haben. Hat ein Arbeitnehmer am Arbeitsplatz entsprechende Symptome, sollten Arbeitgeber ihn nach Hause oder zum Arzt schicken, damit geklärt wird, ob es sich wirklich um das Corona-Virus handelt, empfiehlt die IHK für München und Oberbayern. Bekommen Arbeitnehmer in Quarantäne weiter ihr Gehalt? Wer krank ist und zuhause bleiben muss, bekommt weiterhin sein Gehalt gezahlt - auch bei Covid-19 gelten die gleichen Regeln wie sonst im Krankheitsfall. Wer dagegen nicht krank ist, aber trotzdem einer Quarantäne-Anordnung unterliegt, hat laut Infektionsschutzgesetz einen Entschädigungsanspruch in Höhe des Verdienstausfalls. Die Entschädigungsleistung hat der Arbeitgeber zu zahlen, der sie sich von der Behörde erstatten lassen kann. Betriebe müssen diese Entschädigung laut Informationen der IHK für München und Oberbayern binnen drei Monaten beim zuständigen Gesundheitsamt beantragen. Wie sehen die Regeln zu Dienstreisen aus? Grundsätzlich sind Arbeitnehmer verpflichtet, Dienstreisen anzutreten. Angst, sich anzustecken, ist laut DGB Rechtsschutz noch kein Grund, eine Dienstreise zu verweigern. Gibt es jedoch eine offizielle Reisewarnung des Auswärtigen Amts, müssen Arbeitnehmer nicht aus dienstlichen Gründen in das entsprechende Land reisen. Für China dürfte aufgrund der geltenden Reisewarnungen und weitreichenden Einschränkungen eine Anordnung zur Dienstreise wohl nicht mehr billigem Ermessen entsprechen, erklärt die IHK für München und Oberbayern in ihrem Ratgeber. Für Länder wie Italien sei jeweils der Einzelfall zu betrachten. Eine Dienstreise in abgeriegelte Gebiete sei sinnlos, weshalb Arbeitnehmer sich hier verweigern können, heißt es beim Bund-Verlag. Für andere Regionen in Italien ist auch die Dringlichkeit des einzelnen Auftrags ein entscheidender Faktor, erklärt die IHK für München und Oberbayern - ebenso wie die gesundheitliche Gefährdung für den Mitarbeiter. Grundsätzlich sei es ratsam, sich mit den jeweiligen Mitarbeitern abzusprechen und eine Lösung zu finden, die für alle verträglich ist.\n"
     ]
    }
   ],
   "source": [
    "def show_article(ID):\n",
    "    pageviews = df.loc[ID, 'pageviews']\n",
    "    print(f'pageviews: {pageviews}')\n",
    "    for m in ['nr_tokens', 'nr_tokens_titelH1', 'nr_tokens_teaser']:\n",
    "        value = df.loc[ID, m]\n",
    "        print(f'{m}: {value}')\n",
    "    for c in ['titelH1', 'teaser', 'text_preprocessed']:\n",
    "        print('-----')\n",
    "        print(c)\n",
    "        print(df.loc[ID, c])\n",
    "show_article(49333693)\n",
    "#show_article(48623259)\n",
    "#show_article(50175481)"
   ]
  },
  {
   "cell_type": "markdown",
   "metadata": {},
   "source": [
    "## looking at genre, rubrik, kategorie, keywords, ..."
   ]
  },
  {
   "cell_type": "code",
   "execution_count": 208,
   "metadata": {},
   "outputs": [],
   "source": [
    "from collections import defaultdict\n",
    "\n",
    "def get_meta_file_categorical_variable(column_name, seperator=\"__,__\"):\n",
    "    value_set = set()\n",
    "    for d in df[column_name]:\n",
    "        candidates = d.split(seperator)\n",
    "        for c in candidates:\n",
    "            value_set.add(c.strip())\n",
    "    value_df = pd.DataFrame(data=0, index = df.index, columns = sorted(list(value_set)))\n",
    "    for i, value in df[column_name].items():\n",
    "        candidates = value.split(seperator)\n",
    "        for c in candidates:\n",
    "            value_df.loc[i, c.strip()] = 1\n",
    "    return value_df"
   ]
  },
  {
   "cell_type": "code",
   "execution_count": 209,
   "metadata": {},
   "outputs": [
    {
     "name": "stdout",
     "output_type": "stream",
     "text": [
      "Aachen        3\n",
      "Alsdorf       1\n",
      "Alzenau       1\n",
      "Amberg        1\n",
      "Amsterdam     1\n",
      "             ..\n",
      "Witten        1\n",
      "Wolfsburg     1\n",
      "Worms         1\n",
      "Zürich        2\n",
      "Überlingen    2\n",
      "Length: 150, dtype: int64\n"
     ]
    }
   ],
   "source": [
    "df_city = get_value_set('city', seperator=\"/\")\n",
    "df_city.to_csv('meta_file_city.csv', index=True) # save to file\n",
    "print(df_city.sum(axis=0))"
   ]
  },
  {
   "cell_type": "code",
   "execution_count": 210,
   "metadata": {},
   "outputs": [
    {
     "name": "stdout",
     "output_type": "stream",
     "text": [
      "                   1\n",
      "Deutschland      884\n",
      "Frankreich         1\n",
      "Indien             1\n",
      "International      1\n",
      "Italien            2\n",
      "Schweiz            8\n",
      "Uganda             1\n",
      "Österreich         9\n",
      "dtype: int64\n"
     ]
    }
   ],
   "source": [
    "df_geoArea = get_value_set('geoArea')\n",
    "df_geoArea.to_csv('meta_file_geoArea.csv', index=True) # save to file\n",
    "print(df_geoArea.sum(axis=0))"
   ]
  },
  {
   "cell_type": "code",
   "execution_count": 211,
   "metadata": {},
   "outputs": [
    {
     "name": "stdout",
     "output_type": "stream",
     "text": [
      "Extra                      2\n",
      "Fragen & Antworten        29\n",
      "Fragen und Antworten      17\n",
      "Hintergrund                8\n",
      "Interview                 13\n",
      "KORR-Bericht             227\n",
      "Meldung                  492\n",
      "Themendienst-Gespräch     13\n",
      "Umfrage                    1\n",
      "Zusammenfassung          106\n",
      "dtype: int64\n"
     ]
    }
   ],
   "source": [
    "df_genre = get_value_set('genre')\n",
    "df_genre.to_csv('meta_file_genre.csv', index=True) # save to file\n",
    "print(df_genre.sum(axis=0))"
   ]
  },
  {
   "cell_type": "code",
   "execution_count": 212,
   "metadata": {},
   "outputs": [
    {
     "name": "stdout",
     "output_type": "stream",
     "text": [
      "                  10\n",
      "aachen             1\n",
      "auto             163\n",
      "bauen-wohnen     146\n",
      "bildung-beruf     92\n",
      "essen-trinken     84\n",
      "familie          114\n",
      "gesundheit       146\n",
      "lifestyle         31\n",
      "recht             51\n",
      "reisen            50\n",
      "themenwelten       3\n",
      "dtype: int64\n"
     ]
    }
   ],
   "source": [
    "df_rubrik = get_value_set('rubrik')\n",
    "df_rubrik.to_csv('meta_file_rubrik.csv', index=True) # save to file\n",
    "print(df_rubrik.sum(axis=0))"
   ]
  },
  {
   "cell_type": "code",
   "execution_count": 213,
   "metadata": {},
   "outputs": [
    {
     "data": {
      "text/plain": [
       "                                                                                                                                                                                                                           889\n",
       "darf-ich-meinen-dienstwagen-verleihen_aid-51534897&author=Aachener Zeitung&date=2020-06-08T04:19:00+0200&datePublished=2020-06-08 04:19&dateModified=2020-06-08 04:23&daysSincePublication=+0 days&origin=2&seo=             1\n",
       "arbeitsplatz-kollegen-rivalitaet-als-ansporn_aid-51535141&author=Aachener Zeitung&date=2020-06-08T04:59:00+0200&datePublished=2020-06-08 04:59&dateModified=2020-06-08 05:03&daysSincePublication=+2 days&origin=4&seo=      1\n",
       "Name: subRubrik, dtype: int64"
      ]
     },
     "execution_count": 213,
     "metadata": {},
     "output_type": "execute_result"
    }
   ],
   "source": [
    "df.subRubrik.value_counts() # ?????"
   ]
  },
  {
   "cell_type": "code",
   "execution_count": 214,
   "metadata": {},
   "outputs": [
    {
     "name": "stdout",
     "output_type": "stream",
     "text": [
      "lokales         1\n",
      "nrw-region      9\n",
      "ratgeber      878\n",
      "sonstiges       3\n",
      "dtype: int64\n"
     ]
    }
   ],
   "source": [
    "df_kategorie = get_value_set('kategorie')\n",
    "df_kategorie.to_csv('meta_file_kategorie.csv', index=True) # save to file\n",
    "print(df_kategorie.sum(axis=0))"
   ]
  },
  {
   "cell_type": "code",
   "execution_count": 215,
   "metadata": {},
   "outputs": [
    {
     "name": "stdout",
     "output_type": "stream",
     "text": [
      "#gutenews                 48\n",
      ":Corona                    1\n",
      "A1                         1\n",
      "ADAC                       1\n",
      "Abbiegen                   1\n",
      "                          ..\n",
      "Überholen                  2\n",
      "Übernachtungspauschale     1\n",
      "Übernahme                  1\n",
      "Überstunden                1\n",
      "Überweisung                1\n",
      "Length: 1543, dtype: int64\n"
     ]
    }
   ],
   "source": [
    "df_keywords = get_value_set('keywords')\n",
    "df_keywords.to_csv('meta_file_keywords.csv', index=True) # save to file\n",
    "print(df_keywords.sum(axis=0))"
   ]
  },
  {
   "cell_type": "code",
   "execution_count": 216,
   "metadata": {
    "scrolled": true
   },
   "outputs": [
    {
     "name": "stdout",
     "output_type": "stream",
     "text": [
      "Arbeit                114\n",
      "Automobilindustrie      1\n",
      "Ernährung              82\n",
      "Essen und Trinken       2\n",
      "Familie               106\n",
      "Finanzen                5\n",
      "Freizeit                1\n",
      "Gesundheit            155\n",
      "Immobilien            177\n",
      "Kosmetik                1\n",
      "Medizin                 3\n",
      "Mode                   29\n",
      "Recht                   1\n",
      "Sport                   2\n",
      "Steuern                 1\n",
      "Technik                 7\n",
      "Tier                    1\n",
      "Tourismus              39\n",
      "Umwelt                  1\n",
      "Verbraucher            14\n",
      "Verkehr               170\n",
      "Wohnen                  2\n",
      "dtype: int64\n"
     ]
    }
   ],
   "source": [
    "df_subject = get_value_set('subject')\n",
    "df_subject.to_csv('meta_file_subject.csv', index=True) # save to file\n",
    "print(df_subject.sum(axis=0))"
   ]
  },
  {
   "cell_type": "code",
   "execution_count": 217,
   "metadata": {},
   "outputs": [
    {
     "data": {
      "text/plain": [
       "array(['vm'], dtype=object)"
      ]
     },
     "execution_count": 217,
     "metadata": {},
     "output_type": "execute_result"
    }
   ],
   "source": [
    "df.category.unique() # same as categoryCode, not very informative..."
   ]
  },
  {
   "cell_type": "code",
   "execution_count": 218,
   "metadata": {},
   "outputs": [
    {
     "data": {
      "text/plain": [
       "array(['dpacat:vm'], dtype=object)"
      ]
     },
     "execution_count": 218,
     "metadata": {},
     "output_type": "execute_result"
    }
   ],
   "source": [
    "df.categoryCode.unique() # same as category, not very informative..."
   ]
  },
  {
   "cell_type": "code",
   "execution_count": 219,
   "metadata": {},
   "outputs": [
    {
     "data": {
      "text/html": [
       "<div>\n",
       "<style scoped>\n",
       "    .dataframe tbody tr th:only-of-type {\n",
       "        vertical-align: middle;\n",
       "    }\n",
       "\n",
       "    .dataframe tbody tr th {\n",
       "        vertical-align: top;\n",
       "    }\n",
       "\n",
       "    .dataframe thead th {\n",
       "        text-align: right;\n",
       "    }\n",
       "</style>\n",
       "<table border=\"1\" class=\"dataframe\">\n",
       "  <thead>\n",
       "    <tr style=\"text-align: right;\">\n",
       "      <th></th>\n",
       "      <th>pageviews</th>\n",
       "      <th>timeOnPage</th>\n",
       "      <th>entrances</th>\n",
       "      <th>wordcount</th>\n",
       "      <th>nr_tokens</th>\n",
       "      <th>nr_tokens_titelH1</th>\n",
       "      <th>nr_tokens_teaser</th>\n",
       "    </tr>\n",
       "  </thead>\n",
       "  <tbody>\n",
       "    <tr>\n",
       "      <th>min</th>\n",
       "      <td>1.000000</td>\n",
       "      <td>0.000000</td>\n",
       "      <td>0.000000</td>\n",
       "      <td>74.000000</td>\n",
       "      <td>73.000000</td>\n",
       "      <td>3.000000</td>\n",
       "      <td>0.000000</td>\n",
       "    </tr>\n",
       "    <tr>\n",
       "      <th>max</th>\n",
       "      <td>3047.000000</td>\n",
       "      <td>217337.000000</td>\n",
       "      <td>1877.000000</td>\n",
       "      <td>1374.000000</td>\n",
       "      <td>1431.000000</td>\n",
       "      <td>13.000000</td>\n",
       "      <td>36.000000</td>\n",
       "    </tr>\n",
       "    <tr>\n",
       "      <th>mean</th>\n",
       "      <td>35.459035</td>\n",
       "      <td>2114.952862</td>\n",
       "      <td>16.163861</td>\n",
       "      <td>340.406285</td>\n",
       "      <td>344.732884</td>\n",
       "      <td>7.919192</td>\n",
       "      <td>25.824916</td>\n",
       "    </tr>\n",
       "    <tr>\n",
       "      <th>median</th>\n",
       "      <td>10.000000</td>\n",
       "      <td>494.000000</td>\n",
       "      <td>2.000000</td>\n",
       "      <td>262.000000</td>\n",
       "      <td>262.000000</td>\n",
       "      <td>8.000000</td>\n",
       "      <td>27.000000</td>\n",
       "    </tr>\n",
       "    <tr>\n",
       "      <th>std</th>\n",
       "      <td>189.988507</td>\n",
       "      <td>11761.128249</td>\n",
       "      <td>113.578326</td>\n",
       "      <td>211.222006</td>\n",
       "      <td>217.726863</td>\n",
       "      <td>1.557938</td>\n",
       "      <td>5.493478</td>\n",
       "    </tr>\n",
       "  </tbody>\n",
       "</table>\n",
       "</div>"
      ],
      "text/plain": [
       "          pageviews     timeOnPage    entrances    wordcount    nr_tokens  \\\n",
       "min        1.000000       0.000000     0.000000    74.000000    73.000000   \n",
       "max     3047.000000  217337.000000  1877.000000  1374.000000  1431.000000   \n",
       "mean      35.459035    2114.952862    16.163861   340.406285   344.732884   \n",
       "median    10.000000     494.000000     2.000000   262.000000   262.000000   \n",
       "std      189.988507   11761.128249   113.578326   211.222006   217.726863   \n",
       "\n",
       "        nr_tokens_titelH1  nr_tokens_teaser  \n",
       "min              3.000000          0.000000  \n",
       "max             13.000000         36.000000  \n",
       "mean             7.919192         25.824916  \n",
       "median           8.000000         27.000000  \n",
       "std              1.557938          5.493478  "
      ]
     },
     "execution_count": 219,
     "metadata": {},
     "output_type": "execute_result"
    }
   ],
   "source": [
    "df.agg({'pageviews': ['min', 'max', 'mean', 'median', 'std'],\n",
    "        'timeOnPage': ['min', 'max', 'mean', 'median', 'std'],\n",
    "        'entrances': ['min', 'max', 'mean', 'median', 'std'],\n",
    "        'wordcount': ['min', 'max', 'mean', 'median', 'std'], # bereits in den Original-Daten\n",
    "        'nr_tokens': ['min', 'max', 'mean', 'median', 'std'],\n",
    "        'nr_tokens_titelH1': ['min', 'max', 'mean', 'median', 'std'],\n",
    "        'nr_tokens_teaser': ['min', 'max', 'mean', 'median', 'std'],\n",
    "       })"
   ]
  },
  {
   "cell_type": "code",
   "execution_count": 220,
   "metadata": {},
   "outputs": [
    {
     "data": {
      "text/html": [
       "<div>\n",
       "<style scoped>\n",
       "    .dataframe tbody tr th:only-of-type {\n",
       "        vertical-align: middle;\n",
       "    }\n",
       "\n",
       "    .dataframe tbody tr th {\n",
       "        vertical-align: top;\n",
       "    }\n",
       "\n",
       "    .dataframe thead th {\n",
       "        text-align: right;\n",
       "    }\n",
       "</style>\n",
       "<table border=\"1\" class=\"dataframe\">\n",
       "  <thead>\n",
       "    <tr style=\"text-align: right;\">\n",
       "      <th></th>\n",
       "      <th>pageviews</th>\n",
       "      <th>entrances</th>\n",
       "      <th>exits</th>\n",
       "      <th>bounces</th>\n",
       "      <th>timeOnPage</th>\n",
       "      <th>conversions</th>\n",
       "      <th>avgTimeOnPage</th>\n",
       "      <th>stickiness</th>\n",
       "      <th>entranceRate</th>\n",
       "      <th>bounceRate</th>\n",
       "      <th>...</th>\n",
       "      <th>titelH3</th>\n",
       "      <th>wordcount</th>\n",
       "      <th>category</th>\n",
       "      <th>city</th>\n",
       "      <th>text_preprocessed</th>\n",
       "      <th>nr_tokens</th>\n",
       "      <th>mean_token_length</th>\n",
       "      <th>nr_tokens_teaser</th>\n",
       "      <th>nr_tokens_titelH1</th>\n",
       "      <th>avgTimeOnPage/wordcount</th>\n",
       "    </tr>\n",
       "    <tr>\n",
       "      <th>articleId</th>\n",
       "      <th></th>\n",
       "      <th></th>\n",
       "      <th></th>\n",
       "      <th></th>\n",
       "      <th></th>\n",
       "      <th></th>\n",
       "      <th></th>\n",
       "      <th></th>\n",
       "      <th></th>\n",
       "      <th></th>\n",
       "      <th></th>\n",
       "      <th></th>\n",
       "      <th></th>\n",
       "      <th></th>\n",
       "      <th></th>\n",
       "      <th></th>\n",
       "      <th></th>\n",
       "      <th></th>\n",
       "      <th></th>\n",
       "      <th></th>\n",
       "      <th></th>\n",
       "    </tr>\n",
       "  </thead>\n",
       "  <tbody>\n",
       "    <tr>\n",
       "      <th>49200513</th>\n",
       "      <td>3047</td>\n",
       "      <td>1119</td>\n",
       "      <td>1693</td>\n",
       "      <td>924</td>\n",
       "      <td>217337</td>\n",
       "      <td></td>\n",
       "      <td>160.514771</td>\n",
       "      <td>44.437151</td>\n",
       "      <td>36.724647</td>\n",
       "      <td>30.324910</td>\n",
       "      <td>...</td>\n",
       "      <td></td>\n",
       "      <td>376</td>\n",
       "      <td>vm</td>\n",
       "      <td>Köln</td>\n",
       "      <td>Die neuen Fälle von Ansteckungen mit dem Coron...</td>\n",
       "      <td>379</td>\n",
       "      <td>5.598945</td>\n",
       "      <td>28</td>\n",
       "      <td>7</td>\n",
       "      <td>0.426901</td>\n",
       "    </tr>\n",
       "    <tr>\n",
       "      <th>49333693</th>\n",
       "      <td>2487</td>\n",
       "      <td>1877</td>\n",
       "      <td>2032</td>\n",
       "      <td>1699</td>\n",
       "      <td>136927</td>\n",
       "      <td></td>\n",
       "      <td>300.938462</td>\n",
       "      <td>18.295135</td>\n",
       "      <td>75.472457</td>\n",
       "      <td>68.315239</td>\n",
       "      <td>...</td>\n",
       "      <td></td>\n",
       "      <td>768</td>\n",
       "      <td>vm</td>\n",
       "      <td>Frankfurt/Main/Düsseldorf</td>\n",
       "      <td>Nachdem mehr und mehr Fälle von Covid-19-Infek...</td>\n",
       "      <td>770</td>\n",
       "      <td>6.137662</td>\n",
       "      <td>22</td>\n",
       "      <td>6</td>\n",
       "      <td>0.391847</td>\n",
       "    </tr>\n",
       "    <tr>\n",
       "      <th>50434977</th>\n",
       "      <td>1956</td>\n",
       "      <td>1865</td>\n",
       "      <td>1848</td>\n",
       "      <td>1779</td>\n",
       "      <td>29972</td>\n",
       "      <td></td>\n",
       "      <td>277.518519</td>\n",
       "      <td>5.521472</td>\n",
       "      <td>95.347648</td>\n",
       "      <td>90.950920</td>\n",
       "      <td>...</td>\n",
       "      <td></td>\n",
       "      <td>181</td>\n",
       "      <td>vm</td>\n",
       "      <td>Frankfurt/Main/Kiel</td>\n",
       "      <td>Mitarbeiter in ungekündigter Anstellung dürfen...</td>\n",
       "      <td>178</td>\n",
       "      <td>6.825843</td>\n",
       "      <td>22</td>\n",
       "      <td>8</td>\n",
       "      <td>1.533251</td>\n",
       "    </tr>\n",
       "    <tr>\n",
       "      <th>49473155</th>\n",
       "      <td>1887</td>\n",
       "      <td>712</td>\n",
       "      <td>1006</td>\n",
       "      <td>587</td>\n",
       "      <td>169090</td>\n",
       "      <td></td>\n",
       "      <td>191.929625</td>\n",
       "      <td>46.687864</td>\n",
       "      <td>37.731849</td>\n",
       "      <td>31.107578</td>\n",
       "      <td>...</td>\n",
       "      <td></td>\n",
       "      <td>708</td>\n",
       "      <td>vm</td>\n",
       "      <td>Düsseldorf</td>\n",
       "      <td>Um die Verbreitung des neuen Coronavirus Sars-...</td>\n",
       "      <td>718</td>\n",
       "      <td>5.988858</td>\n",
       "      <td>23</td>\n",
       "      <td>7</td>\n",
       "      <td>0.271087</td>\n",
       "    </tr>\n",
       "    <tr>\n",
       "      <th>49321583</th>\n",
       "      <td>1709</td>\n",
       "      <td>1226</td>\n",
       "      <td>1333</td>\n",
       "      <td>1085</td>\n",
       "      <td>92555</td>\n",
       "      <td></td>\n",
       "      <td>246.156915</td>\n",
       "      <td>22.001170</td>\n",
       "      <td>71.737858</td>\n",
       "      <td>63.487420</td>\n",
       "      <td>...</td>\n",
       "      <td></td>\n",
       "      <td>882</td>\n",
       "      <td>vm</td>\n",
       "      <td>Berlin</td>\n",
       "      <td>Der neuartige Coronavirus Sars-Cov-2 verbreite...</td>\n",
       "      <td>889</td>\n",
       "      <td>5.823397</td>\n",
       "      <td>29</td>\n",
       "      <td>7</td>\n",
       "      <td>0.279089</td>\n",
       "    </tr>\n",
       "    <tr>\n",
       "      <th>...</th>\n",
       "      <td>...</td>\n",
       "      <td>...</td>\n",
       "      <td>...</td>\n",
       "      <td>...</td>\n",
       "      <td>...</td>\n",
       "      <td>...</td>\n",
       "      <td>...</td>\n",
       "      <td>...</td>\n",
       "      <td>...</td>\n",
       "      <td>...</td>\n",
       "      <td>...</td>\n",
       "      <td>...</td>\n",
       "      <td>...</td>\n",
       "      <td>...</td>\n",
       "      <td>...</td>\n",
       "      <td>...</td>\n",
       "      <td>...</td>\n",
       "      <td>...</td>\n",
       "      <td>...</td>\n",
       "      <td>...</td>\n",
       "      <td>...</td>\n",
       "    </tr>\n",
       "    <tr>\n",
       "      <th>49336939</th>\n",
       "      <td>1</td>\n",
       "      <td>1</td>\n",
       "      <td>1</td>\n",
       "      <td>1</td>\n",
       "      <td>0</td>\n",
       "      <td></td>\n",
       "      <td>0.000000</td>\n",
       "      <td>0.000000</td>\n",
       "      <td>100.000000</td>\n",
       "      <td>100.000000</td>\n",
       "      <td>...</td>\n",
       "      <td></td>\n",
       "      <td>115</td>\n",
       "      <td>vm</td>\n",
       "      <td>Wolfsburg</td>\n",
       "      <td>VW erhöht die Spannung und bringt sein zweites...</td>\n",
       "      <td>112</td>\n",
       "      <td>5.419643</td>\n",
       "      <td>19</td>\n",
       "      <td>9</td>\n",
       "      <td>0.000000</td>\n",
       "    </tr>\n",
       "    <tr>\n",
       "      <th>50555957</th>\n",
       "      <td>1</td>\n",
       "      <td>0</td>\n",
       "      <td>0</td>\n",
       "      <td>0</td>\n",
       "      <td>53</td>\n",
       "      <td></td>\n",
       "      <td>53.000000</td>\n",
       "      <td>100.000000</td>\n",
       "      <td>0.000000</td>\n",
       "      <td>0.000000</td>\n",
       "      <td>...</td>\n",
       "      <td></td>\n",
       "      <td>152</td>\n",
       "      <td>vm</td>\n",
       "      <td>Hamburg</td>\n",
       "      <td>Bereits ab einem Beschäftigten muss ein Untern...</td>\n",
       "      <td>155</td>\n",
       "      <td>6.490323</td>\n",
       "      <td>24</td>\n",
       "      <td>6</td>\n",
       "      <td>0.348684</td>\n",
       "    </tr>\n",
       "    <tr>\n",
       "      <th>49338943</th>\n",
       "      <td>1</td>\n",
       "      <td>0</td>\n",
       "      <td>0</td>\n",
       "      <td>0</td>\n",
       "      <td>38</td>\n",
       "      <td></td>\n",
       "      <td>38.000000</td>\n",
       "      <td>100.000000</td>\n",
       "      <td>0.000000</td>\n",
       "      <td>0.000000</td>\n",
       "      <td>...</td>\n",
       "      <td></td>\n",
       "      <td>152</td>\n",
       "      <td>vm</td>\n",
       "      <td>Köln</td>\n",
       "      <td>Die Haut von Kindern ist dünner als die Haut E...</td>\n",
       "      <td>149</td>\n",
       "      <td>5.879195</td>\n",
       "      <td>29</td>\n",
       "      <td>8</td>\n",
       "      <td>0.250000</td>\n",
       "    </tr>\n",
       "    <tr>\n",
       "      <th>50175481</th>\n",
       "      <td>1</td>\n",
       "      <td>1</td>\n",
       "      <td>1</td>\n",
       "      <td>1</td>\n",
       "      <td>0</td>\n",
       "      <td></td>\n",
       "      <td>0.000000</td>\n",
       "      <td>0.000000</td>\n",
       "      <td>100.000000</td>\n",
       "      <td>100.000000</td>\n",
       "      <td>...</td>\n",
       "      <td></td>\n",
       "      <td>220</td>\n",
       "      <td>vm</td>\n",
       "      <td>Köln</td>\n",
       "      <td>In Corona-Zeiten freut man sich umso mehr über...</td>\n",
       "      <td>215</td>\n",
       "      <td>5.739535</td>\n",
       "      <td>23</td>\n",
       "      <td>9</td>\n",
       "      <td>0.000000</td>\n",
       "    </tr>\n",
       "    <tr>\n",
       "      <th>49780369</th>\n",
       "      <td>1</td>\n",
       "      <td>0</td>\n",
       "      <td>0</td>\n",
       "      <td>0</td>\n",
       "      <td>27</td>\n",
       "      <td></td>\n",
       "      <td>27.000000</td>\n",
       "      <td>100.000000</td>\n",
       "      <td>0.000000</td>\n",
       "      <td>0.000000</td>\n",
       "      <td>...</td>\n",
       "      <td></td>\n",
       "      <td>237</td>\n",
       "      <td>vm</td>\n",
       "      <td>Berlin</td>\n",
       "      <td>Autofahrer fahren im Frühling besser ganz beso...</td>\n",
       "      <td>234</td>\n",
       "      <td>5.504274</td>\n",
       "      <td>29</td>\n",
       "      <td>10</td>\n",
       "      <td>0.113924</td>\n",
       "    </tr>\n",
       "  </tbody>\n",
       "</table>\n",
       "<p>891 rows × 35 columns</p>\n",
       "</div>"
      ],
      "text/plain": [
       "           pageviews  entrances  exits  bounces  timeOnPage conversions  \\\n",
       "articleId                                                                 \n",
       "49200513        3047       1119   1693      924      217337               \n",
       "49333693        2487       1877   2032     1699      136927               \n",
       "50434977        1956       1865   1848     1779       29972               \n",
       "49473155        1887        712   1006      587      169090               \n",
       "49321583        1709       1226   1333     1085       92555               \n",
       "...              ...        ...    ...      ...         ...         ...   \n",
       "49336939           1          1      1        1           0               \n",
       "50555957           1          0      0        0          53               \n",
       "49338943           1          0      0        0          38               \n",
       "50175481           1          1      1        1           0               \n",
       "49780369           1          0      0        0          27               \n",
       "\n",
       "           avgTimeOnPage  stickiness  entranceRate  bounceRate  ... titelH3  \\\n",
       "articleId                                                       ...           \n",
       "49200513      160.514771   44.437151     36.724647   30.324910  ...           \n",
       "49333693      300.938462   18.295135     75.472457   68.315239  ...           \n",
       "50434977      277.518519    5.521472     95.347648   90.950920  ...           \n",
       "49473155      191.929625   46.687864     37.731849   31.107578  ...           \n",
       "49321583      246.156915   22.001170     71.737858   63.487420  ...           \n",
       "...                  ...         ...           ...         ...  ...     ...   \n",
       "49336939        0.000000    0.000000    100.000000  100.000000  ...           \n",
       "50555957       53.000000  100.000000      0.000000    0.000000  ...           \n",
       "49338943       38.000000  100.000000      0.000000    0.000000  ...           \n",
       "50175481        0.000000    0.000000    100.000000  100.000000  ...           \n",
       "49780369       27.000000  100.000000      0.000000    0.000000  ...           \n",
       "\n",
       "          wordcount category                       city  \\\n",
       "articleId                                                 \n",
       "49200513        376       vm                       Köln   \n",
       "49333693        768       vm  Frankfurt/Main/Düsseldorf   \n",
       "50434977        181       vm        Frankfurt/Main/Kiel   \n",
       "49473155        708       vm                 Düsseldorf   \n",
       "49321583        882       vm                     Berlin   \n",
       "...             ...      ...                        ...   \n",
       "49336939        115       vm                  Wolfsburg   \n",
       "50555957        152       vm                    Hamburg   \n",
       "49338943        152       vm                       Köln   \n",
       "50175481        220       vm                       Köln   \n",
       "49780369        237       vm                     Berlin   \n",
       "\n",
       "                                           text_preprocessed nr_tokens  \\\n",
       "articleId                                                                \n",
       "49200513   Die neuen Fälle von Ansteckungen mit dem Coron...       379   \n",
       "49333693   Nachdem mehr und mehr Fälle von Covid-19-Infek...       770   \n",
       "50434977   Mitarbeiter in ungekündigter Anstellung dürfen...       178   \n",
       "49473155   Um die Verbreitung des neuen Coronavirus Sars-...       718   \n",
       "49321583   Der neuartige Coronavirus Sars-Cov-2 verbreite...       889   \n",
       "...                                                      ...       ...   \n",
       "49336939   VW erhöht die Spannung und bringt sein zweites...       112   \n",
       "50555957   Bereits ab einem Beschäftigten muss ein Untern...       155   \n",
       "49338943   Die Haut von Kindern ist dünner als die Haut E...       149   \n",
       "50175481   In Corona-Zeiten freut man sich umso mehr über...       215   \n",
       "49780369   Autofahrer fahren im Frühling besser ganz beso...       234   \n",
       "\n",
       "          mean_token_length nr_tokens_teaser nr_tokens_titelH1  \\\n",
       "articleId                                                        \n",
       "49200513           5.598945               28                 7   \n",
       "49333693           6.137662               22                 6   \n",
       "50434977           6.825843               22                 8   \n",
       "49473155           5.988858               23                 7   \n",
       "49321583           5.823397               29                 7   \n",
       "...                     ...              ...               ...   \n",
       "49336939           5.419643               19                 9   \n",
       "50555957           6.490323               24                 6   \n",
       "49338943           5.879195               29                 8   \n",
       "50175481           5.739535               23                 9   \n",
       "49780369           5.504274               29                10   \n",
       "\n",
       "          avgTimeOnPage/wordcount  \n",
       "articleId                          \n",
       "49200513                 0.426901  \n",
       "49333693                 0.391847  \n",
       "50434977                 1.533251  \n",
       "49473155                 0.271087  \n",
       "49321583                 0.279089  \n",
       "...                           ...  \n",
       "49336939                 0.000000  \n",
       "50555957                 0.348684  \n",
       "49338943                 0.250000  \n",
       "50175481                 0.000000  \n",
       "49780369                 0.113924  \n",
       "\n",
       "[891 rows x 35 columns]"
      ]
     },
     "execution_count": 220,
     "metadata": {},
     "output_type": "execute_result"
    }
   ],
   "source": [
    "#df.sort_values(by=['avgTimeOnPage/wordcount'], ascending = False)\n",
    "df.sort_values(by=['pageviews'], ascending = False)\n",
    "#df.sort_values(by=['mean_token_length'])"
   ]
  },
  {
   "cell_type": "code",
   "execution_count": 233,
   "metadata": {},
   "outputs": [
    {
     "data": {
      "text/html": [
       "<div>\n",
       "<style scoped>\n",
       "    .dataframe tbody tr th:only-of-type {\n",
       "        vertical-align: middle;\n",
       "    }\n",
       "\n",
       "    .dataframe tbody tr th {\n",
       "        vertical-align: top;\n",
       "    }\n",
       "\n",
       "    .dataframe thead th {\n",
       "        text-align: right;\n",
       "    }\n",
       "</style>\n",
       "<table border=\"1\" class=\"dataframe\">\n",
       "  <thead>\n",
       "    <tr style=\"text-align: right;\">\n",
       "      <th></th>\n",
       "      <th>pageviews</th>\n",
       "      <th>entrances</th>\n",
       "      <th>exits</th>\n",
       "      <th>bounces</th>\n",
       "      <th>timeOnPage</th>\n",
       "      <th>avgTimeOnPage</th>\n",
       "      <th>stickiness</th>\n",
       "      <th>nr_tokens</th>\n",
       "      <th>nr_tokens_teaser</th>\n",
       "      <th>nr_tokens_titelH1</th>\n",
       "    </tr>\n",
       "  </thead>\n",
       "  <tbody>\n",
       "    <tr>\n",
       "      <th>count</th>\n",
       "      <td>891.00</td>\n",
       "      <td>891.00</td>\n",
       "      <td>891.00</td>\n",
       "      <td>891.00</td>\n",
       "      <td>891.00</td>\n",
       "      <td>891.00</td>\n",
       "      <td>891.00</td>\n",
       "      <td>891.00</td>\n",
       "      <td>891.00</td>\n",
       "      <td>891.00</td>\n",
       "    </tr>\n",
       "    <tr>\n",
       "      <th>mean</th>\n",
       "      <td>35.46</td>\n",
       "      <td>16.16</td>\n",
       "      <td>20.36</td>\n",
       "      <td>14.32</td>\n",
       "      <td>2114.95</td>\n",
       "      <td>114.67</td>\n",
       "      <td>58.26</td>\n",
       "      <td>344.73</td>\n",
       "      <td>25.82</td>\n",
       "      <td>7.92</td>\n",
       "    </tr>\n",
       "    <tr>\n",
       "      <th>std</th>\n",
       "      <td>189.99</td>\n",
       "      <td>113.58</td>\n",
       "      <td>131.15</td>\n",
       "      <td>102.73</td>\n",
       "      <td>11761.13</td>\n",
       "      <td>125.97</td>\n",
       "      <td>24.73</td>\n",
       "      <td>217.73</td>\n",
       "      <td>5.49</td>\n",
       "      <td>1.56</td>\n",
       "    </tr>\n",
       "    <tr>\n",
       "      <th>min</th>\n",
       "      <td>1.00</td>\n",
       "      <td>0.00</td>\n",
       "      <td>0.00</td>\n",
       "      <td>0.00</td>\n",
       "      <td>0.00</td>\n",
       "      <td>0.00</td>\n",
       "      <td>0.00</td>\n",
       "      <td>73.00</td>\n",
       "      <td>0.00</td>\n",
       "      <td>3.00</td>\n",
       "    </tr>\n",
       "    <tr>\n",
       "      <th>25%</th>\n",
       "      <td>6.00</td>\n",
       "      <td>1.00</td>\n",
       "      <td>2.00</td>\n",
       "      <td>0.00</td>\n",
       "      <td>187.00</td>\n",
       "      <td>45.60</td>\n",
       "      <td>43.61</td>\n",
       "      <td>169.00</td>\n",
       "      <td>24.00</td>\n",
       "      <td>7.00</td>\n",
       "    </tr>\n",
       "    <tr>\n",
       "      <th>50%</th>\n",
       "      <td>10.00</td>\n",
       "      <td>2.00</td>\n",
       "      <td>3.00</td>\n",
       "      <td>2.00</td>\n",
       "      <td>494.00</td>\n",
       "      <td>80.00</td>\n",
       "      <td>60.00</td>\n",
       "      <td>262.00</td>\n",
       "      <td>27.00</td>\n",
       "      <td>8.00</td>\n",
       "    </tr>\n",
       "    <tr>\n",
       "      <th>75%</th>\n",
       "      <td>17.00</td>\n",
       "      <td>5.00</td>\n",
       "      <td>7.00</td>\n",
       "      <td>4.00</td>\n",
       "      <td>1177.50</td>\n",
       "      <td>143.44</td>\n",
       "      <td>75.00</td>\n",
       "      <td>504.00</td>\n",
       "      <td>29.00</td>\n",
       "      <td>9.00</td>\n",
       "    </tr>\n",
       "    <tr>\n",
       "      <th>max</th>\n",
       "      <td>3047.00</td>\n",
       "      <td>1877.00</td>\n",
       "      <td>2032.00</td>\n",
       "      <td>1779.00</td>\n",
       "      <td>217337.00</td>\n",
       "      <td>1490.00</td>\n",
       "      <td>100.00</td>\n",
       "      <td>1431.00</td>\n",
       "      <td>36.00</td>\n",
       "      <td>13.00</td>\n",
       "    </tr>\n",
       "  </tbody>\n",
       "</table>\n",
       "</div>"
      ],
      "text/plain": [
       "       pageviews  entrances    exits  bounces  timeOnPage  avgTimeOnPage  \\\n",
       "count     891.00     891.00   891.00   891.00      891.00         891.00   \n",
       "mean       35.46      16.16    20.36    14.32     2114.95         114.67   \n",
       "std       189.99     113.58   131.15   102.73    11761.13         125.97   \n",
       "min         1.00       0.00     0.00     0.00        0.00           0.00   \n",
       "25%         6.00       1.00     2.00     0.00      187.00          45.60   \n",
       "50%        10.00       2.00     3.00     2.00      494.00          80.00   \n",
       "75%        17.00       5.00     7.00     4.00     1177.50         143.44   \n",
       "max      3047.00    1877.00  2032.00  1779.00   217337.00        1490.00   \n",
       "\n",
       "       stickiness  nr_tokens  nr_tokens_teaser  nr_tokens_titelH1  \n",
       "count      891.00     891.00            891.00             891.00  \n",
       "mean        58.26     344.73             25.82               7.92  \n",
       "std         24.73     217.73              5.49               1.56  \n",
       "min          0.00      73.00              0.00               3.00  \n",
       "25%         43.61     169.00             24.00               7.00  \n",
       "50%         60.00     262.00             27.00               8.00  \n",
       "75%         75.00     504.00             29.00               9.00  \n",
       "max        100.00    1431.00             36.00              13.00  "
      ]
     },
     "execution_count": 233,
     "metadata": {},
     "output_type": "execute_result"
    }
   ],
   "source": [
    "df[['pageviews', 'entrances', 'exits', 'bounces', 'timeOnPage', 'avgTimeOnPage', 'stickiness', 'nr_tokens', 'nr_tokens_teaser', 'nr_tokens_titelH1']].describe().round(2)"
   ]
  },
  {
   "cell_type": "code",
   "execution_count": 222,
   "metadata": {},
   "outputs": [],
   "source": [
    "# saving modified (added columns) DataFrame (df) to encrypted folder\n",
    "df.to_csv(ROOT / '200707_aachener_zeitung_modified.csv')"
   ]
  },
  {
   "cell_type": "code",
   "execution_count": 223,
   "metadata": {},
   "outputs": [
    {
     "data": {
      "text/plain": [
       "(array([ 56., 128., 147.,  88.,  69.,  41.,  34.,  30.,  31.,  66.,  42.,\n",
       "         46.,  32.,  18.,  14.,  12.,  12.,   4.,   9.,   3.,   3.,   2.,\n",
       "          1.,   1.,   0.,   0.,   0.,   0.,   0.,   2.]),\n",
       " array([  74.        ,  117.33333333,  160.66666667,  204.        ,\n",
       "         247.33333333,  290.66666667,  334.        ,  377.33333333,\n",
       "         420.66666667,  464.        ,  507.33333333,  550.66666667,\n",
       "         594.        ,  637.33333333,  680.66666667,  724.        ,\n",
       "         767.33333333,  810.66666667,  854.        ,  897.33333333,\n",
       "         940.66666667,  984.        , 1027.33333333, 1070.66666667,\n",
       "        1114.        , 1157.33333333, 1200.66666667, 1244.        ,\n",
       "        1287.33333333, 1330.66666667, 1374.        ]),\n",
       " <a list of 30 Patch objects>)"
      ]
     },
     "execution_count": 223,
     "metadata": {},
     "output_type": "execute_result"
    },
    {
     "data": {
      "image/png": "[encoded data removed]",
      "text/plain": [
       "<Figure size 432x288 with 1 Axes>"
      ]
     },
     "metadata": {
      "needs_background": "light"
     },
     "output_type": "display_data"
    }
   ],
   "source": [
    "plt.hist(df.wordcount, density=False, bins=30)"
   ]
  },
  {
   "cell_type": "code",
   "execution_count": 224,
   "metadata": {},
   "outputs": [
    {
     "data": {
      "text/plain": [
       "(array([337., 273., 109.,  62.,  28.,  17.,   9.,   4.,   5.,   5.,   2.,\n",
       "          1.,   0.,   2.,   4.,   2.,   1.,   1.,   2.,   2.,   4.,   1.,\n",
       "          1.,   2.,   0.,   0.,   1.,   0.,   0.,   1.]),\n",
       " array([  1. ,   7.6,  14.2,  20.8,  27.4,  34. ,  40.6,  47.2,  53.8,\n",
       "         60.4,  67. ,  73.6,  80.2,  86.8,  93.4, 100. , 106.6, 113.2,\n",
       "        119.8, 126.4, 133. , 139.6, 146.2, 152.8, 159.4, 166. , 172.6,\n",
       "        179.2, 185.8, 192.4, 199. ]),\n",
       " <a list of 30 Patch objects>)"
      ]
     },
     "execution_count": 224,
     "metadata": {},
     "output_type": "execute_result"
    },
    {
     "data": {
      "image/png": "[encoded data removed]",
      "text/plain": [
       "<Figure size 432x288 with 1 Axes>"
      ]
     },
     "metadata": {
      "needs_background": "light"
     },
     "output_type": "display_data"
    }
   ],
   "source": [
    "#plt.hist(df.pageviews, density=False, bins=30)\n",
    "plt.hist(df[df.pageviews <200].pageviews, density=False, bins=30)\n",
    "\n",
    "# man sieht: die allermeisten Artikel haben 0-50 pageviews, es gibt eber riesige Ausreißer nach oben, wie damit umgehen?"
   ]
  },
  {
   "cell_type": "code",
   "execution_count": 225,
   "metadata": {},
   "outputs": [
    {
     "data": {
      "text/plain": [
       "(array([172., 125.,  95.,  68.,  64.,  44.,  39.,  34.,  28.,  21.,  18.,\n",
       "         18.,   6.,  13.,  14.,  14.,  15.,  12.,   3.,   4.,   6.,   4.,\n",
       "          6.,   3.,   5.,   6.,   1.,   2.,   3.,   3.]),\n",
       " array([   0.        ,  132.26666667,  264.53333333,  396.8       ,\n",
       "         529.06666667,  661.33333333,  793.6       ,  925.86666667,\n",
       "        1058.13333333, 1190.4       , 1322.66666667, 1454.93333333,\n",
       "        1587.2       , 1719.46666667, 1851.73333333, 1984.        ,\n",
       "        2116.26666667, 2248.53333333, 2380.8       , 2513.06666667,\n",
       "        2645.33333333, 2777.6       , 2909.86666667, 3042.13333333,\n",
       "        3174.4       , 3306.66666667, 3438.93333333, 3571.2       ,\n",
       "        3703.46666667, 3835.73333333, 3968.        ]),\n",
       " <a list of 30 Patch objects>)"
      ]
     },
     "execution_count": 225,
     "metadata": {},
     "output_type": "execute_result"
    },
    {
     "data": {
      "image/png": "[encoded data removed]",
      "text/plain": [
       "<Figure size 432x288 with 1 Axes>"
      ]
     },
     "metadata": {
      "needs_background": "light"
     },
     "output_type": "display_data"
    }
   ],
   "source": [
    "plt.hist(df[df.timeOnPage <4000].timeOnPage, density=False, bins=30)"
   ]
  },
  {
   "cell_type": "code",
   "execution_count": 226,
   "metadata": {},
   "outputs": [
    {
     "data": {
      "text/plain": [
       "(array([651., 121.,  30.,  20.,  10.,   9.,  11.,   2.,   4.,   2.,   3.,\n",
       "          2.,   1.,   1.,   2.,   1.,   2.,   0.,   2.,   0.,   1.,   0.,\n",
       "          1.,   1.,   0.,   0.,   0.,   0.,   0.,   2.]),\n",
       " array([  0. ,   4.6,   9.2,  13.8,  18.4,  23. ,  27.6,  32.2,  36.8,\n",
       "         41.4,  46. ,  50.6,  55.2,  59.8,  64.4,  69. ,  73.6,  78.2,\n",
       "         82.8,  87.4,  92. ,  96.6, 101.2, 105.8, 110.4, 115. , 119.6,\n",
       "        124.2, 128.8, 133.4, 138. ]),\n",
       " <a list of 30 Patch objects>)"
      ]
     },
     "execution_count": 226,
     "metadata": {},
     "output_type": "execute_result"
    },
    {
     "data": {
      "image/png": "[encoded data removed]",
      "text/plain": [
       "<Figure size 432x288 with 1 Axes>"
      ]
     },
     "metadata": {
      "needs_background": "light"
     },
     "output_type": "display_data"
    }
   ],
   "source": [
    "plt.hist(df[df.entrances <150].entrances, density=False, bins=30)"
   ]
  },
  {
   "cell_type": "code",
   "execution_count": 227,
   "metadata": {},
   "outputs": [
    {
     "data": {
      "text/plain": [
       "<matplotlib.axes._subplots.AxesSubplot at 0x7fdeaa5bea90>"
      ]
     },
     "execution_count": 227,
     "metadata": {},
     "output_type": "execute_result"
    },
    {
     "data": {
      "image/png": "[encoded data removed]",
      "text/plain": [
       "<Figure size 432x288 with 1 Axes>"
      ]
     },
     "metadata": {
      "needs_background": "light"
     },
     "output_type": "display_data"
    }
   ],
   "source": [
    "import seaborn as sns\n",
    "sns.boxplot(x=df.pageviews)"
   ]
  },
  {
   "cell_type": "code",
   "execution_count": 228,
   "metadata": {},
   "outputs": [
    {
     "data": {
      "text/plain": [
       "<matplotlib.legend.Legend at 0x7fdeaa84fc50>"
      ]
     },
     "execution_count": 228,
     "metadata": {},
     "output_type": "execute_result"
    },
    {
     "data": {
      "image/png": "[encoded data removed]",
      "text/plain": [
       "<Figure size 432x288 with 1 Axes>"
      ]
     },
     "metadata": {
      "needs_background": "light"
     },
     "output_type": "display_data"
    }
   ],
   "source": [
    "# sorted to see it better\n",
    "fig, ax = plt.subplots()\n",
    "#plt.plot(df.sort_values(by=['timeOnPage'], ascending = False).timeOnPage.to_numpy(), label = 'timeOnPage')\n",
    "plt.plot(df.sort_values(by=['pageviews'], ascending = False).pageviews.to_numpy(), label = 'pageviews')\n",
    "ax.legend()"
   ]
  },
  {
   "cell_type": "code",
   "execution_count": null,
   "metadata": {},
   "outputs": [],
   "source": []
  },
  {
   "cell_type": "code",
   "execution_count": null,
   "metadata": {},
   "outputs": [],
   "source": []
  },
  {
   "cell_type": "code",
   "execution_count": null,
   "metadata": {},
   "outputs": [],
   "source": []
  },
  {
   "cell_type": "code",
   "execution_count": null,
   "metadata": {},
   "outputs": [],
   "source": []
  }
 ],
 "metadata": {
  "kernelspec": {
   "display_name": "Python 3",
   "language": "python",
   "name": "python3"
  },
  "language_info": {
   "codemirror_mode": {
    "name": "ipython",
    "version": 3
   },
   "file_extension": ".py",
   "mimetype": "text/x-python",
   "name": "python",
   "nbconvert_exporter": "python",
   "pygments_lexer": "ipython3",
   "version": "3.7.7"
  }
 },
 "nbformat": 4,
 "nbformat_minor": 4
}
